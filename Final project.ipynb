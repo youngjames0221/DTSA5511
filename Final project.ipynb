{
 "cells": [
  {
   "cell_type": "markdown",
   "metadata": {},
   "source": [
    "# 1. Import libraries"
   ]
  },
  {
   "cell_type": "code",
   "execution_count": 2,
   "metadata": {
    "collapsed": true
   },
   "outputs": [
    {
     "ename": "ImportError",
     "evalue": "cannot import name 'pad_sequences' from 'keras.preprocessing.sequence' (c:\\users\\joonp\\anaconda3\\lib\\site-packages\\keras\\preprocessing\\sequence.py)",
     "output_type": "error",
     "traceback": [
      "\u001b[1;31m---------------------------------------------------------------------------\u001b[0m",
      "\u001b[1;31mImportError\u001b[0m                               Traceback (most recent call last)",
      "Input \u001b[1;32mIn [2]\u001b[0m, in \u001b[0;36m<cell line: 6>\u001b[1;34m()\u001b[0m\n\u001b[0;32m      4\u001b[0m \u001b[38;5;28;01mfrom\u001b[39;00m \u001b[38;5;21;01mkeras\u001b[39;00m\u001b[38;5;21;01m.\u001b[39;00m\u001b[38;5;21;01mutils\u001b[39;00m\u001b[38;5;21;01m.\u001b[39;00m\u001b[38;5;21;01mnp_utils\u001b[39;00m \u001b[38;5;28;01mimport\u001b[39;00m to_categorical\n\u001b[0;32m      5\u001b[0m \u001b[38;5;28;01mfrom\u001b[39;00m \u001b[38;5;21;01mkeras\u001b[39;00m\u001b[38;5;21;01m.\u001b[39;00m\u001b[38;5;21;01mpreprocessing\u001b[39;00m\u001b[38;5;21;01m.\u001b[39;00m\u001b[38;5;21;01mtext\u001b[39;00m \u001b[38;5;28;01mimport\u001b[39;00m Tokenizer\n\u001b[1;32m----> 6\u001b[0m \u001b[38;5;28;01mfrom\u001b[39;00m \u001b[38;5;21;01mkeras\u001b[39;00m\u001b[38;5;21;01m.\u001b[39;00m\u001b[38;5;21;01mpreprocessing\u001b[39;00m\u001b[38;5;21;01m.\u001b[39;00m\u001b[38;5;21;01msequence\u001b[39;00m \u001b[38;5;28;01mimport\u001b[39;00m pad_sequences\n\u001b[0;32m      7\u001b[0m \u001b[38;5;28;01mfrom\u001b[39;00m \u001b[38;5;21;01mkeras\u001b[39;00m\u001b[38;5;21;01m.\u001b[39;00m\u001b[38;5;21;01mmodels\u001b[39;00m \u001b[38;5;28;01mimport\u001b[39;00m Sequential\n\u001b[0;32m      8\u001b[0m \u001b[38;5;28;01mfrom\u001b[39;00m \u001b[38;5;21;01mkeras\u001b[39;00m\u001b[38;5;21;01m.\u001b[39;00m\u001b[38;5;21;01mlayers\u001b[39;00m \u001b[38;5;28;01mimport\u001b[39;00m Dense\n",
      "\u001b[1;31mImportError\u001b[0m: cannot import name 'pad_sequences' from 'keras.preprocessing.sequence' (c:\\users\\joonp\\anaconda3\\lib\\site-packages\\keras\\preprocessing\\sequence.py)"
     ]
    }
   ],
   "source": [
    "import keras\n",
    "from numpy import asarray\n",
    "from numpy import zeros\n",
    "from keras.utils.np_utils import to_categorical\n",
    "from keras.preprocessing.text import Tokenizer\n",
    "from keras.preprocessing.sequence import pad_sequences\n",
    "from keras.models import Sequential\n",
    "from keras.layers import Dense\n",
    "from keras.layers import Flatten\n",
    "from keras.layers import Embedding\n",
    "import re\n",
    "import csv\n",
    "import pandas\n",
    "import numpy as np\n",
    "from tensorflow.contrib import rnn\n",
    "import tensorflow as tf\n",
    "import matplotlib.pyplot as plt"
   ]
  },
  {
   "cell_type": "markdown",
   "metadata": {},
   "source": [
    "# 2. Data Import and Preprocessing"
   ]
  },
  {
   "cell_type": "markdown",
   "metadata": {},
   "source": [
    "# 2.1 Loading train data"
   ]
  },
  {
   "cell_type": "code",
   "execution_count": 95,
   "metadata": {},
   "outputs": [
    {
     "name": "stdout",
     "output_type": "stream",
     "text": [
      "(7613, 5)\n"
     ]
    }
   ],
   "source": [
    "#Loading train data\n",
    "train_file = 'train.csv'\n",
    "train_corpus = pandas.read_csv(train_file, encoding='latin1').to_numpy()\n",
    "\n",
    "print(train_corpus.shape)"
   ]
  },
  {
   "cell_type": "code",
   "execution_count": 12,
   "metadata": {},
   "outputs": [
    {
     "data": {
      "text/plain": [
       "array([[1, nan, nan,\n",
       "        'Our Deeds are the Reason of this #earthquake May ALLAH Forgive us all',\n",
       "        1],\n",
       "       [4, nan, nan, 'Forest fire near La Ronge Sask. Canada', 1],\n",
       "       [5, nan, nan,\n",
       "        \"All residents asked to 'shelter in place' are being notified by officers. No other evacuation or shelter in place orders are expected\",\n",
       "        1],\n",
       "       [6, nan, nan,\n",
       "        '13,000 people receive #wildfires evacuation orders in California ',\n",
       "        1],\n",
       "       [7, nan, nan,\n",
       "        'Just got sent this photo from Ruby #Alaska as smoke from #wildfires pours into a school ',\n",
       "        1]], dtype=object)"
      ]
     },
     "execution_count": 12,
     "metadata": {},
     "output_type": "execute_result"
    }
   ],
   "source": [
    "#Head of train data to verify\n",
    "train_corpus[:5]"
   ]
  },
  {
   "cell_type": "code",
   "execution_count": 16,
   "metadata": {},
   "outputs": [
    {
     "data": {
      "text/plain": [
       "array([[10869, nan, nan,\n",
       "        'Two giant cranes holding a bridge collapse into nearby homes http://t.co/STfMbbZFB5',\n",
       "        1],\n",
       "       [10870, nan, nan,\n",
       "        '@aria_ahrary @TheTawniest The out of control wild fires in California even in the Northern part of the state. Very troubling.',\n",
       "        1],\n",
       "       [10871, nan, nan,\n",
       "        'M1.94 [01:04 UTC]?5km S of Volcano Hawaii. http://t.co/zDtoyd8EbJ',\n",
       "        1],\n",
       "       [10872, nan, nan,\n",
       "        'Police investigating after an e-bike collided with a car in Little Portugal. E-bike rider suffered serious non-life threatening injuries.',\n",
       "        1],\n",
       "       [10873, nan, nan,\n",
       "        'The Latest: More Homes Razed by Northern California Wildfire - ABC News http://t.co/YmY4rSkQ3d',\n",
       "        1]], dtype=object)"
      ]
     },
     "execution_count": 16,
     "metadata": {},
     "output_type": "execute_result"
    }
   ],
   "source": [
    "#Tail of the train data to verify\n",
    "train_corpus[-5:]"
   ]
  },
  {
   "cell_type": "code",
   "execution_count": 1,
   "metadata": {
    "collapsed": true
   },
   "outputs": [
    {
     "ename": "NameError",
     "evalue": "name 'train_corpus' is not defined",
     "output_type": "error",
     "traceback": [
      "\u001b[1;31m---------------------------------------------------------------------------\u001b[0m",
      "\u001b[1;31mNameError\u001b[0m                                 Traceback (most recent call last)",
      "Input \u001b[1;32mIn [1]\u001b[0m, in \u001b[0;36m<cell line: 1>\u001b[1;34m()\u001b[0m\n\u001b[1;32m----> 1\u001b[0m train_label \u001b[38;5;241m=\u001b[39m \u001b[43mtrain_corpus\u001b[49m[:,\u001b[38;5;241m4\u001b[39m] \n\u001b[0;32m      2\u001b[0m train_text \u001b[38;5;241m=\u001b[39m train_corpus[:,\u001b[38;5;241m3\u001b[39m] \n\u001b[0;32m      3\u001b[0m \u001b[38;5;28mprint\u001b[39m(train_label)\n",
      "\u001b[1;31mNameError\u001b[0m: name 'train_corpus' is not defined"
     ]
    }
   ],
   "source": [
    "train_label = train_corpus[:,4] \n",
    "train_text = train_corpus[:,3] "
   ]
  },
  {
   "cell_type": "markdown",
   "metadata": {},
   "source": [
    "# 2.2 Removing hyperlinks from Train data"
   ]
  },
  {
   "cell_type": "code",
   "execution_count": 19,
   "metadata": {},
   "outputs": [],
   "source": [
    "#As we observed in the head and tail of the train data, we see there are many hyperlinks in between the data.\n",
    "#So to simplify our process, we want to remove the hyperlinks from the data\n",
    "for idx, tweet in enumerate(train_text):\n",
    "    train_text[idx] = re.sub(r\"http\\S+\", \"\", tweet)"
   ]
  },
  {
   "cell_type": "code",
   "execution_count": 21,
   "metadata": {},
   "outputs": [
    {
     "data": {
      "text/plain": [
       "array([[10869, nan, nan,\n",
       "        'Two giant cranes holding a bridge collapse into nearby homes ',\n",
       "        1],\n",
       "       [10870, nan, nan,\n",
       "        '@aria_ahrary @TheTawniest The out of control wild fires in California even in the Northern part of the state. Very troubling.',\n",
       "        1],\n",
       "       [10871, nan, nan, 'M1.94 [01:04 UTC]?5km S of Volcano Hawaii. ',\n",
       "        1],\n",
       "       [10872, nan, nan,\n",
       "        'Police investigating after an e-bike collided with a car in Little Portugal. E-bike rider suffered serious non-life threatening injuries.',\n",
       "        1],\n",
       "       [10873, nan, nan,\n",
       "        'The Latest: More Homes Razed by Northern California Wildfire - ABC News ',\n",
       "        1]], dtype=object)"
      ]
     },
     "execution_count": 21,
     "metadata": {},
     "output_type": "execute_result"
    }
   ],
   "source": [
    "#Verifying that the hyperlinks are removed.\n",
    "train_corpus[-5:]"
   ]
  },
  {
   "cell_type": "code",
   "execution_count": 29,
   "metadata": {},
   "outputs": [
    {
     "name": "stdout",
     "output_type": "stream",
     "text": [
      "class:  ndarray\n",
      "shape:  (7613, 5)\n",
      "strides:  (8, 60904)\n",
      "itemsize:  8\n",
      "aligned:  True\n",
      "contiguous:  False\n",
      "fortran:  True\n",
      "data pointer: 0x1a4a3ab000\n",
      "byteorder:  little\n",
      "byteswap:  False\n",
      "type: object\n"
     ]
    }
   ],
   "source": [
    "np.info(train_corpus)"
   ]
  },
  {
   "cell_type": "markdown",
   "metadata": {},
   "source": [
    "# 2.3 Loading test data"
   ]
  },
  {
   "cell_type": "code",
   "execution_count": 46,
   "metadata": {},
   "outputs": [
    {
     "name": "stdout",
     "output_type": "stream",
     "text": [
      "(3263, 4)\n"
     ]
    }
   ],
   "source": [
    "#Loading test data\n",
    "test_file = 'data/test.csv'\n",
    "test_corpus = pandas.read_csv(test_file, encoding='latin1').to_numpy()\n",
    "\n",
    "print(test_corpus.shape)"
   ]
  },
  {
   "cell_type": "code",
   "execution_count": 47,
   "metadata": {},
   "outputs": [
    {
     "data": {
      "text/plain": [
       "array([[0, nan, nan, 'Just happened a terrible car crash'],\n",
       "       [2, nan, nan,\n",
       "        'Heard about #earthquake is different cities, stay safe everyone.'],\n",
       "       [3, nan, nan,\n",
       "        'there is a forest fire at spot pond, geese are fleeing across the street, I cannot save them all'],\n",
       "       [9, nan, nan, 'Apocalypse lighting. #Spokane #wildfires'],\n",
       "       [11, nan, nan, 'Typhoon Soudelor kills 28 in China and Taiwan']],\n",
       "      dtype=object)"
      ]
     },
     "execution_count": 47,
     "metadata": {},
     "output_type": "execute_result"
    }
   ],
   "source": [
    "#Head of test data to verify\n",
    "test_corpus[:5]"
   ]
  },
  {
   "cell_type": "code",
   "execution_count": 48,
   "metadata": {},
   "outputs": [
    {
     "data": {
      "text/plain": [
       "array([[10861, nan, nan,\n",
       "        'EARTHQUAKE SAFETY LOS ANGELES Â\\x89Ã\\x9bÃ\\x92 SAFETY FASTENERS XrWn'],\n",
       "       [10865, nan, nan,\n",
       "        'Storm in RI worse than last hurricane. My city&amp;3others hardest hit. My yard looks like it was bombed. Around 20000K still without power'],\n",
       "       [10868, nan, nan,\n",
       "        'Green Line derailment in Chicago http://t.co/UtbXLcBIuY'],\n",
       "       [10874, nan, nan,\n",
       "        'MEG issues Hazardous Weather Outlook (HWO) http://t.co/3X6RBQJHn3'],\n",
       "       [10875, nan, nan,\n",
       "        '#CityofCalgary has activated its Municipal Emergency Plan. #yycstorm']],\n",
       "      dtype=object)"
      ]
     },
     "execution_count": 48,
     "metadata": {},
     "output_type": "execute_result"
    }
   ],
   "source": [
    "#Tail of the test data to verify\n",
    "test_corpus[-5:]"
   ]
  },
  {
   "cell_type": "code",
   "execution_count": 49,
   "metadata": {},
   "outputs": [],
   "source": [
    "test_label = np.zeros((3263, 1), dtype=int) #Since this is what is missing and we need to predict, we are initiating it with zeroes\n",
    "test_text = test_corpus[:,3] #id,keyword,location,text (all the given four attributes)"
   ]
  },
  {
   "cell_type": "markdown",
   "metadata": {},
   "source": [
    "# 2.4 Removing hyperlinks from Test data\n"
   ]
  },
  {
   "cell_type": "code",
   "execution_count": 50,
   "metadata": {},
   "outputs": [],
   "source": [
    "# Remove hyperlinks from strings\n",
    "\n",
    "for idx, tweet in enumerate(test_text):\n",
    "    test_text[idx] = re.sub(r\"http\\S+\", \"\", tweet)"
   ]
  },
  {
   "cell_type": "code",
   "execution_count": 51,
   "metadata": {},
   "outputs": [
    {
     "name": "stdout",
     "output_type": "stream",
     "text": [
      "class:  ndarray\n",
      "shape:  (3263, 4)\n",
      "strides:  (8, 26104)\n",
      "itemsize:  8\n",
      "aligned:  True\n",
      "contiguous:  False\n",
      "fortran:  True\n",
      "data pointer: 0x13f311000\n",
      "byteorder:  little\n",
      "byteswap:  False\n",
      "type: object\n"
     ]
    }
   ],
   "source": [
    "np.info(test_corpus)"
   ]
  },
  {
   "cell_type": "markdown",
   "metadata": {},
   "source": [
    "# 2.5. One-Hot encoding of label"
   ]
  },
  {
   "cell_type": "code",
   "execution_count": 52,
   "metadata": {},
   "outputs": [
    {
     "name": "stdout",
     "output_type": "stream",
     "text": [
      "[[0. 1.]\n",
      " [0. 1.]\n",
      " [0. 1.]\n",
      " ...\n",
      " [0. 1.]\n",
      " [0. 1.]\n",
      " [0. 1.]]\n"
     ]
    }
   ],
   "source": [
    "from keras.utils.np_utils import to_categorical\n",
    "\n",
    "# One-hot encode\n",
    "train_targets = train_label\n",
    "encoded_train_targets = to_categorical(train_targets)\n",
    "print(encoded_train_targets)"
   ]
  },
  {
   "cell_type": "code",
   "execution_count": 53,
   "metadata": {},
   "outputs": [],
   "source": [
    "labels = encoded_train_targets"
   ]
  },
  {
   "cell_type": "code",
   "execution_count": 54,
   "metadata": {},
   "outputs": [
    {
     "data": {
      "text/plain": [
       "array([[0., 1.],\n",
       "       [0., 1.],\n",
       "       [0., 1.],\n",
       "       ...,\n",
       "       [0., 1.],\n",
       "       [0., 1.],\n",
       "       [0., 1.]], dtype=float32)"
      ]
     },
     "execution_count": 54,
     "metadata": {},
     "output_type": "execute_result"
    }
   ],
   "source": [
    "labels"
   ]
  },
  {
   "cell_type": "code",
   "execution_count": null,
   "metadata": {},
   "outputs": [],
   "source": [
    "#Defining inputs\n",
    "\n",
    "training_docs = train_text #training \n",
    "test_docs = test_text #test"
   ]
  },
  {
   "cell_type": "markdown",
   "metadata": {},
   "source": [
    "# 2.6 Building a reverse encoder "
   ]
  },
  {
   "cell_type": "code",
   "execution_count": 55,
   "metadata": {},
   "outputs": [
    {
     "name": "stdout",
     "output_type": "stream",
     "text": [
      "[1. 1. 1. ... 1. 1. 1.]\n"
     ]
    }
   ],
   "source": [
    "def inverseEncoding(encoded):\n",
    "    ans = np.zeros(encoded.shape[0])\n",
    "    for idx, vector in enumerate(encoded):\n",
    "        ans[idx] = np.argmax(vector)\n",
    "    return ans\n",
    "\n",
    "print(inverseEncoding(encoded_train_targets))"
   ]
  },
  {
   "cell_type": "markdown",
   "metadata": {},
   "source": [
    "# 2.7: Tokenizer - Text pre-processing with Keras"
   ]
  },
  {
   "cell_type": "code",
   "execution_count": 63,
   "metadata": {},
   "outputs": [],
   "source": [
    "#Document Tokenization\n",
    "#Use Keras library to create a vector of words for every tweet.\n",
    "#These vectors are padded up to 50, which can be the limit of number of words possible in a 150 character tweet.\n",
    "\n",
    "# Prepare tokenizer (t for training set, tt for test set)\n",
    "\n",
    "from keras.preprocessing.text import Tokenizer\n",
    "from keras.preprocessing.sequence import pad_sequences\n",
    "\n",
    "\n",
    "#Constructing Tokenizer class\n",
    "t = Tokenizer() #Tokenizer class constructor for training documents\n",
    "tt = Tokenizer() #Tokenizer class constructor for testing documents\n",
    "\n",
    "\n",
    "#Fitting Tokenizer to the documents\n",
    "t.fit_on_texts(training_docs) \n",
    "tt.fit_on_texts(test_docs)\n",
    "\n",
    "\n",
    "# Integer encode the documents\n",
    "encoded_docs = t.texts_to_sequences(training_docs)\n",
    "encoded_test_docs = tt.texts_to_sequences(test_docs)\n",
    "\n",
    "\n",
    "# Pad documents to a max length of 50 words (150 characters, 3 characters a word (including space))\n",
    "max_length = 50\n",
    "padded_docs = pad_sequences(encoded_docs, maxlen=max_length, padding='post')\n",
    "padded_test_docs = pad_sequences(encoded_test_docs, maxlen=max_length, padding='post')"
   ]
  },
  {
   "cell_type": "code",
   "execution_count": 69,
   "metadata": {},
   "outputs": [
    {
     "name": "stdout",
     "output_type": "stream",
     "text": [
      "The training set vocab size is 18099\n",
      "\n",
      "The test set vocab size is 10784\n"
     ]
    }
   ],
   "source": [
    "vocab_size = len(t.word_index) + 1\n",
    "test_vocab_size = len(tt.word_index) + 1\n",
    "print(vocab_size)\n",
    "print(test_vocab_size)\n"
   ]
  },
  {
   "cell_type": "markdown",
   "metadata": {},
   "source": [
    "# 3. Generate Model"
   ]
  },
  {
   "cell_type": "markdown",
   "metadata": {},
   "source": [
    "# 3.1 Word Embeddings - NLP"
   ]
  },
  {
   "cell_type": "code",
   "execution_count": 96,
   "metadata": {},
   "outputs": [
    {
     "data": {
      "text/plain": [
       "{}"
      ]
     },
     "execution_count": 96,
     "metadata": {},
     "output_type": "execute_result"
    }
   ],
   "source": [
    "# Word Embedding\n",
    "\n",
    "#The GLoVe link: https://nlp.stanford.edu/projects/glove/\n",
    "\n",
    "embeddings_index = dict()\n",
    "embeddings_index"
   ]
  },
  {
   "cell_type": "code",
   "execution_count": 97,
   "metadata": {},
   "outputs": [
    {
     "name": "stdout",
     "output_type": "stream",
     "text": [
      "Loaded 1193514 word vectors.\n"
     ]
    }
   ],
   "source": [
    "#For the embedding matrix we use GloVe’s 50d word vector pre-trained on 2 billion tweets. \n",
    "\n",
    "f = open('glove/glove.twitter.27B.50d.txt',encoding='utf8')\n",
    "for line in f:\n",
    "    values = line.split()\n",
    "    word = values[0]\n",
    "    coefs = asarray(values[1:], dtype='float32')\n",
    "    embeddings_index[word] = coefs\n",
    "\n",
    "f.close()\n",
    "\n",
    "\n",
    "print('Loaded %s word vectors.' % len(embeddings_index))"
   ]
  },
  {
   "cell_type": "code",
   "execution_count": 98,
   "metadata": {},
   "outputs": [],
   "source": [
    "# create a weight matrix for words in training docs\n",
    "\n",
    "embedding_matrix = zeros((vocab_size, 50))\n",
    "\n",
    "for word, i in t.word_index.items():\n",
    "    embedding_vector = embeddings_index.get(word)\n",
    "    if embedding_vector is not None:\n",
    "        embedding_matrix[i] = embedding_vector\n",
    "    "
   ]
  },
  {
   "cell_type": "code",
   "execution_count": null,
   "metadata": {},
   "outputs": [],
   "source": [
    "# create a weight matrix for words in test docs\n",
    "\n",
    "test_embedding_matrix = zeros((vocab_size, 50))\n",
    "\n",
    "for word, j in tt.word_index.items():\n",
    "    test_embedding_vector = embeddings_index.get(word)\n",
    "    if test_embedding_vector is not None:\n",
    "        test_embedding_matrix[j] = test_embedding_vector\n",
    "            "
   ]
  },
  {
   "cell_type": "code",
   "execution_count": 99,
   "metadata": {},
   "outputs": [],
   "source": [
    "embedding_matrix_transpose = embedding_matrix.transpose()\n",
    "test_embedding_matrix_transpose = test_embedding_matrix.transpose()"
   ]
  },
  {
   "cell_type": "markdown",
   "metadata": {},
   "source": [
    "# 3.2 Design the Neural Network "
   ]
  },
  {
   "cell_type": "markdown",
   "metadata": {},
   "source": [
    "# 3.2.1 Defining constants"
   ]
  },
  {
   "cell_type": "code",
   "execution_count": 103,
   "metadata": {},
   "outputs": [],
   "source": [
    "#The number of classes is 2 (Disaster or not)\n",
    "\n",
    "n_classes = 2"
   ]
  },
  {
   "cell_type": "code",
   "execution_count": 104,
   "metadata": {},
   "outputs": [],
   "source": [
    "#Time_steps in max. number of words per each tweet i.e., 50\n",
    "\n",
    "time_steps = max_length"
   ]
  },
  {
   "cell_type": "code",
   "execution_count": 105,
   "metadata": {},
   "outputs": [],
   "source": [
    "#50 dimension for Glove words\n",
    "\n",
    "n_input = 50 "
   ]
  },
  {
   "cell_type": "code",
   "execution_count": 106,
   "metadata": {},
   "outputs": [],
   "source": [
    "# Hidden LSTM units = batch_size\n",
    "# Batch size is = num_units = 128\n",
    "\n",
    "num_units = 128\n",
    "batch_size = 128"
   ]
  },
  {
   "cell_type": "code",
   "execution_count": 107,
   "metadata": {},
   "outputs": [],
   "source": [
    "#learning rate for adam\n",
    "\n",
    "learning_rate=0.001"
   ]
  },
  {
   "cell_type": "markdown",
   "metadata": {},
   "source": [
    "# 3.2.2 Choosing weights and biases"
   ]
  },
  {
   "cell_type": "code",
   "execution_count": 110,
   "metadata": {},
   "outputs": [],
   "source": [
    "out_weights=tf.Variable(tf.random_normal([num_units,n_classes]))\n",
    "\n",
    "out_bias=tf.Variable(tf.random_normal([n_classes]))"
   ]
  },
  {
   "cell_type": "markdown",
   "metadata": {},
   "source": [
    "# 3.2.3 Defining Placeholders"
   ]
  },
  {
   "cell_type": "code",
   "execution_count": 111,
   "metadata": {},
   "outputs": [],
   "source": [
    "#input image placeholder\n",
    "\n",
    "x = tf.placeholder(tf.float32,[None, time_steps, n_input])"
   ]
  },
  {
   "cell_type": "code",
   "execution_count": 112,
   "metadata": {},
   "outputs": [],
   "source": [
    "#input label placeholder\n",
    "\n",
    "y = tf.placeholder(tf.float32,[None, n_classes])"
   ]
  },
  {
   "cell_type": "markdown",
   "metadata": {},
   "source": [
    "# 3.2.4 Processing the input tensor from [batch_size,n_steps,n_input] to \"time_steps\" number of [batch_size,n_input] tensors"
   ]
  },
  {
   "cell_type": "code",
   "execution_count": 113,
   "metadata": {},
   "outputs": [],
   "source": [
    "input=tf.unstack(x ,time_steps,1)"
   ]
  },
  {
   "cell_type": "markdown",
   "metadata": {},
   "source": [
    "# 3.2.5 Recurrent Neural Networks - LSTM"
   ]
  },
  {
   "cell_type": "code",
   "execution_count": 116,
   "metadata": {},
   "outputs": [],
   "source": [
    "#defining the RNN\n",
    "\n",
    "lstm_layer=rnn.BasicLSTMCell(num_units,forget_bias=1)\n",
    "\n",
    "outputs,_=rnn.static_rnn(lstm_layer,input,dtype=\"float32\")"
   ]
  },
  {
   "cell_type": "markdown",
   "metadata": {},
   "source": [
    "# 3.2.6 out_weight multiplication"
   ]
  },
  {
   "cell_type": "code",
   "execution_count": 118,
   "metadata": {},
   "outputs": [],
   "source": [
    "#converting last output of dimension [batch_size,num_units] to [batch_size,n_classes] by out_weight multiplication\n",
    "#prediction = output of last LSTM time step x weights + bias\n",
    "\n",
    "prediction = tf.matmul(outputs[-1],out_weights)+out_bias"
   ]
  },
  {
   "cell_type": "markdown",
   "metadata": {},
   "source": [
    "# 3.2.7 softmax for probability\n"
   ]
  },
  {
   "cell_type": "code",
   "execution_count": 119,
   "metadata": {},
   "outputs": [],
   "source": [
    "#softmax for probability\n",
    "\n",
    "prob = tf.nn.softmax(prediction)"
   ]
  },
  {
   "cell_type": "markdown",
   "metadata": {},
   "source": [
    "# 3.2.8 Defining Loss function\n",
    "\n",
    "For convinience purpose, we chose cross entropy as our logistic loss instead of implementing log loss."
   ]
  },
  {
   "cell_type": "code",
   "execution_count": 124,
   "metadata": {},
   "outputs": [],
   "source": [
    "loss = tf.reduce_mean(tf.nn.softmax_cross_entropy_with_logits(logits=prediction,labels=y))"
   ]
  },
  {
   "cell_type": "markdown",
   "metadata": {},
   "source": [
    "# 3.2.9 Construct the Adam optimizer"
   ]
  },
  {
   "cell_type": "code",
   "execution_count": 130,
   "metadata": {},
   "outputs": [],
   "source": [
    "#Defining learning_rate for the Adam optimizer\n",
    "\n",
    "learning_rate = 0.001\n",
    "\n",
    "\n",
    "#Defining optimizer \n",
    "\n",
    "opt = tf.train.AdamOptimizer(learning_rate=learning_rate).minimize(loss)"
   ]
  },
  {
   "cell_type": "markdown",
   "metadata": {},
   "source": [
    "# 3.2.10 Model Evaluation"
   ]
  },
  {
   "cell_type": "code",
   "execution_count": 131,
   "metadata": {},
   "outputs": [],
   "source": [
    "#probability = softmax(prediction)\n",
    "\n",
    "\n",
    "correct_prediction = tf.equal(tf.argmax(prediction,1),tf.argmax(y,1))\n",
    "accuracy = tf.reduce_mean(tf.cast(correct_prediction,tf.float32))"
   ]
  },
  {
   "cell_type": "markdown",
   "metadata": {},
   "source": [
    "# 3.2.11 Defining next_batch and change_shape"
   ]
  },
  {
   "cell_type": "code",
   "execution_count": 133,
   "metadata": {},
   "outputs": [],
   "source": [
    "def next_batch(num, data, labels):\n",
    "    '''\n",
    "    Return a total of `num` random samples and labels. \n",
    "    '''\n",
    "    idx = np.arange(0 , len(data))\n",
    "    np.random.shuffle(idx)\n",
    "    idx = idx[:num]\n",
    "    data_shuffle = [data[ i] for i in idx]\n",
    "    labels_shuffle = [labels[ i] for i in idx]\n",
    "\n",
    "    return np.asarray(data_shuffle), np.asarray(labels_shuffle)\n",
    "\n",
    "def change_shape(data,embedding_matrix_transpose):\n",
    "    '''\n",
    "    Change shape to batch_x=batch_x.reshape((batch_size,time_steps,n_input))\n",
    "    '''\n",
    "    data1 = zeros((batch_size, time_steps, n_input))\n",
    "    for x in range(0, num_units):\n",
    "        for y in range(0, time_steps): \n",
    "            #print (data[x,y], embedding_matrix(data[x,y]))\n",
    "            #print (embedding_matrix[data[x,y]])\n",
    "            for z in range(0,n_input):\n",
    "                data1[x][y][z]= embedding_matrix_transpose[z,data[x,y]]\n",
    "    #print(data1)\n",
    "    return(data1)\n",
    "                "
   ]
  },
  {
   "cell_type": "markdown",
   "metadata": {},
   "source": [
    "# 3.2.12 Initilializing variables"
   ]
  },
  {
   "cell_type": "code",
   "execution_count": 161,
   "metadata": {},
   "outputs": [],
   "source": [
    "probabilities = np.zeros((test_label.size, 2))\n",
    "\n",
    "losses = np.zeros(199)\n",
    "\n",
    "accuracies = np.zeros(199)\n"
   ]
  },
  {
   "cell_type": "markdown",
   "metadata": {},
   "source": [
    "# 3.2.13 Session init"
   ]
  },
  {
   "cell_type": "code",
   "execution_count": 162,
   "metadata": {},
   "outputs": [],
   "source": [
    "init=tf.global_variables_initializer()"
   ]
  },
  {
   "cell_type": "markdown",
   "metadata": {},
   "source": [
    "# 3.2.13 Running iterations"
   ]
  },
  {
   "cell_type": "code",
   "execution_count": 233,
   "metadata": {},
   "outputs": [
    {
     "name": "stdout",
     "output_type": "stream",
     "text": [
      "For iter  10\n",
      "Accuracy  0.7109375\n",
      "Loss  0.6126534\n",
      "__________________\n",
      "For iter  20\n",
      "Accuracy  0.8125\n",
      "Loss  0.4966197\n",
      "__________________\n",
      "For iter  30\n",
      "Accuracy  0.796875\n",
      "Loss  0.47905818\n",
      "__________________\n",
      "For iter  40\n",
      "Accuracy  0.796875\n",
      "Loss  0.45251966\n",
      "__________________\n",
      "For iter  50\n",
      "Accuracy  0.7734375\n",
      "Loss  0.45662338\n",
      "__________________\n",
      "For iter  60\n",
      "Accuracy  0.828125\n",
      "Loss  0.37534243\n",
      "__________________\n",
      "For iter  70\n",
      "Accuracy  0.78125\n",
      "Loss  0.44996017\n",
      "__________________\n",
      "For iter  80\n",
      "Accuracy  0.734375\n",
      "Loss  0.5291271\n",
      "__________________\n",
      "For iter  90\n",
      "Accuracy  0.8203125\n",
      "Loss  0.42608887\n",
      "__________________\n",
      "For iter  100\n",
      "Accuracy  0.859375\n",
      "Loss  0.36309525\n",
      "__________________\n",
      "For iter  110\n",
      "Accuracy  0.7578125\n",
      "Loss  0.48546445\n",
      "__________________\n",
      "For iter  120\n",
      "Accuracy  0.859375\n",
      "Loss  0.3163176\n",
      "__________________\n",
      "For iter  130\n",
      "Accuracy  0.828125\n",
      "Loss  0.41638926\n",
      "__________________\n",
      "For iter  140\n",
      "Accuracy  0.8203125\n",
      "Loss  0.44142735\n",
      "__________________\n",
      "For iter  150\n",
      "Accuracy  0.7734375\n",
      "Loss  0.5314542\n",
      "__________________\n",
      "For iter  160\n",
      "Accuracy  0.8203125\n",
      "Loss  0.41908318\n",
      "__________________\n",
      "For iter  170\n",
      "Accuracy  0.8046875\n",
      "Loss  0.43561533\n",
      "__________________\n",
      "For iter  180\n",
      "Accuracy  0.8359375\n",
      "Loss  0.41139755\n",
      "__________________\n",
      "For iter  190\n",
      "Accuracy  0.8359375\n",
      "Loss  0.3701105\n",
      "__________________\n",
      "For iter  200\n",
      "Accuracy  0.796875\n",
      "Loss  0.45156723\n",
      "__________________\n",
      "For iter  210\n",
      "Accuracy  0.8515625\n",
      "Loss  0.38555488\n",
      "__________________\n",
      "For iter  220\n",
      "Accuracy  0.8203125\n",
      "Loss  0.37351853\n",
      "__________________\n",
      "For iter  230\n",
      "Accuracy  0.8359375\n",
      "Loss  0.40742868\n",
      "__________________\n",
      "For iter  240\n",
      "Accuracy  0.828125\n",
      "Loss  0.3505467\n",
      "__________________\n",
      "For iter  250\n",
      "Accuracy  0.75\n",
      "Loss  0.4969789\n",
      "__________________\n",
      "For iter  260\n",
      "Accuracy  0.8671875\n",
      "Loss  0.3092867\n",
      "__________________\n",
      "For iter  270\n",
      "Accuracy  0.8203125\n",
      "Loss  0.45094797\n",
      "__________________\n",
      "For iter  280\n",
      "Accuracy  0.84375\n",
      "Loss  0.3662219\n",
      "__________________\n",
      "For iter  290\n",
      "Accuracy  0.84375\n",
      "Loss  0.3366328\n",
      "__________________\n",
      "For iter  300\n",
      "Accuracy  0.8203125\n",
      "Loss  0.43481266\n",
      "__________________\n",
      "For iter  310\n",
      "Accuracy  0.7421875\n",
      "Loss  0.53323907\n",
      "__________________\n",
      "For iter  320\n",
      "Accuracy  0.8359375\n",
      "Loss  0.417005\n",
      "__________________\n",
      "For iter  330\n",
      "Accuracy  0.84375\n",
      "Loss  0.35930777\n",
      "__________________\n",
      "For iter  340\n",
      "Accuracy  0.78125\n",
      "Loss  0.42299527\n",
      "__________________\n",
      "For iter  350\n",
      "Accuracy  0.828125\n",
      "Loss  0.39554024\n",
      "__________________\n",
      "For iter  360\n",
      "Accuracy  0.828125\n",
      "Loss  0.43246973\n",
      "__________________\n",
      "For iter  370\n",
      "Accuracy  0.8203125\n",
      "Loss  0.44153568\n",
      "__________________\n",
      "For iter  380\n",
      "Accuracy  0.8359375\n",
      "Loss  0.3889028\n",
      "__________________\n",
      "For iter  390\n",
      "Accuracy  0.8671875\n",
      "Loss  0.34189045\n",
      "__________________\n",
      "For iter  400\n",
      "Accuracy  0.8984375\n",
      "Loss  0.29101956\n",
      "__________________\n",
      "For iter  410\n",
      "Accuracy  0.828125\n",
      "Loss  0.4431422\n",
      "__________________\n",
      "For iter  420\n",
      "Accuracy  0.828125\n",
      "Loss  0.3547845\n",
      "__________________\n",
      "For iter  430\n",
      "Accuracy  0.7890625\n",
      "Loss  0.44305414\n",
      "__________________\n",
      "For iter  440\n",
      "Accuracy  0.8046875\n",
      "Loss  0.45591652\n",
      "__________________\n",
      "For iter  450\n",
      "Accuracy  0.828125\n",
      "Loss  0.43616766\n",
      "__________________\n",
      "For iter  460\n",
      "Accuracy  0.796875\n",
      "Loss  0.43646324\n",
      "__________________\n",
      "For iter  470\n",
      "Accuracy  0.828125\n",
      "Loss  0.45905423\n",
      "__________________\n",
      "For iter  480\n",
      "Accuracy  0.8671875\n",
      "Loss  0.35182595\n",
      "__________________\n",
      "For iter  490\n",
      "Accuracy  0.8671875\n",
      "Loss  0.3187195\n",
      "__________________\n",
      "For iter  500\n",
      "Accuracy  0.859375\n",
      "Loss  0.37149706\n",
      "__________________\n",
      "For iter  510\n",
      "Accuracy  0.828125\n",
      "Loss  0.4075315\n",
      "__________________\n",
      "For iter  520\n",
      "Accuracy  0.8515625\n",
      "Loss  0.3676658\n",
      "__________________\n",
      "For iter  530\n",
      "Accuracy  0.890625\n",
      "Loss  0.31496084\n",
      "__________________\n",
      "For iter  540\n",
      "Accuracy  0.8203125\n",
      "Loss  0.3467465\n",
      "__________________\n",
      "For iter  550\n",
      "Accuracy  0.8515625\n",
      "Loss  0.379244\n",
      "__________________\n",
      "For iter  560\n",
      "Accuracy  0.7734375\n",
      "Loss  0.48625922\n",
      "__________________\n",
      "For iter  570\n",
      "Accuracy  0.796875\n",
      "Loss  0.4098956\n",
      "__________________\n",
      "For iter  580\n",
      "Accuracy  0.875\n",
      "Loss  0.3127042\n",
      "__________________\n",
      "For iter  590\n",
      "Accuracy  0.828125\n",
      "Loss  0.4246145\n",
      "__________________\n",
      "For iter  600\n",
      "Accuracy  0.875\n",
      "Loss  0.3432222\n",
      "__________________\n",
      "For iter  610\n",
      "Accuracy  0.7890625\n",
      "Loss  0.41969904\n",
      "__________________\n",
      "For iter  620\n",
      "Accuracy  0.796875\n",
      "Loss  0.47061938\n",
      "__________________\n",
      "For iter  630\n",
      "Accuracy  0.8515625\n",
      "Loss  0.34712017\n",
      "__________________\n",
      "For iter  640\n",
      "Accuracy  0.9140625\n",
      "Loss  0.292789\n",
      "__________________\n",
      "For iter  650\n",
      "Accuracy  0.8828125\n",
      "Loss  0.34017426\n",
      "__________________\n",
      "For iter  660\n",
      "Accuracy  0.8046875\n",
      "Loss  0.42181593\n",
      "__________________\n",
      "For iter  670\n",
      "Accuracy  0.859375\n",
      "Loss  0.31515956\n",
      "__________________\n",
      "For iter  680\n",
      "Accuracy  0.859375\n",
      "Loss  0.3459048\n",
      "__________________\n",
      "For iter  690\n",
      "Accuracy  0.8046875\n",
      "Loss  0.4078018\n",
      "__________________\n",
      "For iter  700\n",
      "Accuracy  0.8359375\n",
      "Loss  0.4087312\n",
      "__________________\n",
      "For iter  710\n",
      "Accuracy  0.859375\n",
      "Loss  0.3681314\n",
      "__________________\n",
      "For iter  720\n",
      "Accuracy  0.7890625\n",
      "Loss  0.4384182\n",
      "__________________\n",
      "For iter  730\n",
      "Accuracy  0.8671875\n",
      "Loss  0.33270833\n",
      "__________________\n",
      "For iter  740\n",
      "Accuracy  0.8359375\n",
      "Loss  0.38110632\n",
      "__________________\n",
      "For iter  750\n",
      "Accuracy  0.859375\n",
      "Loss  0.3656757\n",
      "__________________\n",
      "For iter  760\n",
      "Accuracy  0.8515625\n",
      "Loss  0.3798269\n",
      "__________________\n",
      "For iter  770\n",
      "Accuracy  0.8828125\n",
      "Loss  0.297615\n",
      "__________________\n",
      "For iter  780\n",
      "Accuracy  0.8984375\n",
      "Loss  0.2849129\n",
      "__________________\n",
      "For iter  790\n",
      "Accuracy  0.8203125\n",
      "Loss  0.37494147\n",
      "__________________\n",
      "Optimization finished!\n"
     ]
    }
   ],
   "source": [
    "with tf.Session() as sess:\n",
    "    sess.run(init)\n",
    "    iter=1\n",
    "    index=0\n",
    "    while iter<800:\n",
    "        \n",
    "        #batch_x,batch_y=mnist.train.next_batch(batch_size=batch_size)\n",
    "        \n",
    "        # use embedding matrix and one hot for batch_x\n",
    "        \n",
    "        batch_x, batch_y = next_batch(batch_size, padded_docs, labels)\n",
    "        batch_x= change_shape(batch_x, embedding_matrix_transpose)\n",
    "        sess.run(opt, feed_dict={x: batch_x, y: batch_y})\n",
    "\n",
    "        if iter %10==0:\n",
    "            acc=sess.run(accuracy,feed_dict={x:batch_x,y:batch_y})\n",
    "            los=sess.run(loss,feed_dict={x:batch_x,y:batch_y})\n",
    "            accuracies[index] = acc\n",
    "            losses[index] = los\n",
    "            index=index+1\n",
    "            print(\"For iter \",iter)\n",
    "            print(\"Accuracy \",acc)\n",
    "            print(\"Loss \",los)\n",
    "            print(\"__________________\")\n",
    "\n",
    "        iter=iter+1\n",
    "        \n",
    "    print(\"Optimization finished!\")\n",
    "    \n",
    "    \n",
    "    \n",
    "    #calculating test accuracy\n",
    "    \n",
    "    # all test labels are 0\n",
    "    \n",
    "    test_data = padded_test_docs\n",
    "    \n",
    "    '''\n",
    "    Change shape to test_data=test_data.reshape((3263,time_steps,n_input))\n",
    "    '''\n",
    "    test_data1 = zeros((3263, time_steps, n_input))\n",
    "    for a in range(0, 3263):\n",
    "        for b in range(0, time_steps): \n",
    "            for c in range(0,n_input):\n",
    "                test_data1[a][b][c]= test_embedding_matrix_transpose[c,test_data[a,b]]\n",
    "    \n",
    "    probabilities = sess.run(prob, feed_dict={x: test_data1})"
   ]
  },
  {
   "cell_type": "markdown",
   "metadata": {},
   "source": [
    "# 3.2.14 Recording the predicted probabilities"
   ]
  },
  {
   "cell_type": "code",
   "execution_count": 234,
   "metadata": {},
   "outputs": [
    {
     "name": "stdout",
     "output_type": "stream",
     "text": [
      "Testing Probabilities\n",
      "0\t 1\n",
      "[[0.58206105 0.41793895]\n",
      " [0.03392814 0.9660719 ]\n",
      " [0.10551994 0.8944801 ]\n",
      " ...\n",
      " [0.00904381 0.99095625]\n",
      " [0.08567892 0.91432106]\n",
      " [0.7310197  0.26898035]]\n"
     ]
    },
    {
     "data": {
      "text/plain": [
       "(3263, 2)"
      ]
     },
     "execution_count": 234,
     "metadata": {},
     "output_type": "execute_result"
    }
   ],
   "source": [
    "    print(\"Testing Probabilities\")\n",
    "    print(\"0\\t 1\")\n",
    "    print(probabilities)\n",
    "    probabilities.shape"
   ]
  },
  {
   "cell_type": "code",
   "execution_count": 235,
   "metadata": {},
   "outputs": [
    {
     "name": "stdout",
     "output_type": "stream",
     "text": [
      "[(   0, 0.58206105, 0.41793895) (   1, 0.03392814, 0.9660719 )\n",
      " (   2, 0.10551994, 0.8944801 ) ... (3260, 0.00904381, 0.99095625)\n",
      " (3261, 0.08567892, 0.91432106) (3262, 0.7310197 , 0.26898035)]\n"
     ]
    }
   ],
   "source": [
    "idx = np.arange(test_label.size, dtype=np.int16)\n",
    "idx.shape\n",
    "out = np.rec.fromarrays((idx, probabilities[:,0], probabilities[:,1]),  names = ('i','D','ND'))\n",
    "print(out)"
   ]
  },
  {
   "cell_type": "code",
   "execution_count": 236,
   "metadata": {},
   "outputs": [
    {
     "name": "stdout",
     "output_type": "stream",
     "text": [
      "[(0, 0) (2, 1) (3, 1) ... (10868, 1) (10874, 1) (10875, 0)]\n"
     ]
    }
   ],
   "source": [
    "idx = np.arange(test_label.size, dtype=np.int16)\n",
    "idx.shape\n",
    "results = np.rec.fromarrays((test_corpus[:,0], np.where(probabilities[:,1]>0.5, 1, 0)),  names = ('id','target'))\n",
    "print(results)"
   ]
  },
  {
   "cell_type": "code",
   "execution_count": 237,
   "metadata": {},
   "outputs": [],
   "source": [
    "with open('results.csv', 'w') as myfile:\n",
    "    wr = csv.writer(myfile, quoting=csv.QUOTE_NONE)\n",
    "    wr.writerow(('id','target'))\n",
    "    wr.writerows(results)"
   ]
  },
  {
   "cell_type": "code",
   "execution_count": 238,
   "metadata": {},
   "outputs": [
    {
     "data": {
      "text/plain": [
       "(199,)"
      ]
     },
     "execution_count": 238,
     "metadata": {},
     "output_type": "execute_result"
    }
   ],
   "source": [
    "iterations.shape"
   ]
  },
  {
   "cell_type": "code",
   "execution_count": 239,
   "metadata": {},
   "outputs": [
    {
     "data": {
      "text/plain": [
       "(199,)"
      ]
     },
     "execution_count": 239,
     "metadata": {},
     "output_type": "execute_result"
    }
   ],
   "source": [
    "losses.shape"
   ]
  },
  {
   "cell_type": "code",
   "execution_count": 240,
   "metadata": {},
   "outputs": [
    {
     "data": {
      "text/plain": [
       "(199,)"
      ]
     },
     "execution_count": 240,
     "metadata": {},
     "output_type": "execute_result"
    }
   ],
   "source": [
    "accuracies.shape"
   ]
  },
  {
   "cell_type": "markdown",
   "metadata": {},
   "source": [
    "# 4. Results"
   ]
  },
  {
   "cell_type": "markdown",
   "metadata": {},
   "source": [
    "# 4.1) Training Log Loss with iterations"
   ]
  },
  {
   "cell_type": "markdown",
   "metadata": {},
   "source": [
    "# a. Training Log Loss with iterations - Iterations 200"
   ]
  },
  {
   "cell_type": "code",
   "execution_count": 232,
   "metadata": {
    "scrolled": true
   },
   "outputs": [
    {
     "data": {
      "image/png": "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\n",
      "text/plain": [
       "<Figure size 432x288 with 1 Axes>"
      ]
     },
     "metadata": {
      "needs_background": "light"
     },
     "output_type": "display_data"
    }
   ],
   "source": [
    "iterations = np.arange(start=10, stop=2000, step=10, dtype=np.int16)\n",
    "# Plot Loss and Accuracy vs iterations\n",
    "plt.plot( iterations, losses )\n",
    "plt.plot( iterations, accuracies )\n",
    "plt.legend(['Train Log Loss', 'Train Accuracies'])\n",
    "plt.ylabel('Log Loss, Accuracy')\n",
    "plt.xlabel('Iteration')\n",
    "plt.title('Training Loss, Accuracy vs Iterations at 128 Batch')\n",
    "plt.show()"
   ]
  },
  {
   "cell_type": "markdown",
   "metadata": {},
   "source": [
    "# b. Training Log Loss with iterations - Iterations 800"
   ]
  },
  {
   "cell_type": "code",
   "execution_count": 241,
   "metadata": {},
   "outputs": [
    {
     "data": {
      "image/png": "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\n",
      "text/plain": [
       "<Figure size 432x288 with 1 Axes>"
      ]
     },
     "metadata": {
      "needs_background": "light"
     },
     "output_type": "display_data"
    }
   ],
   "source": [
    "iterations = np.arange(start=10, stop=2000, step=10, dtype=np.int16)\n",
    "# Plot Loss and Accuracy vs iterations\n",
    "plt.plot( iterations, losses )\n",
    "plt.plot( iterations, accuracies )\n",
    "plt.legend(['Train Log Loss', 'Train Accuracies'])\n",
    "plt.ylabel('Log Loss, Accuracy')\n",
    "plt.xlabel('Iteration')\n",
    "plt.title('Training Loss, Accuracy vs Iterations at 128 Batch')\n",
    "plt.show()"
   ]
  },
  {
   "cell_type": "markdown",
   "metadata": {},
   "source": [
    "# c. Training Log Loss with iterations - Iterations 1000"
   ]
  },
  {
   "cell_type": "code",
   "execution_count": 230,
   "metadata": {},
   "outputs": [
    {
     "data": {
      "image/png": "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\n",
      "text/plain": [
       "<Figure size 432x288 with 1 Axes>"
      ]
     },
     "metadata": {
      "needs_background": "light"
     },
     "output_type": "display_data"
    }
   ],
   "source": [
    "iterations = np.arange(start=10, stop=2000, step=10, dtype=np.int16)\n",
    "# Plot Loss and Accuracy vs iterations\n",
    "plt.plot( iterations, losses )\n",
    "plt.plot( iterations, accuracies )\n",
    "plt.legend(['Train Log Loss', 'Train Accuracies'])\n",
    "plt.ylabel('Log Loss, Accuracy')\n",
    "plt.xlabel('Iteration')\n",
    "plt.title('Training Loss, Accuracy vs Iterations at 128 Batch')\n",
    "plt.show()"
   ]
  },
  {
   "cell_type": "markdown",
   "metadata": {},
   "source": [
    "# d. Training Log Loss with iterations - Iterations 2000"
   ]
  },
  {
   "cell_type": "code",
   "execution_count": 229,
   "metadata": {},
   "outputs": [
    {
     "data": {
      "image/png": "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\n",
      "text/plain": [
       "<Figure size 432x288 with 1 Axes>"
      ]
     },
     "metadata": {
      "needs_background": "light"
     },
     "output_type": "display_data"
    }
   ],
   "source": [
    "iterations = np.arange(start=10, stop=2000, step=10, dtype=np.int16)\n",
    "# Plot Loss and Accuracy vs iterations\n",
    "plt.plot( iterations, losses )\n",
    "plt.plot( iterations, accuracies )\n",
    "plt.legend(['Train Log Loss', 'Train Accuracies'])\n",
    "plt.ylabel('Log Loss, Accuracy')\n",
    "plt.xlabel('Iteration')\n",
    "plt.title('Training Loss, Accuracy vs Iterations at 128 Batch')\n",
    "plt.show()"
   ]
  },
  {
   "cell_type": "code",
   "execution_count": null,
   "metadata": {},
   "outputs": [],
   "source": []
  },
  {
   "cell_type": "markdown",
   "metadata": {},
   "source": [
    "# 4.2) Kaggle Score vs Optimization iterations"
   ]
  },
  {
   "cell_type": "code",
   "execution_count": 218,
   "metadata": {},
   "outputs": [
    {
     "data": {
      "text/html": [
       "<div>\n",
       "<style scoped>\n",
       "    .dataframe tbody tr th:only-of-type {\n",
       "        vertical-align: middle;\n",
       "    }\n",
       "\n",
       "    .dataframe tbody tr th {\n",
       "        vertical-align: top;\n",
       "    }\n",
       "\n",
       "    .dataframe thead th {\n",
       "        text-align: right;\n",
       "    }\n",
       "</style>\n",
       "<table border=\"1\" class=\"dataframe\">\n",
       "  <thead>\n",
       "    <tr style=\"text-align: right;\">\n",
       "      <th></th>\n",
       "      <th>LSTM-200</th>\n",
       "      <th>LSTM-800</th>\n",
       "      <th>LSTM-1000</th>\n",
       "      <th>LSTM-2000</th>\n",
       "    </tr>\n",
       "  </thead>\n",
       "  <tbody>\n",
       "    <tr>\n",
       "      <th>Kaggle Score</th>\n",
       "      <td>0.68813</td>\n",
       "      <td>0.81492</td>\n",
       "      <td>0.79856</td>\n",
       "      <td>0.75971</td>\n",
       "    </tr>\n",
       "  </tbody>\n",
       "</table>\n",
       "</div>"
      ],
      "text/plain": [
       "              LSTM-200  LSTM-800  LSTM-1000  LSTM-2000\n",
       "Kaggle Score   0.68813   0.81492    0.79856    0.75971"
      ]
     },
     "execution_count": 218,
     "metadata": {},
     "output_type": "execute_result"
    }
   ],
   "source": [
    "rowheader = ['Kaggle Score']\n",
    "kaggle_score = np.array([0.68813, 0.81492, 0.79856, 0.75971])\n",
    "headings = ['LSTM-200', 'LSTM-800', 'LSTM-1000', 'LSTM-2000']\n",
    "pandas.DataFrame([kaggle_score], rowheader, headings )"
   ]
  },
  {
   "cell_type": "code",
   "execution_count": 219,
   "metadata": {},
   "outputs": [
    {
     "data": {
      "image/png": "iVBORw0KGgoAAAANSUhEUgAAAZAAAAEVCAYAAADOwrOnAAAABHNCSVQICAgIfAhkiAAAAAlwSFlzAAALEgAACxIB0t1+/AAAADh0RVh0U29mdHdhcmUAbWF0cGxvdGxpYiB2ZXJzaW9uMy4xLjMsIGh0dHA6Ly9tYXRwbG90bGliLm9yZy+AADFEAAAgAElEQVR4nO3dd3gVZdr48e+dRgiEkkINkAABBAtIRwSkWNaC664r6K5iQ11FBXRf3f29K25zXxtiXyyra0PEshYEIx0FBQRRQAKEFkIJgQABQtr9+2Mm8RBSTkJOJuX+XNe5cqbfZyZn7vM888wzoqoYY4wxFRXkdQDGGGNqJ0sgxhhjKsUSiDHGmEqxBGKMMaZSLIEYY4ypFEsgxhhjKsUSiEFExonIUq/jMKcSkSwR6eh1HPWdiEwRkTe9jqOmsQRSg4jINhEZ6TM8RkQOishQL+Mqi4j0EJEv3DgzRWSViPzC67iqgu/xqI4kKyILReQW33Gq2lhVUwK53YoQERWRzmVMby0iH4tImjtvfLHpj4vIJhE5IiI/icj1xaYPF5HvROSwiKSIyPgytjVFRHLdJJslIhtE5FcV+Cyn7G9TMZZAaigRuQF4DrhUVRd5HU8ZPgGSgJZAC+Bu4HBVbkBEQqpyfV6oC5/BTwXAHKC0E/lR4HKgKXADME1EBgGISCjwIfAvd/o1wJMick4Z23vXTbKNgXuBN0WkZZV8ElM+VbVXDXkB24CRwHhgP9Cn2PT3gD3AIWAx0MNnWjTOyfwwsAL4G7DUZ/qFwEZ32eeBRcAt7rRxxebthpMUDrjL/KaUeGMABZqV8ZlGA2vcuLYAF7vj2wAfu9vYDNzqs8wUYBbwprvcLTg/dh5w15EBzASiStnmBuAyn+EQd3+eC4S7680AMt191bKc43EGkA3kA1lApju9AfA4sAPYC7wINHSnDQNSgf9xj9kbQHPgUyAdOOi+j3Pn/7u7/mx3G8+64xXo7L5vCvzHXX478P+AIN9j6MZzENgKXOLzWcYBKcARd9p1pXzmfsAyd9/sBp4Fwtxpi914jroxXlPGcQ9x540v53/+Y2Cy+76lu0yEz/QVwNhSlp0CvFls3D5gkPu+Mvu7Bz//7+8F/uizrZnu/j8CrKPY97M+vjwPwF4+B8M5Yb3v/uOeU8L0m4BI98T1FLDGZ9oM9xUBdAd24iYFnBP9YeAq94t9D5BLCQkEaOQue6M777k4J98eJcQjwCb3i3klxU7E7snoEDAKJwG0Bbq50xbhJLJwoKf7JR/hTpvixnelu1xDnF+Xy4E49/P/C3inlP34Z+Atn+FLgZ/c97fhJNoIIBjoDTQp43iMLL6PfKY/hXMCjHKPyyfAI+60YUAe8H9uvA1xkvyv3G1H4vwg+MhnfQsLj4nPON8E8h/gv+6y8UAycLNPfLnAre7nugNIc49RI/f4d3XnbV3S8XSn9QYGuMc+HicZ31tSPOX8L5ebQNx9shv3R4U77m3gTvczDMRJCO1KWX4KbgJxP+elOImvmTuuQvvbnWc3MBnn/zIS6O+zrWzgF25sjwDLvT5neP3yPAB7+RwM54R12D1JBJUzbzP3C9rU/YfOLTxBuNOLSiDA9cAyn2mCkyRKSiDXAEuKbetfwEOlxBGH8yt1C071xWIg0We5qSUs0w7n11+kz7hHgNfc91OAxcWW2YCbYNzh1u5nDilh/Z1xfiVGuMNvAX92398EfA2c7efxKDGBuPvwKNDJZ9xAYKv7fhiQA4SXsf6ewEGf4ZNOaO44dT9PMHAC6O4z7TZgoU98m32mRbjLtsJJIJk4J9OGFfyfvBf4sHg8fiznTwJ5Hae6S3zGXY7zAyrPfd1axvJT3H2cCRxz/6f+UNn9DYwFVpexrS99hrsDxyuyL+viy66B1Dy3A12Al0VECkeKSLCI/FNEtojIYZyTGzili1icL+xOn/X4vm/jO6zONyC1lO13APq7F8QzRSQTuA7nRHQKVU1V1btUtZO77FGcX8rgJIotJSzWBjigqkd8xm3HKaGUFH9hXB/6xLQB54RxSn23qm52p18uIhHAFTi/bMGpSpoLzHAv9D7q1r1XVCzOSXqVT0xz3PGF0lU1u3BARCJE5F8ist09houBZiIS7Mf2YoAwnP1UqPg+21P4RlWPuW8bq+pRnB8GtwO7ReQzEelW0kZEpIuIfCoie9wY/+Fuu0qJyGPAmTjVo+qO6wa8i/ODJwynOukPInJpGauaqarNVDUC6ARcLyK3ueur6P4u7f+10B6f98eA8Hp0batElkBqnn3ACOB8nCqeQtfiXE8YiVPqiHfHC071Tx5OaaBQO5/3u32nuYnJd15fO4FF7pey8NVYVe8oL3BV3Ylz4f9Mn3V1KmHWNCBKRCJ9xrUHdvmuroS4LikWV7iq7qJk7+D8ohwNrHeTCqqaq6oPq2p3YBBwGc4Jq9yPV2x4P3AcpyqoMJ6m6lzMLW2ZyUBXnGqRJsAQd7yUMn/x7eXiJNJCxfdZ6cGrzlXVUTglt5+Al0qZ9QV3eqIb4x994qsSIvIwcAlwoar6Nrg4E9joxlqgqhuBz9x5y6Wq24DPcUoxUPH9Xdr/qymFJZAaSFXTgOHAxSIy1R0diVOFkYHzy/cfPvPnAx8AU9xfXd04+aT4GXCWiFzp/mK6k1JKFDjXM7qIyO9EJNR99RWRM4rPKCLNReRhEeksIkEiEoNTRbTcneUV4EYRGeFObysi3dxE8zXwiIiEi8jZwM04VU2leRH4u4h0cLcdKyKjy5h/Bk7DgTv4ufSBiFwgIme5v0IP45yU88tYT6G9QJyIhAGoagHOSXiqiLRw191WRC4qYx2ROEknU0SigIdK2EaJ93y4x3gmzj6IdPfDJJwGAWUSkZYicoWINML5H8qi9M8cibNfstz/o+I/HEqN0Wd74TjXfQAauMOF0x7E+TE0SlUzii26Gkh0m/KKiHTCSfDfl/cZ3XXHARfjXOAu/CwV2d+fAq1E5F4RaeDu5/7+bLu+sgRSQ7kn2eHAr0XkEZxqoe04vzjX8/NJutBdOCWTwhY/7+CcLFDV/cDVwKM4Cag7sLJwerHtHsE58Y7BKSns4ecLwcXl4JSEvsQ56fzornOcu65vcS7GT8W5mL6In39Bj3WXTcNpuvmQqiaVsUum4Vyw/kJEjrifv9Qvt6ruxmlNNAinWqRQK5wWXodxqrkW4cdJGJiPc2LaIyL73XH/g9OCbLlbRfIlzi/e0jyFc+F4vxv/nGLTp+Ec74Mi8nQJy0/AqSJMwWlx9Tbwqh+xB+H8Gk/DaV00FPh9KfPeh3OCP4KTIN8tNn0K8LpbbfebUtZxHCdJgVOaOe4z7R84JadNPvdv/BFAVbfg/AB5Guf4LMJpVPJKGZ/tmsL14LTY+gp42J1Wof3t/u+PwinB7MFpIHJBGduu98StfjR1jIj8H9BKVW8oYVoQzjWQ61R1QbUHZ4ypE6wEUkeISDcROdst+vfDqRL60Gf6RSLSTEQa8HO9dvFSjDHG+K1etyCoYyJxqq3a4FyIfwKnOXChgThVHmE4VWBXqurx4isxxhh/WRWWMcaYSgloFZaIXCwiG0Vks4g8UML09iKyQERWi8hacTvhE5FR4nTK94P7d3gg4zTGGFNxASuBuM0kk3FaNaTyc582633mmY5z5+cLItIdmK2q8SLSC9irqmkiciYwV1XblrCZIjExMRofHx+Qz2KMMXXVqlWr9qtqbPlzniqQ10D64XStkAIgIjNwb+rymUeBJu77pjjNDFHV1T7zrMO547OBqp7S7LRQfHw8K1eurMLwjTGm7hOR7eXPVbJAVmG15eTuKFI5udsFcNqU/1ZEUoHZOO3ci/sVTinllOQhIuNFZKWIrExPT6+aqI0xxvglkAmkpO4PiteXjcXpQC8Op5fLN9x7FJwViPTAuYnttpI2oKrTVbWPqvaJja1UCcwYY0wlBTKBpHJyf0xxuFVUPm7G6Z4BVV2G04VyDBR1S/AhcL17h6oxxpgaJJDXQFbg9GuTgNP9xhicLhJ87cDpOPA1t6+lcCBdRJrh9N/0oKp+FcAYjTF1UG5uLqmpqWRnZ5c/cz0RHh5OXFwcoaGV6Xy6ZAFLIKqaJyJ34XSdHQy8qqrrROQvwEpV/Rinf56XRGQiTvXWOFVVd7nOwP+KyP+6q7xQVfcFKl5jTN2RmppKZGQk8fHxiFRpZ8K1kqqSkZFBamoqCQkJVbbegN6JrqqzcS6O+477s8/79cB5JSz3N5wHIpl66KPVu3hs7kbSMo/TpllD7r+oK1f2KrMVtzEnyc7OtuThQ0SIjo6mqhsbWVcmpkb5aPUuHvzgB47nOr2N78o8zoMf/ABgScRUiCWPkwVif1hniqZGeWzuxqLkUeh4bj6Pzd3oUUTGmNJYAjE1Slpmyf077so8zqtLt7Jh92EKCqz/NlPzNW7888MpZ8+eTWJiIjt27KjSbYwbN45Zs2ZV6TorwqqwTI3SpllDdpWQRIKDhL986nRi0DwilP4J0QzoGMWATtF0aRFJUJBVV5jKC+R1t3nz5jFhwgS++OIL2rdvXyXrrCksgZgaZdKoRO57b+1Jd5w2DA3mkavOok98c75JOcCylAyWp2QwZ90eAKIahdE/IYoBHaMZ2CmaxBaNrf7b+C2Q192WLFnCrbfeyuzZs+nUyXnc+ieffMLf/vY3cnJyiI6O5q233qJly5akp6dz7bXXkpGRQd++fZkzZw6rVq0iJiaGv/71r7z11lu0a9eOmJgYevfuzX333XfStlatWsWkSZPIysoiJiaG1157jdatW59W/OWxBGJqlJx8RYHoRmEcOJpzyq/BuN4R/Kp3HAA7DxxjeUoGy1MOsDwlg89/dBJKdKMwBnR0Sygdo+lsCaVee/iTdaxPO1zq9NU7MsnJLzhp3PHcfP4way3vfFtylVP3Nk146PIeZW73xIkTjB49moULF9KtW7ei8YMHD2b58uWICC+//DKPPvooTzzxBA8//DDDhw/nwQcfZM6cOUyfPh2AlStX8v7777N69Wry8vI499xz6d2790nbys3NZcKECfz3v/8lNjaWd999lz/96U+8+qo/TzyuPEsgpsY4kZfPM/M20bNdMz78/aByT/rtoiJoFxXB1X3aoaqkHjxeVDpZviWDz37YDUBM4zD6d4x2Sigdo+kU28gSiilSPHmUN95foaGhDBo0iFdeeYVp06YVjU9NTeWaa65h9+7d5OTkFN2XsXTpUj780HmI6MUXX0zz5s2Lxo8ePZqGDRsCcPnll5+yrY0bN/Ljjz8yatQoAPLz8wNe+gBLIKYGeXfFTtIOZfN/vz67wid4ESlKKL9xE8rOA8dZlrKf5SkHWLYlg8/WFiaUBgzoGMXATk5S6RhjCaUuK6+kcN4/55d43a1ts4a8e9vASm83KCiImTNnMnLkSP7xj3/wxz/+EYAJEyYwadIkrrjiChYuXMiUKVMA52a/kvjzyA1VpUePHixbtqzS8VaGtcIyNUJ2bj7Pzt9Mv/goBneOOe31iQjtoyO4pm97pl7Tk2UPDmfhfcP451VnMbhzNCu2HeBPH/7IiCcW0f8f87j7ndW8/c0Otu4/6tcX1tQd91/UlYahwSeNaxgazP0XdT3tdUdERPDpp5/y1ltv8corrwBw6NAh2rZ1qmRff/31onkHDx7MzJkzAfjiiy84ePBg0fhPPvmE7OxssrKy+Oyzz07ZTteuXUlPTy9KILm5uaxbt+604y+PlUBMjfDm8u3sO3KCZ8b2CkhpQESIj2lEfEwjxvRrj6qyLcO5hrJsi1Pt9fH3Tl+fLZs0KKruGtAxmg7REVZCqcMKr68FqhVWVFQUc+bMYciQIcTExDBlyhSuvvpq2rZty4ABA9i6dSsADz30EGPHjuXdd99l6NChtG7dmsjISPr27csVV1zBOeecQ4cOHejTpw9NmzY9aRthYWHMmjWLu+++m0OHDpGXl8e9995Ljx5ll75OV515JnqfPn3UHihVOx09kceQRxdwRusmvHlLf09iUFW27j/qXkNxqrz2ZzmPoGnVJNyt7nIuyrePsoRS023YsIEzzjjD6zAq5MSJEwQHBxMSEsKyZcu44447WLNmDQBZWVk0btyYY8eOMWTIEKZPn865555b4W2UtF9EZJWq9qlMzFYCMZ577ettZBzNYdKFXTyLQUToGNuYjrGNua5/B1SVLelHnRJKSgZLNqXz4epdALRpGu628nKaDcc1b2gJxZy2HTt28Jvf/IaCggLCwsJ46aWXiqaNHz+e9evXk52dzQ033FCp5BEIlkCMpw5n5zJ9cQrDu7Xg3PbNvQ6niIjQuUVjOrdozG8HFCaULLe66wCLktP5wE0obZs1PKnZcLuoCI+jN7VRYmIiq1evLnHa22+/Xc3R+McSiPHUK0u2cuh4LpNGeVf68IeTUCLp3CKS3w2MR1XZtC/LvQ8lgwUb9/H+d6kAxDVveFIJpW2zhh5HXz+pqpUMfQTicoUlEOOZzGM5vLp0Kxf3aMWZbZuWv0ANIiJ0aRlJl5aRXD8wnoICJ6Es2+I0G563YS+zVjkJpV1UQwYkRBc1G25jCSXgwsPDycjIIDo62pIIPz8PJDw8vErXawnEeGb64hSycvKYWMNLH/4IChK6toqka6tIxp2XQEGBsnHvkaISStKGvbznJpQO0REMSIhmQKcoBnaMoVXTqv1SG4iLiyM1NbXKn39RmxU+kbAqWSss44n9WSc4//8WMKp7S54e28vrcAKuoED5ac+Roovy36RkcDg7D4D46Iii6q4BHaNp2cQSiqk+1grL1DovLtzCibx87hmZ6HUo1SIoSOjepgnd2zThpsEJ5BcoP+05XHRR/rMfdjNjxU4AOsY0crteiWJgx2haWEIxNZQlEFPt9h7O5o3l2/llrzg6xTYuf4E6KDhI6NGmKT3aNOWW8zuSX6Bs2H246MbGT79PK+rIr2Nso6IbG/t3jKJFpCUUUzNYAjHV7rkFm8kvUO4ZUT9KH/4IDhLObNuUM9v+nFDWpx0u6svr4zVpvP2Nk1A6xTYqqu7qnxBNbGQDj6M39ZUlEFOtUg8e451vd3B1n3a0j7b7JUoTHCScFdeUs+KaMn5IJ/LyC1iXdrjoovxHq9N4c7mTUBJbNC66htI/IYroxpZQTPWwBGKq1bPzNyMIE4Z39jqUWiUkOIhz2jXjnHbNuG2ok1B+TPu5yuv971J5Y/l2ALq0bFzUj1f/jtFENQrzOHpTVwU0gYjIxcA0IBh4WVX/WWx6e+B1oJk7zwOqOtud9iBwM5AP3K2qcwMZqwm8bfuP8t6qVH43oIPdC3GaQoKD6NmuGT3bNeP2oZ3IzS/gh12Hih6w9d6qVF5f5iSUbq0ii+6U758QTXNLKKaKBKwZr4gEA8nAKCAVWAGMVdX1PvNMB1ar6gsi0h2Yrarx7vt3gH5AG+BLoIuq5pe2PWvGW/NNencNn/2wmyV/uMBaFgVYbn4Ba1MPFVV5rdx2sOiRrYUJpbDKq1mEJZT6rKY24+0HbFbVFAARmQGMBtb7zKNAE/d9UyDNfT8amKGqJ4CtIrLZXV/1Pi3FVJnN+7L4aM0ubjm/oyWPahAaHETvDs3p3aE5d17QmZy8An7YlVnUbHjGih289vU2ROCMVk1OKqE0jQj1OnxTSwQygbQFdvoMpwLF++qeAnwhIhOARsBIn2WXF1u2ajrnN5546stkwkODuW1IR69DqZfCQoLo3SGK3h2iuGs45OQV8H1qJsu3ODc2vvXNdl79aisi0L11k6Jmw30Tomja0EkoH63eFbBnZpjaKZAJpKQOaIrXl40FXlPVJ0RkIPCGiJzp57KIyHhgPED79u1PM1wTKBt2H+bTtbu564LO1kKohggLCaJvfBR946OYMCKRE3n5fL/zUNHDtd5Yvp1Xlm4lSKBHm6bENA7lq80Hip4TvivzOA9+8AOAJZF6LJAJJBVo5zMcx89VVIVuBi4GUNVlIhIOxPi5LKo6HZgOzjWQKovcVKmpSclEhodw6/lW+qipGoQE0y8hin4JUdxDItm5+azZmenT2/D+U5Y5npvPY3M3WgKpxwL5TPQVQKKIJIhIGDAG+LjYPDuAEQAicgYQDqS7840RkQYikgAkAt8GMFYTID+kHuKL9Xu5ZXBHq1uvRcJDgxnQMZp7R3ZhxviBJVYJAKRlHq/WuEzNErAEoqp5wF3AXGADMFNV14nIX0TkCne2ycCtIvI9TqurcepYB8zEueA+B7izrBZYpuZ6ImkjzSJCuWlwvNehmNNQWrPrkGDhh9RD1RyNqSmsN14TMKu2H+BXLyzjfy7uxh3DOnkdjjkNH63exYMf/FDUFBggNFhoEBLE0Zx8ru3Xnvsv6mpNgmuh02nGG8gqLFPPPfFFMjGNw7hhUAevQzGn6cpebXnkqrNo26whgvMY38d+fQ5fPziCcYPimbFiJxc8vpB3vt1BQUHd+FFqymclEBMQy7ZkMPal5fzvZd25eXCC1+GYAPtpz2H+/N91fLv1AOfENeXh0WfSs10zr8MyfrASiKlRVJUnkzbSskkDrutvzavrg26tmvDu+AFMG9OT3Yey+eXzX/HA+2s5cDTH69BMAFkCMVVu8ab9rNh2kLuGJxIeGux1OKaaiAije7Zl3uSh3DI4gVmrUrng8YW8sXw7+VatVSdZAjFVSlV58ouNtG3WkGv6tCt/AVPnRIaH8qdLu/P5PefTvXUT/vejH7ni2aWs2n7Q69BMFbMEYqrUlxv28X3qIe4ZkUhYiP171WeJLSN5+9b+PHttLzKycvjVC19z33vfsz/rhNehmSpi33BTZQoKlCeTkomPjuCqc+3uZONUa112dhvmTR7K7UM78d81u7jg8YW89tVW8txuUUztZQnEVJk56/awYfdh7hmZSEiw/WuZnzVqEMIDl3Rjzr1D6NmuGVM+Wc9lzyxlxbYDXodmToN9y02VyHdLH51bNOaKc6z0YUrWKbYx/7mpHy/+9lwOH8/l6heXMfHdNew7nO11aKYSLIGYKvHJ92ls3pfFxJFdCA4qreckY5xqrYvPbM2Xk4dy1wWd+WztboY/sYiXl6SQa9VatYolEHPa8vILeOrLZLq1iuSSM1t5HY6pJSLCQrjvoq7MnTiEPvHN+dtnG7j06SUsT8nwOjTjJ0sg5rR98N0utmUcY/KFXQmy0oepoISYRvx7XF+m/643x3LyGTN9OXe/s5q9Vq1V41kCMaclJ6+AafM2cU5cU0ae0cLrcEwtJSJc2KMVX04ayj0jEpmzbg/DH1/IvxZtISfPqrVqKksg5rS8u3InuzKPM+nCrohY6cOcnvDQYCaO6sKXE4cysFM0j3z+E5dMW8xXm099oJXxniUQU2nZufk8O38TfTo0Z0hijNfhmDqkfXQEL9/Ql1fH9SE3X7nu5W+4863v7AFWNYwlEFNpb32zg72HTzDpwi5W+jABMbxbS76YOIRJo7rw5Ya9jHhiEc8t2MyJPHu+XE1gCcRUyrGcPF5YuJlBnaIZ1MlKHyZwwkODuXtEIl9OGsqQLjE8Nncjlzy1hEXJ6V6HVu9ZAjGV8p9l29mflcPkC7t4HYqpJ9pFRfCv3/Xh9Zv6ocANr37LbW+sJPXgMa9Dq7csgZgKO5Kdy4uLtjCsayy9O0R5HY6pZ4Z2iWXOvedz/0VdWZy8n5FPLuKZeZvIzrVqrepmCcRU2L+/2kbmsVwmjbLSh/FGg5Bg7rygM19OHsrwbi14IimZi55azPyf9nodWr1iCcRUyKFjuby0JIVR3Vtydpw9stR4q22zhjx/XW/evLk/IUHCTa+t5JbXV7Ajw6q1qoMlEFMhLy1J4Uh2npU+TI0yODGGz+8ZwoOXdOPrLRmMnLqIqUnJVq0VYJZAjN8ysk7w76+2cunZrTmjdROvwzHmJGEhQdw2tBPzJw/j4h6tmDZvE6OmLiJp/V5U7ZG6gRDQBCIiF4vIRhHZLCIPlDB9qoiscV/JIpLpM+1REVknIhtE5GmxGw0896/FKRzPzWfiyESvQzGmVK2ahvP02F68c+sAGoYGc+t/VnLjayvYtv+o16HVOQFLICISDDwHXAJ0B8aKSHffeVR1oqr2VNWewDPAB+6yg4DzgLOBM4G+wNBAxWrKt+9INv9Zto0re7alc4tIr8MxplwDO0Xz2d3n8/8uPYOV2w5y4dTFPD53I8dzrFqrqgSyBNIP2KyqKaqaA8wARpcx/1jgHfe9AuFAGNAACAWseYWHnl+whdx85e4RVvowtUdocBC3nN+R+ZOHcunZrXl2wWZGPrmIOT/utmqtKhDIBNIW2OkznOqOO4WIdAASgPkAqroMWADsdl9zVXVDCcuNF5GVIrIyPd3uSg2UtMzjvP3NDq7uHUd8TCOvwzGmwlo0CWfqNT2ZedtAIsNDuP3N77j+1W/Zkp7ldWi1WiATSEnXLEpL+WOAWaqaDyAinYEzgDicpDNcRIacsjLV6araR1X7xMbGVlHYprhnF2xGUe4a3tnrUIw5Lf0Sovh0wmCmXN6dNTszufipxfzz8584eiLP69BqpUAmkFSgnc9wHJBWyrxj+Ln6CuCXwHJVzVLVLOBzYEBAojRl2pFxjJkrdjK2X3vimkd4HY4xpy0kOIhx5yUwf/IwRvdsy4uLtjDyyUV8ujbNqrUqKJAJZAWQKCIJIhKGkyQ+Lj6TiHQFmgPLfEbvAIaKSIiIhOJcQD+lCssE3tPzNxEcJNx5gZU+TN0SG9mAx68+h/fvGEhUozDuens11738DZv2HvE6tFojYAlEVfOAu4C5OCf/maq6TkT+IiJX+Mw6FpihJ6f+WcAW4Afge+B7Vf0kULGakqWkZ/HBd6n8dkAHWjYJ9zocYwKid4coPr5rMH8d3YMfdx3ikmlL+Ptn68myaq1ySV0psvXp00dXrlzpdRh1yt3vrCZp/V6W/M8FxDRu4HU4xgRcRtYJHpu7kXdX7iS2cQP+dOkZXHFOmzr9vBsRWaWqfSqzrN2Jbkq0cc8RPlmbxrjz4i15mHojunED/vmrs/nw9+fRqmk498xYw5jpy9m4x6q1SmIJxJRoalIyjcNCuG1IR69DMaba9WzXjA9/fx7/+OVZbGfRrGgAAB5QSURBVNx7hF88vYSHP1nH4excr0OrUSyBmFP8uOsQc9bt4abBCTSLCPM6HGM8ERwkXNu/PQsmD2NM33a89vU2hj++iPdXpVprLZclEHOKqUnJNG0Yys3nJ3gdijGea94ojL//8iw+vnMwcc0bMvm977n6xWWsTzvsdWieswRiTvLdjoPM+2kf44d0pEl4qNfhGFNjnBXXlA/uGMSjvzqblP1HueyZJTz03x85dLz+VmtZAjEnmZqUTHSjMMYNivc6FGNqnKAg4Td927Fg8jB+N6ADbyzfzvDHFzJzxU4KCupftZYlEFPkm5QMlmzazx3DOtGoQYjX4RhTYzWNCOXh0WfyyYTBJMQ04g/vr+VXL37ND6mHvA6tWlkCMQCoKk8kJdMisgG/HdDB63CMqRV6tGnKe7cP5Imrz2HngeNc8dxS/vThD2Qey/E6tGpRbgIRkS4iMk9EfnSHzxaR/xf40Ex1+mpzBt9uPcCdF3QmPDTY63CMqTVEhF/1jmP+fUMZNyieGSt2csHjC3nn2x11vlrLnxLIS8CDQC6Aqq7F6dfK1BGqyuNfbKRN03DG9GtX/gLGmFM0CQ/loct78Nndg0lsGcmDH/zAL5//ijU7M8tfuJbyJ4FEqOq3xcZZJzF1yIKN+1izM5MJIxJpEGKlD2NOR7dWTXh3/ACmjenJ7kPZ/PL5r3jg/bUcOFr3qrX8SSD7RaQT7rM8ROTXOA95MnWAqvLEF8m0j4rg173jvA7HmDpBRBjdsy3zJg/llsEJzFqVygWPL+SN5dvJr0PVWv4kkDuBfwHdRGQXcC9we0CjMtVm7ro9rEs7zD0jEgkNtjYVxlSlyPBQ/nRpdz6/53y6t27C/370I1c8u5RV2w96HVqVKPOMISJBQB9VHQnEAt1UdbCqbq+W6ExA5RcoTyYl0zG2EVf2KvFpw8aYKpDYMpK3b+3Ps9f2IiMrh1+98DX3vfc9+7NOeB3aaSkzgahqAc4zPVDVo6pqXVLWIZ+uTSN5bxYTR3YhOKjudldtTE0gIlx2dhvmTR7K7UM78d81u7jg8YW89tVW8vILvA6vUvyps0gSkftEpJ2IRBW+Ah6ZCai8/AKmfbmJbq0iufSs1l6HY0y90ahBCA9c0o059w6hZ7tmTPlkPZc9s5QV2w54HVqF+ZNAbsK5DrIYWOW+7MlNtdxHa9JI2X+Ue0d2IchKH8ZUu06xjfnPTf144bpzOXw8l6tfXMbEd9ew73C216H5rdz+KlTVumStY3LzC5g2L5kz2zbhoh4tvQ7HmHpLRLjkrNYM7RrL8wu2MH1xCknr93LvyERuGBRf4xu2+HMneqiI3C0is9zXXSJi3bTWYu+tTGXngeNMHtW1Tj+q05jaIiIshPsu6srciUPoE9+cv322gUufXsKyLRleh1Ymf9LbC0Bv4Hn31dsdZ2qh7Nx8npm/iXPbN2NY11ivwzHG+EiIacS/x/Vl+u96cywnn7EvLWfCO6vZc6hmVmv50+VqX1U9x2d4voh8H6iATGDN+HYHuw9l8/jV51jpw5gaSES4sEcrhnSJ5fmFW3hx0Rbmb9jL3SMSufG8BMJCak61lj+R5Lt3ogMgIh2B/MCFZALleE4+zy3cQv+EKAZ1ivY6HGNMGcJDg5k0qgtJE4cwsFM0j3z+E5dMW8xXm/d7HVoRf0og9wMLRCQFEKADcKM/KxeRi4FpQDDwsqr+s9j0qcAF7mAE0EJVm7nT2gMvA+1wulH5hapu82e7pmRvLN9G+pETPHftuVb6MKaW6BDdiJdv6Mv8n/Yy5eP1XPfyN1x6Vmv+dOkZfLv1AI/N3Uha5nHaNGvI/Rd1rdabgsWfh8OLSAOgK04C+UlVy719UkSCgWRgFJAKrADGqur6UuafAPRS1Zvc4YXA31U1SUQaAwWqeqy07fXp00dXrrTWxaXJOpHHkEcX0KNNE964ub/X4RhjKiE7N5/pi1N4bsFmCgoUBfJ8+tZqGBrMI1edVaEkIiKrVLVPZeLxpxXWnUBDVV2rqt8DESLyez/W3Q/YrKopqpoDzABGlzH/WOAdd5vdgRBVTQJQ1ayykocp32tfbeXA0RwmX9jV61CMMZUUHhrM3SMS+XLSUIKD5aTkAXA8N5/H5m6stnj8uQZyq6oWdWivqgeBW/1Yri2w02c41R13ChHpACQA891RXYBMEflARFaLyGNuiab4cuNFZKWIrExPT/cjpPrp0PFcpi9OYeQZLejZrpnX4RhjTlO7qAhO5Jbc/Ula5vFqi8OfBBIkPhXm7ok8zI/lSqpkL62+bAwwS1ULL86HAOcD9wF9gY7AuFNWpjpdVfuoap/YWGuSWppXlm7lcHYeE0d18ToUY0wVadOsYYXGB4I/CWQuMFNERojIcJxqpjl+LJeKcwG8UByQVsq8Y9z1+i672q3+ygM+As71Y5ummINHc3h16VZ+cVYrerRp6nU4xpgqcv9FXWlY7PHTDUODuf+i6qum9qcV1v8A44E7cEoVX+C0jirPCiBRRBKAXThJ4triM4lIV6A5sKzYss1FJFZV04HhWP9blfKvxSkczcnj3pFW+jCmLim8UO5lKyx/+sIqAF4UkVeBHsAun6qmspbLE5G7cEowwcCrqrpORP4CrFTVj91ZxwIz1Kc5mKrmi8h9wDy3+mwVzrPZTQWkHznB619vY/Q5bejSMtLrcIwxVezKXm09fZZPqQlERF4EnnFP+k1xSgj5QJSI3Keq75S2bCFVnQ3MLjbuz8WGp5SybBJwdrmfwJTqhYVbyMkv4B4rfRhjAqCsayDnq+o69/2NQLKqnoXTF9YfAh6ZOS17DmXz5jfbuapXWxJiGnkdjjGmDiorgeT4vB+FcyEbVd0T0IhMlXh2wSZUlbtHJHodijGmjiorgWSKyGUi0gs4D7fllYiEANXXTsxUWOrBY7y7Yie/6dOOdlERXodjjKmjyrqIfhvwNNAKuNen5DEC+CzQgZnKe2beZkSEu4Z39joUY0wdVmoCUdVk4OISxs/FaVllaqBt+48y67tUrh/YgdZNraBojAmcmtOxvKkS0+ZtIjRYuGNYp/JnNsaY02AJpA7ZtPcIH63ZxQ2D4mkRGe51OMaYOs4SSB3y1JebiAgN5rYhVvowxgSeP925txSRV0Tkc3e4u4jcHPjQTEWsTzvMZz/s5ubBCUQ18qevS2OMOT3+lEBew7lo3sYdTgbuDVRApnKeTEqmSXgIN5/f0etQjDH1hD8JJEZVZwIF4PRxhT0TvUb5fmcmX27Yy63nd6Rpw1CvwzHG1BP+JJCjIhKN+ywPERkAHApoVKZCnkhKpnlEKDcOTvA6FGNMPeJPd+6TgI+BTiLyFRAL/DqgURm/rdx2gMXJ6Tx4STcaN/DncBpjTNXwpzv370RkKNAV53kgG1U1N+CRGb888UUyMY0bcP3AeK9DMcbUM2V1535VKZO6iAiq+kGAYjJ++nrzfpalZPDQ5d1pGHbKI+ONMSagyiqBXF7GNAUsgXhIVXkiKZnWTcMZ26+91+EYY+qhsvrCurE6AzEVszA5nVXbD/L3X55JeKiVPowx1a/cayAiMqmE0YeAVaq6pupDMuVRVaYmJRPXvCFX927ndTjGmHrKn2a8fYDbgbbuazwwDHhJROzJhB5IWr+XtamHuGdEImEh1huNMcYb/rT7jAbOVdUsABF5CJgFDAFWAY8GLjxTXEGB8mRSMh1jGvHLXm29DscYU4/58/O1PSc/3jYX6KCqx4ETAYnKlGr2j7v5ac8R7hmZSEiwlT6MMd7xpwTyNrBcRP7rDl8OvCMijYD1AYvMnCK/wLn20aVlYy47u035CxhjTACV+xNWVf8K3Apk4lw8v11V/6KqR1X1urKWFZGLRWSjiGwWkQdKmD5VRNa4r2QRySw2vYmI7BKRZyv2seqm/67ZxZb0o0wc2YXgIPE6HGNMPedPK6woYKv7KhwXWt7d6CISDDwHjAJSgRUi8rGqFpVaVHWiz/wTgF7FVvNXYJEfn6POy80vYNq8TXRv3YSLerTyOhxjjPHrGsh3QDpON+6b3PdbReQ7EeldxnL9gM2qmqKqOcAMYHQZ848F3ikccNfdEvjCjxjrvPdXpbI94xiTL+xCkJU+jDE1gD8JZA7wC1WNUdVo4BJgJvB74PkylmsL7PQZTnXHnUJEOgAJwHx3OAh4Ari/rMBEZLyIrBSRlenp6X58lNrpRF4+z8zfTM92zRjerYXX4RhjDODnfSCqOrdwQFW/AIao6nKgQRnLlfQzWUuZdwwwS1ULnzPye2C2qu4sZf7CWKarah9V7RMbG1vWrLXazBU72ZV5nMkXdkHESh/GmJrBn1ZYB0Tkf3CqoACuAQ661zgKylguFfC9TToOSCtl3jHAnT7DA4HzReT3QGMgTESyVPWUC/F1XXauU/roFx/F4M4xXodjjDFF/Ekg1wIPAR/hlCqWuuOCgd+UsdwKIFFEEoBdOEni2uIziUhXoDmwrHCcb+suERmHUwqqd8kD4M3l29l35ARPj+1lpQ9jTI3iz/NA9gMTSpm8uYzl8kTkLpznqQcDr6rqOhH5C7BSVT92Zx0LzFDV0qq36q2jJ/J4YeEWBneOYUDHaK/DMcaYk/jTjDcW+APQAwgvHK+qw8tbVlVnA7OLjftzseEp5azjNeC18rZVF72+bBsZR3OYdGEXr0MxxphT+HMR/S3gJ5xWUg8D23Cqp0wAHc7O5V+LUhjerQXntm/udTjGGHMKfxJItKq+AuSq6iJVvQkYEOC46r1Xl27l0PFcJo2y0ocxpmby5yJ64R3nu0XkUpyWVHGBC8lkHsvhlSVbuahHS85s29TrcIwxpkT+JJC/iUhTYDLwDNAEuDegUdVz0xenkJWTx0QrfRhjarBSq7BEJA5AVT9V1UOq+qOqXqCqZXVfYk5TRtYJXvt6G5ed3YZurZp4HY4xxpSqrGsg80QkvvhIEbkReCpQAdV3Ly7aQnZuPveOTPQ6FGOMKVNZCWQikCQiRWcyEXkQmAQMDXRg9dHew9n8Z9l2ftkrjk6xjb0OxxhjylTqNRBVnS0iJ4DPReRK4BagL04/WAerK8D65PkFm8kvUO4ZYaUPY0zNV2YzXlWdB4wDFgIdgRGWPAJjV+Zx3vl2J1f3aUf76AivwzHGmHKVWgIRkSM4vecKTq+7I4B94nTIpKpqV3ir0LPzNwEwYXhnjyMxxhj/lFWFFVmdgdRn2zOO8t7KVH47oANtmjX0OhxjjPGLP3eimwCbNm8TwUHC74d18joUY4zxmyUQj23el8VHq3dx/cAOtGgSXv4CxhhTQ1gC8di0eZsIDw3m9qFW+jDG1C6WQDz0057DfPJ9GjeeF09047KeDmyMMTWPJRAPTU1KJjI8hPHnW+nDGFP7WALxyA+ph5i7bi+3DO5I04hQr8MxxpgKswTikSeTNtIsIpSbBsd7HYoxxlSKJRAPrNp+kAUb07ltSCciw630YYypnSyBeODJpI3ENA7jhkEdvA7FGGMqzRJINVu2JYOvNmdwx7DORIT58zwvY4ypmSyBVCNV5cmkjbRs0oDr+rf3OhxjjDktAU0gInKxiGwUkc0i8kAJ06eKyBr3lSwime74niKyTETWichaEbkmkHFWlyWb9rNi20HuuqAz4aHBXodjjDGnJWB1KCISDDwHjAJSgRUi8rGqri+cR1Un+sw/AejlDh4DrlfVTSLSBlglInNVNTNQ8QaaqvJEUjJtmzXkN33beR2OMcactkCWQPoBm1U1RVVzgBnA6DLmHwu8A6Cqyaq6yX2fBuwDYgMYa8DN27CP73dmcveIzjQIsdKHMab2C2QCaQvs9BlOdcedQkQ6AAnA/BKm9QPCgC0lTBsvIitFZGV6enqVBB0IBQXKk0nJxEdHcNW5cV6HY4wxVSKQCURKGKelzDsGmKWq+SetQKQ18AZwo6oWnLIy1emq2kdV+8TG1twCypx1e1i/+zD3jEwkNNjaLRhj6oZAns1SAd/K/jggrZR5x+BWXxUSkSbAZ8D/U9XlAYmwGuQXKFOTkuncojFXnFNiAcwYY2qlQCaQFUCiiCSISBhOkvi4+Ewi0hVoDizzGRcGfAj8R1XfC2CMAffp2jQ27cti4sguBAeVVCgzxpjaKWAJRFXzgLuAucAGYKaqrhORv4jIFT6zjgVmqKpv9dZvgCHAOJ9mvj0DFWug5OUX8NSXm+jWKpJLzmzldTjGGFOlAnortKrOBmYXG/fnYsNTSljuTeDNQMZWHT5YvYut+48y/Xe9CbLShzGmjrErugGSk1fA0/M2cXZcU0Z1b+l1OMYYU+UsgQTIzJU7ST14nEmjuiBipQ9jTN1jCSQAsnPzeXb+Zvp0aM7QLjW3ebExxpwOSyAB8PY3O9hzOJtJF1rpwxhTd1kCqWLHc/J5fuEWBnaMZlCnGK/DMcaYgLEEUsX+s2wb+7NOMPnCLl6HYowxAWUJpAplncjjxUVbGNollj7xUV6HY4wxAWUJpAr9e+lWDh7LtdKHMaZesARSRQ4dy2X6khRGdW/J2XHNvA7HGGMCzhJIFXl5aQpHsvOYNMpKH8aY+sESSBU4cDSHV5du5dKzW3NG6yZeh2OMMdXCEkgV+NeiLRzPzWfiyESvQzHGmGpjCeQ07TuSzevLtnFlz7Z0bhHpdTjGGFNtLIGcpucXbCE3X7l7hJU+jDH1iyWQ07D70HHe/mYHvz43jviYRl6HY4wx1coSyGl4dv5mFGXCiM5eh2KMMdXOEkgl7TxwjHdX7GRM3/bENY/wOhxjjKl2lkAq6el5mwgOEu4abqUPY0z9ZAmkElLSs3j/u1R+O6ADLZuEex2OMcZ4whJIJUybt4kGIcHcMayT16EYY4xnLIFUUPLeI3z8fRrjzosnpnEDr8MxxhjPWAKpoKlJyTQKC2H8+R29DsUYYzwV0AQiIheLyEYR2SwiD5QwfaqIrHFfySKS6TPtBhHZ5L5uCGSc/lqXdojPf9zDzYMTaN4ozOtwjDHGUyGBWrGIBAPPAaOAVGCFiHysqusL51HViT7zTwB6ue+jgIeAPoACq9xlDwYqXn9MTUqmacNQbj4/wcswjDGmRghkCaQfsFlVU1Q1B5gBjC5j/rHAO+77i4AkVT3gJo0k4OIAxlqu1TsO8uWGfYwf0pEm4aFehmKMMTVCIBNIW2Cnz3CqO+4UItIBSADmV2RZERkvIitFZGV6enqVBF2aJ5OSiWoUxrhB8QHdjjHG1BaBTCBSwjgtZd4xwCxVza/Isqo6XVX7qGqf2NjYSoZZvm+3HmDJpv3cMbQTjRoErNbPGGNqlUAmkFSgnc9wHJBWyrxj+Ln6qqLLBpSq8sQXG2kR2YDfDujgRQjGGFMjBTKBrAASRSRBRMJwksTHxWcSka5Ac2CZz+i5wIUi0lxEmgMXuuOq3ddbMvhm6wHuvKAzDcOCvQjBGGNqpIDVx6hqnojchXPiDwZeVdV1IvIXYKWqFiaTscAMVVWfZQ+IyF9xkhDAX1T1QKBiLY2q8vgXG2nTNJwx/dqVv4AxxtQjAa3QV9XZwOxi4/5cbHhKKcu+CrwasOD8sHBjOqt3ZPLIVWfRIMRKH8YY48vuRC+FqvJE0kbaR0Xw695xXodjjDE1jiWQUsxdt5cfdx3mnhGJhAbbbjLGmOLszFiCggJlalIyHWMbcWWvEm9dMcaYes8SSAk+/WE3G/ce4d6RXQgOKumWFGOMMZZAisnLL+CpL5Pp2jKSy85q7XU4xhhTY1kCKeajNWmkpB9l4qguBFnpwxhjSmUJxEdufgFPz9vEmW2bcFGPll6HY4wxNZolEB+zVqWy48AxJo/qioiVPowxpiyWQFwn8vJ5Zt4merVvxrCugeuY0Rhj6gpLIK4Z3+4k7VA2911opQ9jjPFHve+b/KPVu3h0zk+kHcomLDiIfYezvQ7JGGNqhXqdQD5avYsHP/iB47nOY0hy8gv444c/IiJ2A6ExxpSjXldhPTZ3Y1HyKHQ8N5/H5m70KCJjjKk96nUCScs8XqHxxhhjflavE0ibZg0rNN4YY8zP6nUCuf+irjQMPfk5Hw1Dg7n/oq4eRWSMMbVHvb6IXnih/LG5G0nLPE6bZg25/6KudgHdGGP8UK8TCDhJxBKGMcZUXL2uwjLGGFN5lkCMMcZUiiUQY4wxlWIJxBhjTKVYAjHGGFMpoqpex1AlRCQd2H4aq4gB9ldROKZq2DGpmey41Dync0w6qGqlnmFRZxLI6RKRlarax+s4zM/smNRMdlxqHq+OiVVhGWOMqRRLIMYYYyrFEsjPpnsdgDmFHZOayY5LzePJMbFrIMYYYyrFSiDGGGMqxRKIMcaYSqm1CURE4kVkls/wcBFZJiKLReQrEekgIgvd1xH376ciMkxECkQkwV2ulYjkichlxdbf3l1mkYh8LiLN3PFD3O18JSLnuONai0iSiHwtItdX536oSQJ9TNxpj7jrXCYi/d1x3UVkiTtupDuusYh8KCJLReSB6toHNUU1HYskEcn0nebv90NEQkTk3+5xmxb4PVIz1PTzVoWPi6rWyhcQD8zyGf4aaO6+bwoE+Uxb6fN+GLACuM8d/j3wLXBZsfU3A6Lc9+OB+933S4DmQHvgc3fcNGAkTvf4y4CGXu+fOnpMooBl7vtE4EP3/UfucBPga3fcROAW9/0cIM7r/VOXjoU7rTUwxXeav98P4JfA39zpLwGDvN5ndeG4nO55q6LHpdaWQEqQCwwTkQaqekhVC8qYdwkw2H0/Eviy+AyqmqmqB3zWnSciEUCuqh5U1R04BwSgLzBfVfOAlUCPKvg8dUGVHhPgCJAhIqE4X5R0d3xrVd2kqofd6THAQOALd3oSMOA0P0ttV9XHAlXd7Ttcwe+H7/GZAwyqxGeqC2raeatCx6UuJZCbgKuAn0TkOREp67MVALtFpBdwGMgpbUYRaQrcBryGc9I67DM5T0TCgBCfA38I55eyqeJjoqq5wDpgI06p41l3kvjMVrj/fY+VHZMAfT+Kqcj3w46Po6adtyp0XOpMAlHVLar6O6ATEAGMKmeRD4BXcU5EAIjItW794aPucCjwNk6x8SBwEKeapFCIquYAuSJS+HD1ZsABTJUfExE5A+iFU13VD3janc33V1vh/vc9VvX+mATi+1GCinw/7PhQI89bFToudSaBiEgigJtR91P+Z1sArMUppuEu+7aqDlPVP7ijngdmqupSd/pxIFREmotIeyDDnW8lcIGIhAC9gR+r6GPVagE6JodVNR+nOquxO26PiCSKSBOc+t/9wHLgQnf6SJw63norQMfiJBX8fvgen4uAryr1wWq5GnjeqtBxqe3PRD9fRArrAc8TkTU4xboUfq7HK5Fb73cDgIicMl1EBgLXAokiciPOBdtpwJ+A2Ti/en/vzv5P4A3gL8ALqpp9mp+rNgvYMVHVDSKyU0SWAg2Av7mT/ojzqywE+LM77iXgTffYfaKqu07rU9VOATsW7vhXcS7uXikiZ6jqY/j5/RCRT4DRIrIEWK2q9SnB19jzVkWPi92JbowxplLqTBWWMcaY6mUJxBhjTKVYAjHGGFMplkCMMcZUiiUQY4wxlWIJxBiXiGS5f+NF5NoqXvcfiw1/XZXrN8YLlkCMOVU8Tlt6v/nc0VuakxKIqtbXvp9MHWIJxJhT/RPnZq81IjJRRIJF5DERWSEia0XkNgC3i+0FIvI28IM77iMRWSUi60RkvDvun0BDd31vueMKSzvirvtHEflBRK7xWfdCEZklIj+JyFvi3jkmIv8UkfVuLI9X+94xxlXb70Q3JhAewOlH6DIANxEcUtW+ItIA+EpECu8Y7gecqapb3eGbVPWAiDQEVojI+6r6gIjcpao9S9jWVUBP4Bwgxl1msTutF04PqWk4XUqcJyLrcbrc7qaqKu7zHozxgpVAjCnfhcD1bpcT3wDROB06AnzrkzwA7haR73H6FGrnM19pBgPvqGq+qu4FFuF0s1247lS3n6Q1OFVrh4Fs4GURuQo4dtqfzphKsgRiTPkEmKCqPd1XgqoWlkCOFs0kMgyn48aBqnoOsBoI92PdpTnh8z4fpxfVPJxSz/vAlfh0qmdMdbMEYsypjgCRPsNzgTvcbrIRkS4i0qiE5ZoCB1X1mIh04+SHWOUWLl/MYuAa9zpLLDAE50lzJRKRxkBTVZ0N3ItT/WWMJ+waiDGnWovz0J3vcR7IMw2n+ug790J2Os6v/+LmALeLyFqch14t95k2HVgrIt+p6nU+4z/EeQrc94ACf1DVPW4CKkkk8F8RCccpvUys3Ec05vRZb7zGGGMqxaqwjDHGVIolEGOMMZViCcQYY0ylWAIxxhhTKZZAjDHGVIolEGOMMZViCcQYY0yl/H9E1U4wVLipaQAAAABJRU5ErkJggg==\n",
      "text/plain": [
       "<Figure size 432x288 with 1 Axes>"
      ]
     },
     "metadata": {
      "needs_background": "light"
     },
     "output_type": "display_data"
    }
   ],
   "source": [
    "# Plot Private and Public vs iterations\n",
    "plt.plot( range(len(kaggle_score)), kaggle_score, '-o' )\n",
    "\n",
    "plt.xticks(range(len(kaggle_score)), headings, size='small')\n",
    "\n",
    "plt.legend(['Kaggle'])\n",
    "plt.ylabel('Kaggle Score')\n",
    "plt.xlabel('Iterations')\n",
    "plt.title('Kaggle Score vs Iterations at 128 Batch')\n",
    "plt.show()"
   ]
  },
  {
   "cell_type": "markdown",
   "metadata": {},
   "source": [
    "# 4.3) Test Scores vs Batch Size"
   ]
  },
  {
   "cell_type": "code",
   "execution_count": 194,
   "metadata": {},
   "outputs": [
    {
     "data": {
      "text/html": [
       "<div>\n",
       "<style scoped>\n",
       "    .dataframe tbody tr th:only-of-type {\n",
       "        vertical-align: middle;\n",
       "    }\n",
       "\n",
       "    .dataframe tbody tr th {\n",
       "        vertical-align: top;\n",
       "    }\n",
       "\n",
       "    .dataframe thead th {\n",
       "        text-align: right;\n",
       "    }\n",
       "</style>\n",
       "<table border=\"1\" class=\"dataframe\">\n",
       "  <thead>\n",
       "    <tr style=\"text-align: right;\">\n",
       "      <th></th>\n",
       "      <th>16</th>\n",
       "      <th>32</th>\n",
       "      <th>64</th>\n",
       "      <th>128</th>\n",
       "    </tr>\n",
       "  </thead>\n",
       "  <tbody>\n",
       "    <tr>\n",
       "      <th>Kaggle Score</th>\n",
       "      <td>0.68813</td>\n",
       "      <td>0.81492</td>\n",
       "      <td>0.75971</td>\n",
       "      <td>0.80674</td>\n",
       "    </tr>\n",
       "  </tbody>\n",
       "</table>\n",
       "</div>"
      ],
      "text/plain": [
       "                   16       32       64      128\n",
       "Kaggle Score  0.68813  0.81492  0.75971  0.80674"
      ]
     },
     "execution_count": 194,
     "metadata": {},
     "output_type": "execute_result"
    }
   ],
   "source": [
    "rowheader = ['Kaggle Score']\n",
    "b_kaggle_score = np.array([0.37334, 0.33058, 0.36772, 0.66201])\n",
    "\n",
    "headings = ['16', '32', '64', '128']\n",
    "pandas.DataFrame([kaggle_score], rowheader, headings )"
   ]
  },
  {
   "cell_type": "code",
   "execution_count": 190,
   "metadata": {},
   "outputs": [
    {
     "data": {
      "image/png": "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\n",
      "text/plain": [
       "<Figure size 432x288 with 1 Axes>"
      ]
     },
     "metadata": {
      "needs_background": "light"
     },
     "output_type": "display_data"
    }
   ],
   "source": [
    "b_sizes = np.array([16, 32, 64, 128])\n",
    "plt.plot( b_sizes, b_kaggle_score, '-o' )\n",
    "\n",
    "plt.legend(['Kaggle Score'])\n",
    "plt.ylabel('Kaggle Score')\n",
    "\n",
    "plt.xlabel('Batch Size')\n",
    "plt.title('Score vs Batch Size at 1000 iterations')\n",
    "plt.show()"
   ]
  }
  {
   "cell_type": "code",
   "execution_count": null,
   "metadata": {},
   "outputs": [],
   "source": []
  }
 ],
 "metadata": {
  "kernelspec": {
   "display_name": "Python 3 (ipykernel)",
   "language": "python",
   "name": "python3"
  },
  "language_info": {
   "codemirror_mode": {
    "name": "ipython",
    "version": 3
   },
   "file_extension": ".py",
   "mimetype": "text/x-python",
   "name": "python",
   "nbconvert_exporter": "python",
   "pygments_lexer": "ipython3",
   "version": "3.8.5"

 },
 "nbformat": 4,
 "nbformat_minor": 4
}
