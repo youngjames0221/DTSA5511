{
  "nbformat": 4,
  "nbformat_minor": 0,
  "metadata": {
    "colab": {
      "provenance": [],
      "collapsed_sections": []
    },
    "kernelspec": {
      "name": "python3",
      "display_name": "Python 3"
    },
    "language_info": {
      "name": "python"
    },
    "accelerator": "GPU",
    "gpuClass": "standard",
    "widgets": {
      "application/vnd.jupyter.widget-state+json": {
        "0fd48b6289614b25a8c3ee79b92fa09b": {
          "model_module": "@jupyter-widgets/controls",
          "model_name": "HBoxModel",
          "model_module_version": "2.0.0",
          "state": {
            "_dom_classes": [],
            "_model_module": "@jupyter-widgets/controls",
            "_model_module_version": "2.0.0",
            "_model_name": "HBoxModel",
            "_view_count": null,
            "_view_module": "@jupyter-widgets/controls",
            "_view_module_version": "2.0.0",
            "_view_name": "HBoxView",
            "box_style": "",
            "children": [
              "IPY_MODEL_596503e1ff50437fb4440278ed058694",
              "IPY_MODEL_435466f1e4aa4b98b999b9713af73022",
              "IPY_MODEL_5d964d75764140878f34f54d84056ef7"
            ],
            "layout": "IPY_MODEL_11cc924d040740f893896ec2abe31d0f",
            "tabbable": null,
            "tooltip": null
          }
        },
        "596503e1ff50437fb4440278ed058694": {
          "model_module": "@jupyter-widgets/controls",
          "model_name": "HTMLModel",
          "model_module_version": "2.0.0",
          "state": {
            "_dom_classes": [],
            "_model_module": "@jupyter-widgets/controls",
            "_model_module_version": "2.0.0",
            "_model_name": "HTMLModel",
            "_view_count": null,
            "_view_module": "@jupyter-widgets/controls",
            "_view_module_version": "2.0.0",
            "_view_name": "HTMLView",
            "description": "",
            "description_allow_html": false,
            "layout": "IPY_MODEL_d4e4fe22c8444bf18b0e378e6fa6c185",
            "placeholder": "​",
            "style": "IPY_MODEL_15355f460fea47c3bcb5c66f24c1d32e",
            "tabbable": null,
            "tooltip": null,
            "value": "Downloading: 100%"
          }
        },
        "435466f1e4aa4b98b999b9713af73022": {
          "model_module": "@jupyter-widgets/controls",
          "model_name": "FloatProgressModel",
          "model_module_version": "2.0.0",
          "state": {
            "_dom_classes": [],
            "_model_module": "@jupyter-widgets/controls",
            "_model_module_version": "2.0.0",
            "_model_name": "FloatProgressModel",
            "_view_count": null,
            "_view_module": "@jupyter-widgets/controls",
            "_view_module_version": "2.0.0",
            "_view_name": "ProgressView",
            "bar_style": "success",
            "description": "",
            "description_allow_html": false,
            "layout": "IPY_MODEL_29e99cb6ba664f24a1005c00bd4b920d",
            "max": 483,
            "min": 0,
            "orientation": "horizontal",
            "style": "IPY_MODEL_afbd0fcb49734cc1a5a16b96c7c57092",
            "tabbable": null,
            "tooltip": null,
            "value": 483
          }
        },
        "5d964d75764140878f34f54d84056ef7": {
          "model_module": "@jupyter-widgets/controls",
          "model_name": "HTMLModel",
          "model_module_version": "2.0.0",
          "state": {
            "_dom_classes": [],
            "_model_module": "@jupyter-widgets/controls",
            "_model_module_version": "2.0.0",
            "_model_name": "HTMLModel",
            "_view_count": null,
            "_view_module": "@jupyter-widgets/controls",
            "_view_module_version": "2.0.0",
            "_view_name": "HTMLView",
            "description": "",
            "description_allow_html": false,
            "layout": "IPY_MODEL_cf84180420d846e1a5fc75c57db1b072",
            "placeholder": "​",
            "style": "IPY_MODEL_8bac43a4c8e94fd3b63532473b40a4d4",
            "tabbable": null,
            "tooltip": null,
            "value": " 483/483 [00:00&lt;00:00, 5.21kB/s]"
          }
        },
        "11cc924d040740f893896ec2abe31d0f": {
          "model_module": "@jupyter-widgets/base",
          "model_name": "LayoutModel",
          "model_module_version": "2.0.0",
          "state": {
            "_model_module": "@jupyter-widgets/base",
            "_model_module_version": "2.0.0",
            "_model_name": "LayoutModel",
            "_view_count": null,
            "_view_module": "@jupyter-widgets/base",
            "_view_module_version": "2.0.0",
            "_view_name": "LayoutView",
            "align_content": null,
            "align_items": null,
            "align_self": null,
            "border_bottom": null,
            "border_left": null,
            "border_right": null,
            "border_top": null,
            "bottom": null,
            "display": null,
            "flex": null,
            "flex_flow": null,
            "grid_area": null,
            "grid_auto_columns": null,
            "grid_auto_flow": null,
            "grid_auto_rows": null,
            "grid_column": null,
            "grid_gap": null,
            "grid_row": null,
            "grid_template_areas": null,
            "grid_template_columns": null,
            "grid_template_rows": null,
            "height": null,
            "justify_content": null,
            "justify_items": null,
            "left": null,
            "margin": null,
            "max_height": null,
            "max_width": null,
            "min_height": null,
            "min_width": null,
            "object_fit": null,
            "object_position": null,
            "order": null,
            "overflow": null,
            "padding": null,
            "right": null,
            "top": null,
            "visibility": null,
            "width": null
          }
        },
        "d4e4fe22c8444bf18b0e378e6fa6c185": {
          "model_module": "@jupyter-widgets/base",
          "model_name": "LayoutModel",
          "model_module_version": "2.0.0",
          "state": {
            "_model_module": "@jupyter-widgets/base",
            "_model_module_version": "2.0.0",
            "_model_name": "LayoutModel",
            "_view_count": null,
            "_view_module": "@jupyter-widgets/base",
            "_view_module_version": "2.0.0",
            "_view_name": "LayoutView",
            "align_content": null,
            "align_items": null,
            "align_self": null,
            "border_bottom": null,
            "border_left": null,
            "border_right": null,
            "border_top": null,
            "bottom": null,
            "display": null,
            "flex": null,
            "flex_flow": null,
            "grid_area": null,
            "grid_auto_columns": null,
            "grid_auto_flow": null,
            "grid_auto_rows": null,
            "grid_column": null,
            "grid_gap": null,
            "grid_row": null,
            "grid_template_areas": null,
            "grid_template_columns": null,
            "grid_template_rows": null,
            "height": null,
            "justify_content": null,
            "justify_items": null,
            "left": null,
            "margin": null,
            "max_height": null,
            "max_width": null,
            "min_height": null,
            "min_width": null,
            "object_fit": null,
            "object_position": null,
            "order": null,
            "overflow": null,
            "padding": null,
            "right": null,
            "top": null,
            "visibility": null,
            "width": null
          }
        },
        "15355f460fea47c3bcb5c66f24c1d32e": {
          "model_module": "@jupyter-widgets/controls",
          "model_name": "HTMLStyleModel",
          "model_module_version": "2.0.0",
          "state": {
            "_model_module": "@jupyter-widgets/controls",
            "_model_module_version": "2.0.0",
            "_model_name": "HTMLStyleModel",
            "_view_count": null,
            "_view_module": "@jupyter-widgets/base",
            "_view_module_version": "2.0.0",
            "_view_name": "StyleView",
            "background": null,
            "description_width": "",
            "font_size": null,
            "text_color": null
          }
        },
        "29e99cb6ba664f24a1005c00bd4b920d": {
          "model_module": "@jupyter-widgets/base",
          "model_name": "LayoutModel",
          "model_module_version": "2.0.0",
          "state": {
            "_model_module": "@jupyter-widgets/base",
            "_model_module_version": "2.0.0",
            "_model_name": "LayoutModel",
            "_view_count": null,
            "_view_module": "@jupyter-widgets/base",
            "_view_module_version": "2.0.0",
            "_view_name": "LayoutView",
            "align_content": null,
            "align_items": null,
            "align_self": null,
            "border_bottom": null,
            "border_left": null,
            "border_right": null,
            "border_top": null,
            "bottom": null,
            "display": null,
            "flex": null,
            "flex_flow": null,
            "grid_area": null,
            "grid_auto_columns": null,
            "grid_auto_flow": null,
            "grid_auto_rows": null,
            "grid_column": null,
            "grid_gap": null,
            "grid_row": null,
            "grid_template_areas": null,
            "grid_template_columns": null,
            "grid_template_rows": null,
            "height": null,
            "justify_content": null,
            "justify_items": null,
            "left": null,
            "margin": null,
            "max_height": null,
            "max_width": null,
            "min_height": null,
            "min_width": null,
            "object_fit": null,
            "object_position": null,
            "order": null,
            "overflow": null,
            "padding": null,
            "right": null,
            "top": null,
            "visibility": null,
            "width": null
          }
        },
        "afbd0fcb49734cc1a5a16b96c7c57092": {
          "model_module": "@jupyter-widgets/controls",
          "model_name": "ProgressStyleModel",
          "model_module_version": "2.0.0",
          "state": {
            "_model_module": "@jupyter-widgets/controls",
            "_model_module_version": "2.0.0",
            "_model_name": "ProgressStyleModel",
            "_view_count": null,
            "_view_module": "@jupyter-widgets/base",
            "_view_module_version": "2.0.0",
            "_view_name": "StyleView",
            "bar_color": null,
            "description_width": ""
          }
        },
        "cf84180420d846e1a5fc75c57db1b072": {
          "model_module": "@jupyter-widgets/base",
          "model_name": "LayoutModel",
          "model_module_version": "2.0.0",
          "state": {
            "_model_module": "@jupyter-widgets/base",
            "_model_module_version": "2.0.0",
            "_model_name": "LayoutModel",
            "_view_count": null,
            "_view_module": "@jupyter-widgets/base",
            "_view_module_version": "2.0.0",
            "_view_name": "LayoutView",
            "align_content": null,
            "align_items": null,
            "align_self": null,
            "border_bottom": null,
            "border_left": null,
            "border_right": null,
            "border_top": null,
            "bottom": null,
            "display": null,
            "flex": null,
            "flex_flow": null,
            "grid_area": null,
            "grid_auto_columns": null,
            "grid_auto_flow": null,
            "grid_auto_rows": null,
            "grid_column": null,
            "grid_gap": null,
            "grid_row": null,
            "grid_template_areas": null,
            "grid_template_columns": null,
            "grid_template_rows": null,
            "height": null,
            "justify_content": null,
            "justify_items": null,
            "left": null,
            "margin": null,
            "max_height": null,
            "max_width": null,
            "min_height": null,
            "min_width": null,
            "object_fit": null,
            "object_position": null,
            "order": null,
            "overflow": null,
            "padding": null,
            "right": null,
            "top": null,
            "visibility": null,
            "width": null
          }
        },
        "8bac43a4c8e94fd3b63532473b40a4d4": {
          "model_module": "@jupyter-widgets/controls",
          "model_name": "HTMLStyleModel",
          "model_module_version": "2.0.0",
          "state": {
            "_model_module": "@jupyter-widgets/controls",
            "_model_module_version": "2.0.0",
            "_model_name": "HTMLStyleModel",
            "_view_count": null,
            "_view_module": "@jupyter-widgets/base",
            "_view_module_version": "2.0.0",
            "_view_name": "StyleView",
            "background": null,
            "description_width": "",
            "font_size": null,
            "text_color": null
          }
        },
        "85ec2303e07847e8be346d6becb1e012": {
          "model_module": "@jupyter-widgets/controls",
          "model_name": "HBoxModel",
          "model_module_version": "2.0.0",
          "state": {
            "_dom_classes": [],
            "_model_module": "@jupyter-widgets/controls",
            "_model_module_version": "2.0.0",
            "_model_name": "HBoxModel",
            "_view_count": null,
            "_view_module": "@jupyter-widgets/controls",
            "_view_module_version": "2.0.0",
            "_view_name": "HBoxView",
            "box_style": "",
            "children": [
              "IPY_MODEL_192ebc53a819424391272d9e5c94f39f",
              "IPY_MODEL_4070440c68e74899b5fd4fb0b602b2a4",
              "IPY_MODEL_8a452ea7a0d24c4f9c4647eeb59042d0"
            ],
            "layout": "IPY_MODEL_71577ef773fe426ca84e8be212a367f0",
            "tabbable": null,
            "tooltip": null
          }
        },
        "192ebc53a819424391272d9e5c94f39f": {
          "model_module": "@jupyter-widgets/controls",
          "model_name": "HTMLModel",
          "model_module_version": "2.0.0",
          "state": {
            "_dom_classes": [],
            "_model_module": "@jupyter-widgets/controls",
            "_model_module_version": "2.0.0",
            "_model_name": "HTMLModel",
            "_view_count": null,
            "_view_module": "@jupyter-widgets/controls",
            "_view_module_version": "2.0.0",
            "_view_name": "HTMLView",
            "description": "",
            "description_allow_html": false,
            "layout": "IPY_MODEL_c7ac0a2401424be39f84dde3a4df24d8",
            "placeholder": "​",
            "style": "IPY_MODEL_3ba26a6754c64263bd4b6776edc8a150",
            "tabbable": null,
            "tooltip": null,
            "value": "Downloading: 100%"
          }
        },
        "4070440c68e74899b5fd4fb0b602b2a4": {
          "model_module": "@jupyter-widgets/controls",
          "model_name": "FloatProgressModel",
          "model_module_version": "2.0.0",
          "state": {
            "_dom_classes": [],
            "_model_module": "@jupyter-widgets/controls",
            "_model_module_version": "2.0.0",
            "_model_name": "FloatProgressModel",
            "_view_count": null,
            "_view_module": "@jupyter-widgets/controls",
            "_view_module_version": "2.0.0",
            "_view_name": "ProgressView",
            "bar_style": "success",
            "description": "",
            "description_allow_html": false,
            "layout": "IPY_MODEL_f7267a6c408c4345b883582468cf07aa",
            "max": 28,
            "min": 0,
            "orientation": "horizontal",
            "style": "IPY_MODEL_7c01594af50c47bd844418407f54c011",
            "tabbable": null,
            "tooltip": null,
            "value": 28
          }
        },
        "8a452ea7a0d24c4f9c4647eeb59042d0": {
          "model_module": "@jupyter-widgets/controls",
          "model_name": "HTMLModel",
          "model_module_version": "2.0.0",
          "state": {
            "_dom_classes": [],
            "_model_module": "@jupyter-widgets/controls",
            "_model_module_version": "2.0.0",
            "_model_name": "HTMLModel",
            "_view_count": null,
            "_view_module": "@jupyter-widgets/controls",
            "_view_module_version": "2.0.0",
            "_view_name": "HTMLView",
            "description": "",
            "description_allow_html": false,
            "layout": "IPY_MODEL_f42db2fdd58f4a3492a7064b917274ad",
            "placeholder": "​",
            "style": "IPY_MODEL_66b2b11c714c45df87feaf77ce9676fb",
            "tabbable": null,
            "tooltip": null,
            "value": " 28.0/28.0 [00:00&lt;00:00, 751B/s]"
          }
        },
        "71577ef773fe426ca84e8be212a367f0": {
          "model_module": "@jupyter-widgets/base",
          "model_name": "LayoutModel",
          "model_module_version": "2.0.0",
          "state": {
            "_model_module": "@jupyter-widgets/base",
            "_model_module_version": "2.0.0",
            "_model_name": "LayoutModel",
            "_view_count": null,
            "_view_module": "@jupyter-widgets/base",
            "_view_module_version": "2.0.0",
            "_view_name": "LayoutView",
            "align_content": null,
            "align_items": null,
            "align_self": null,
            "border_bottom": null,
            "border_left": null,
            "border_right": null,
            "border_top": null,
            "bottom": null,
            "display": null,
            "flex": null,
            "flex_flow": null,
            "grid_area": null,
            "grid_auto_columns": null,
            "grid_auto_flow": null,
            "grid_auto_rows": null,
            "grid_column": null,
            "grid_gap": null,
            "grid_row": null,
            "grid_template_areas": null,
            "grid_template_columns": null,
            "grid_template_rows": null,
            "height": null,
            "justify_content": null,
            "justify_items": null,
            "left": null,
            "margin": null,
            "max_height": null,
            "max_width": null,
            "min_height": null,
            "min_width": null,
            "object_fit": null,
            "object_position": null,
            "order": null,
            "overflow": null,
            "padding": null,
            "right": null,
            "top": null,
            "visibility": null,
            "width": null
          }
        },
        "c7ac0a2401424be39f84dde3a4df24d8": {
          "model_module": "@jupyter-widgets/base",
          "model_name": "LayoutModel",
          "model_module_version": "2.0.0",
          "state": {
            "_model_module": "@jupyter-widgets/base",
            "_model_module_version": "2.0.0",
            "_model_name": "LayoutModel",
            "_view_count": null,
            "_view_module": "@jupyter-widgets/base",
            "_view_module_version": "2.0.0",
            "_view_name": "LayoutView",
            "align_content": null,
            "align_items": null,
            "align_self": null,
            "border_bottom": null,
            "border_left": null,
            "border_right": null,
            "border_top": null,
            "bottom": null,
            "display": null,
            "flex": null,
            "flex_flow": null,
            "grid_area": null,
            "grid_auto_columns": null,
            "grid_auto_flow": null,
            "grid_auto_rows": null,
            "grid_column": null,
            "grid_gap": null,
            "grid_row": null,
            "grid_template_areas": null,
            "grid_template_columns": null,
            "grid_template_rows": null,
            "height": null,
            "justify_content": null,
            "justify_items": null,
            "left": null,
            "margin": null,
            "max_height": null,
            "max_width": null,
            "min_height": null,
            "min_width": null,
            "object_fit": null,
            "object_position": null,
            "order": null,
            "overflow": null,
            "padding": null,
            "right": null,
            "top": null,
            "visibility": null,
            "width": null
          }
        },
        "3ba26a6754c64263bd4b6776edc8a150": {
          "model_module": "@jupyter-widgets/controls",
          "model_name": "HTMLStyleModel",
          "model_module_version": "2.0.0",
          "state": {
            "_model_module": "@jupyter-widgets/controls",
            "_model_module_version": "2.0.0",
            "_model_name": "HTMLStyleModel",
            "_view_count": null,
            "_view_module": "@jupyter-widgets/base",
            "_view_module_version": "2.0.0",
            "_view_name": "StyleView",
            "background": null,
            "description_width": "",
            "font_size": null,
            "text_color": null
          }
        },
        "f7267a6c408c4345b883582468cf07aa": {
          "model_module": "@jupyter-widgets/base",
          "model_name": "LayoutModel",
          "model_module_version": "2.0.0",
          "state": {
            "_model_module": "@jupyter-widgets/base",
            "_model_module_version": "2.0.0",
            "_model_name": "LayoutModel",
            "_view_count": null,
            "_view_module": "@jupyter-widgets/base",
            "_view_module_version": "2.0.0",
            "_view_name": "LayoutView",
            "align_content": null,
            "align_items": null,
            "align_self": null,
            "border_bottom": null,
            "border_left": null,
            "border_right": null,
            "border_top": null,
            "bottom": null,
            "display": null,
            "flex": null,
            "flex_flow": null,
            "grid_area": null,
            "grid_auto_columns": null,
            "grid_auto_flow": null,
            "grid_auto_rows": null,
            "grid_column": null,
            "grid_gap": null,
            "grid_row": null,
            "grid_template_areas": null,
            "grid_template_columns": null,
            "grid_template_rows": null,
            "height": null,
            "justify_content": null,
            "justify_items": null,
            "left": null,
            "margin": null,
            "max_height": null,
            "max_width": null,
            "min_height": null,
            "min_width": null,
            "object_fit": null,
            "object_position": null,
            "order": null,
            "overflow": null,
            "padding": null,
            "right": null,
            "top": null,
            "visibility": null,
            "width": null
          }
        },
        "7c01594af50c47bd844418407f54c011": {
          "model_module": "@jupyter-widgets/controls",
          "model_name": "ProgressStyleModel",
          "model_module_version": "2.0.0",
          "state": {
            "_model_module": "@jupyter-widgets/controls",
            "_model_module_version": "2.0.0",
            "_model_name": "ProgressStyleModel",
            "_view_count": null,
            "_view_module": "@jupyter-widgets/base",
            "_view_module_version": "2.0.0",
            "_view_name": "StyleView",
            "bar_color": null,
            "description_width": ""
          }
        },
        "f42db2fdd58f4a3492a7064b917274ad": {
          "model_module": "@jupyter-widgets/base",
          "model_name": "LayoutModel",
          "model_module_version": "2.0.0",
          "state": {
            "_model_module": "@jupyter-widgets/base",
            "_model_module_version": "2.0.0",
            "_model_name": "LayoutModel",
            "_view_count": null,
            "_view_module": "@jupyter-widgets/base",
            "_view_module_version": "2.0.0",
            "_view_name": "LayoutView",
            "align_content": null,
            "align_items": null,
            "align_self": null,
            "border_bottom": null,
            "border_left": null,
            "border_right": null,
            "border_top": null,
            "bottom": null,
            "display": null,
            "flex": null,
            "flex_flow": null,
            "grid_area": null,
            "grid_auto_columns": null,
            "grid_auto_flow": null,
            "grid_auto_rows": null,
            "grid_column": null,
            "grid_gap": null,
            "grid_row": null,
            "grid_template_areas": null,
            "grid_template_columns": null,
            "grid_template_rows": null,
            "height": null,
            "justify_content": null,
            "justify_items": null,
            "left": null,
            "margin": null,
            "max_height": null,
            "max_width": null,
            "min_height": null,
            "min_width": null,
            "object_fit": null,
            "object_position": null,
            "order": null,
            "overflow": null,
            "padding": null,
            "right": null,
            "top": null,
            "visibility": null,
            "width": null
          }
        },
        "66b2b11c714c45df87feaf77ce9676fb": {
          "model_module": "@jupyter-widgets/controls",
          "model_name": "HTMLStyleModel",
          "model_module_version": "2.0.0",
          "state": {
            "_model_module": "@jupyter-widgets/controls",
            "_model_module_version": "2.0.0",
            "_model_name": "HTMLStyleModel",
            "_view_count": null,
            "_view_module": "@jupyter-widgets/base",
            "_view_module_version": "2.0.0",
            "_view_name": "StyleView",
            "background": null,
            "description_width": "",
            "font_size": null,
            "text_color": null
          }
        },
        "a6fa1d899a064ce5b8c6a6d84c09c7ae": {
          "model_module": "@jupyter-widgets/controls",
          "model_name": "HBoxModel",
          "model_module_version": "2.0.0",
          "state": {
            "_dom_classes": [],
            "_model_module": "@jupyter-widgets/controls",
            "_model_module_version": "2.0.0",
            "_model_name": "HBoxModel",
            "_view_count": null,
            "_view_module": "@jupyter-widgets/controls",
            "_view_module_version": "2.0.0",
            "_view_name": "HBoxView",
            "box_style": "",
            "children": [
              "IPY_MODEL_7caaa40014f841efa8eab4d0f4baed4d",
              "IPY_MODEL_1c041f7fdc0a44e58ed09e69ce62c763",
              "IPY_MODEL_f616e05510074aea8e4e43d71f99bad4"
            ],
            "layout": "IPY_MODEL_b794dd5603ce44468098089e40858f10",
            "tabbable": null,
            "tooltip": null
          }
        },
        "7caaa40014f841efa8eab4d0f4baed4d": {
          "model_module": "@jupyter-widgets/controls",
          "model_name": "HTMLModel",
          "model_module_version": "2.0.0",
          "state": {
            "_dom_classes": [],
            "_model_module": "@jupyter-widgets/controls",
            "_model_module_version": "2.0.0",
            "_model_name": "HTMLModel",
            "_view_count": null,
            "_view_module": "@jupyter-widgets/controls",
            "_view_module_version": "2.0.0",
            "_view_name": "HTMLView",
            "description": "",
            "description_allow_html": false,
            "layout": "IPY_MODEL_96af8cf4631b417bb42ce0c041287061",
            "placeholder": "​",
            "style": "IPY_MODEL_f23879b2fbbb497bb1af042f3af4dc0e",
            "tabbable": null,
            "tooltip": null,
            "value": "Downloading: 100%"
          }
        },
        "1c041f7fdc0a44e58ed09e69ce62c763": {
          "model_module": "@jupyter-widgets/controls",
          "model_name": "FloatProgressModel",
          "model_module_version": "2.0.0",
          "state": {
            "_dom_classes": [],
            "_model_module": "@jupyter-widgets/controls",
            "_model_module_version": "2.0.0",
            "_model_name": "FloatProgressModel",
            "_view_count": null,
            "_view_module": "@jupyter-widgets/controls",
            "_view_module_version": "2.0.0",
            "_view_name": "ProgressView",
            "bar_style": "success",
            "description": "",
            "description_allow_html": false,
            "layout": "IPY_MODEL_5b4952db78dd4a31a2df1f8bae20de93",
            "max": 231508,
            "min": 0,
            "orientation": "horizontal",
            "style": "IPY_MODEL_6b8dce453f194f3aa45bb21e0e4e86a0",
            "tabbable": null,
            "tooltip": null,
            "value": 231508
          }
        },
        "f616e05510074aea8e4e43d71f99bad4": {
          "model_module": "@jupyter-widgets/controls",
          "model_name": "HTMLModel",
          "model_module_version": "2.0.0",
          "state": {
            "_dom_classes": [],
            "_model_module": "@jupyter-widgets/controls",
            "_model_module_version": "2.0.0",
            "_model_name": "HTMLModel",
            "_view_count": null,
            "_view_module": "@jupyter-widgets/controls",
            "_view_module_version": "2.0.0",
            "_view_name": "HTMLView",
            "description": "",
            "description_allow_html": false,
            "layout": "IPY_MODEL_e3fcaebe46a24735bb25a9e4e9e2a753",
            "placeholder": "​",
            "style": "IPY_MODEL_7157129c07624d84b188a3963243d959",
            "tabbable": null,
            "tooltip": null,
            "value": " 226k/226k [00:00&lt;00:00, 5.21MB/s]"
          }
        },
        "b794dd5603ce44468098089e40858f10": {
          "model_module": "@jupyter-widgets/base",
          "model_name": "LayoutModel",
          "model_module_version": "2.0.0",
          "state": {
            "_model_module": "@jupyter-widgets/base",
            "_model_module_version": "2.0.0",
            "_model_name": "LayoutModel",
            "_view_count": null,
            "_view_module": "@jupyter-widgets/base",
            "_view_module_version": "2.0.0",
            "_view_name": "LayoutView",
            "align_content": null,
            "align_items": null,
            "align_self": null,
            "border_bottom": null,
            "border_left": null,
            "border_right": null,
            "border_top": null,
            "bottom": null,
            "display": null,
            "flex": null,
            "flex_flow": null,
            "grid_area": null,
            "grid_auto_columns": null,
            "grid_auto_flow": null,
            "grid_auto_rows": null,
            "grid_column": null,
            "grid_gap": null,
            "grid_row": null,
            "grid_template_areas": null,
            "grid_template_columns": null,
            "grid_template_rows": null,
            "height": null,
            "justify_content": null,
            "justify_items": null,
            "left": null,
            "margin": null,
            "max_height": null,
            "max_width": null,
            "min_height": null,
            "min_width": null,
            "object_fit": null,
            "object_position": null,
            "order": null,
            "overflow": null,
            "padding": null,
            "right": null,
            "top": null,
            "visibility": null,
            "width": null
          }
        },
        "96af8cf4631b417bb42ce0c041287061": {
          "model_module": "@jupyter-widgets/base",
          "model_name": "LayoutModel",
          "model_module_version": "2.0.0",
          "state": {
            "_model_module": "@jupyter-widgets/base",
            "_model_module_version": "2.0.0",
            "_model_name": "LayoutModel",
            "_view_count": null,
            "_view_module": "@jupyter-widgets/base",
            "_view_module_version": "2.0.0",
            "_view_name": "LayoutView",
            "align_content": null,
            "align_items": null,
            "align_self": null,
            "border_bottom": null,
            "border_left": null,
            "border_right": null,
            "border_top": null,
            "bottom": null,
            "display": null,
            "flex": null,
            "flex_flow": null,
            "grid_area": null,
            "grid_auto_columns": null,
            "grid_auto_flow": null,
            "grid_auto_rows": null,
            "grid_column": null,
            "grid_gap": null,
            "grid_row": null,
            "grid_template_areas": null,
            "grid_template_columns": null,
            "grid_template_rows": null,
            "height": null,
            "justify_content": null,
            "justify_items": null,
            "left": null,
            "margin": null,
            "max_height": null,
            "max_width": null,
            "min_height": null,
            "min_width": null,
            "object_fit": null,
            "object_position": null,
            "order": null,
            "overflow": null,
            "padding": null,
            "right": null,
            "top": null,
            "visibility": null,
            "width": null
          }
        },
        "f23879b2fbbb497bb1af042f3af4dc0e": {
          "model_module": "@jupyter-widgets/controls",
          "model_name": "HTMLStyleModel",
          "model_module_version": "2.0.0",
          "state": {
            "_model_module": "@jupyter-widgets/controls",
            "_model_module_version": "2.0.0",
            "_model_name": "HTMLStyleModel",
            "_view_count": null,
            "_view_module": "@jupyter-widgets/base",
            "_view_module_version": "2.0.0",
            "_view_name": "StyleView",
            "background": null,
            "description_width": "",
            "font_size": null,
            "text_color": null
          }
        },
        "5b4952db78dd4a31a2df1f8bae20de93": {
          "model_module": "@jupyter-widgets/base",
          "model_name": "LayoutModel",
          "model_module_version": "2.0.0",
          "state": {
            "_model_module": "@jupyter-widgets/base",
            "_model_module_version": "2.0.0",
            "_model_name": "LayoutModel",
            "_view_count": null,
            "_view_module": "@jupyter-widgets/base",
            "_view_module_version": "2.0.0",
            "_view_name": "LayoutView",
            "align_content": null,
            "align_items": null,
            "align_self": null,
            "border_bottom": null,
            "border_left": null,
            "border_right": null,
            "border_top": null,
            "bottom": null,
            "display": null,
            "flex": null,
            "flex_flow": null,
            "grid_area": null,
            "grid_auto_columns": null,
            "grid_auto_flow": null,
            "grid_auto_rows": null,
            "grid_column": null,
            "grid_gap": null,
            "grid_row": null,
            "grid_template_areas": null,
            "grid_template_columns": null,
            "grid_template_rows": null,
            "height": null,
            "justify_content": null,
            "justify_items": null,
            "left": null,
            "margin": null,
            "max_height": null,
            "max_width": null,
            "min_height": null,
            "min_width": null,
            "object_fit": null,
            "object_position": null,
            "order": null,
            "overflow": null,
            "padding": null,
            "right": null,
            "top": null,
            "visibility": null,
            "width": null
          }
        },
        "6b8dce453f194f3aa45bb21e0e4e86a0": {
          "model_module": "@jupyter-widgets/controls",
          "model_name": "ProgressStyleModel",
          "model_module_version": "2.0.0",
          "state": {
            "_model_module": "@jupyter-widgets/controls",
            "_model_module_version": "2.0.0",
            "_model_name": "ProgressStyleModel",
            "_view_count": null,
            "_view_module": "@jupyter-widgets/base",
            "_view_module_version": "2.0.0",
            "_view_name": "StyleView",
            "bar_color": null,
            "description_width": ""
          }
        },
        "e3fcaebe46a24735bb25a9e4e9e2a753": {
          "model_module": "@jupyter-widgets/base",
          "model_name": "LayoutModel",
          "model_module_version": "2.0.0",
          "state": {
            "_model_module": "@jupyter-widgets/base",
            "_model_module_version": "2.0.0",
            "_model_name": "LayoutModel",
            "_view_count": null,
            "_view_module": "@jupyter-widgets/base",
            "_view_module_version": "2.0.0",
            "_view_name": "LayoutView",
            "align_content": null,
            "align_items": null,
            "align_self": null,
            "border_bottom": null,
            "border_left": null,
            "border_right": null,
            "border_top": null,
            "bottom": null,
            "display": null,
            "flex": null,
            "flex_flow": null,
            "grid_area": null,
            "grid_auto_columns": null,
            "grid_auto_flow": null,
            "grid_auto_rows": null,
            "grid_column": null,
            "grid_gap": null,
            "grid_row": null,
            "grid_template_areas": null,
            "grid_template_columns": null,
            "grid_template_rows": null,
            "height": null,
            "justify_content": null,
            "justify_items": null,
            "left": null,
            "margin": null,
            "max_height": null,
            "max_width": null,
            "min_height": null,
            "min_width": null,
            "object_fit": null,
            "object_position": null,
            "order": null,
            "overflow": null,
            "padding": null,
            "right": null,
            "top": null,
            "visibility": null,
            "width": null
          }
        },
        "7157129c07624d84b188a3963243d959": {
          "model_module": "@jupyter-widgets/controls",
          "model_name": "HTMLStyleModel",
          "model_module_version": "2.0.0",
          "state": {
            "_model_module": "@jupyter-widgets/controls",
            "_model_module_version": "2.0.0",
            "_model_name": "HTMLStyleModel",
            "_view_count": null,
            "_view_module": "@jupyter-widgets/base",
            "_view_module_version": "2.0.0",
            "_view_name": "StyleView",
            "background": null,
            "description_width": "",
            "font_size": null,
            "text_color": null
          }
        },
        "9e2448e2114f4449897438aee864be50": {
          "model_module": "@jupyter-widgets/controls",
          "model_name": "HBoxModel",
          "model_module_version": "2.0.0",
          "state": {
            "_dom_classes": [],
            "_model_module": "@jupyter-widgets/controls",
            "_model_module_version": "2.0.0",
            "_model_name": "HBoxModel",
            "_view_count": null,
            "_view_module": "@jupyter-widgets/controls",
            "_view_module_version": "2.0.0",
            "_view_name": "HBoxView",
            "box_style": "",
            "children": [
              "IPY_MODEL_13f5f0bf458a463fbc51295241531d7a",
              "IPY_MODEL_7e32e1e6d3b1447eb02343f82795ffc1",
              "IPY_MODEL_615800fd712740d9a65b3dbcccadda81"
            ],
            "layout": "IPY_MODEL_ec830d5eb98e41edaf7f828f45447a88",
            "tabbable": null,
            "tooltip": null
          }
        },
        "13f5f0bf458a463fbc51295241531d7a": {
          "model_module": "@jupyter-widgets/controls",
          "model_name": "HTMLModel",
          "model_module_version": "2.0.0",
          "state": {
            "_dom_classes": [],
            "_model_module": "@jupyter-widgets/controls",
            "_model_module_version": "2.0.0",
            "_model_name": "HTMLModel",
            "_view_count": null,
            "_view_module": "@jupyter-widgets/controls",
            "_view_module_version": "2.0.0",
            "_view_name": "HTMLView",
            "description": "",
            "description_allow_html": false,
            "layout": "IPY_MODEL_000acc67b0f84bd18863a7fe69f18468",
            "placeholder": "​",
            "style": "IPY_MODEL_828634eab54446d6b2b58a73ed2bcd52",
            "tabbable": null,
            "tooltip": null,
            "value": "Downloading: 100%"
          }
        },
        "7e32e1e6d3b1447eb02343f82795ffc1": {
          "model_module": "@jupyter-widgets/controls",
          "model_name": "FloatProgressModel",
          "model_module_version": "2.0.0",
          "state": {
            "_dom_classes": [],
            "_model_module": "@jupyter-widgets/controls",
            "_model_module_version": "2.0.0",
            "_model_name": "FloatProgressModel",
            "_view_count": null,
            "_view_module": "@jupyter-widgets/controls",
            "_view_module_version": "2.0.0",
            "_view_name": "ProgressView",
            "bar_style": "success",
            "description": "",
            "description_allow_html": false,
            "layout": "IPY_MODEL_cd349557d2f9458dae7f008238a3057c",
            "max": 466062,
            "min": 0,
            "orientation": "horizontal",
            "style": "IPY_MODEL_5aa2d033f9854f4baa7b93ab990bd219",
            "tabbable": null,
            "tooltip": null,
            "value": 466062
          }
        },
        "615800fd712740d9a65b3dbcccadda81": {
          "model_module": "@jupyter-widgets/controls",
          "model_name": "HTMLModel",
          "model_module_version": "2.0.0",
          "state": {
            "_dom_classes": [],
            "_model_module": "@jupyter-widgets/controls",
            "_model_module_version": "2.0.0",
            "_model_name": "HTMLModel",
            "_view_count": null,
            "_view_module": "@jupyter-widgets/controls",
            "_view_module_version": "2.0.0",
            "_view_name": "HTMLView",
            "description": "",
            "description_allow_html": false,
            "layout": "IPY_MODEL_64fed1adb49f48f1aed389e5c475d64d",
            "placeholder": "​",
            "style": "IPY_MODEL_a8f6e84bda91437685e13a88f3e7f5f5",
            "tabbable": null,
            "tooltip": null,
            "value": " 455k/455k [00:00&lt;00:00, 8.45MB/s]"
          }
        },
        "ec830d5eb98e41edaf7f828f45447a88": {
          "model_module": "@jupyter-widgets/base",
          "model_name": "LayoutModel",
          "model_module_version": "2.0.0",
          "state": {
            "_model_module": "@jupyter-widgets/base",
            "_model_module_version": "2.0.0",
            "_model_name": "LayoutModel",
            "_view_count": null,
            "_view_module": "@jupyter-widgets/base",
            "_view_module_version": "2.0.0",
            "_view_name": "LayoutView",
            "align_content": null,
            "align_items": null,
            "align_self": null,
            "border_bottom": null,
            "border_left": null,
            "border_right": null,
            "border_top": null,
            "bottom": null,
            "display": null,
            "flex": null,
            "flex_flow": null,
            "grid_area": null,
            "grid_auto_columns": null,
            "grid_auto_flow": null,
            "grid_auto_rows": null,
            "grid_column": null,
            "grid_gap": null,
            "grid_row": null,
            "grid_template_areas": null,
            "grid_template_columns": null,
            "grid_template_rows": null,
            "height": null,
            "justify_content": null,
            "justify_items": null,
            "left": null,
            "margin": null,
            "max_height": null,
            "max_width": null,
            "min_height": null,
            "min_width": null,
            "object_fit": null,
            "object_position": null,
            "order": null,
            "overflow": null,
            "padding": null,
            "right": null,
            "top": null,
            "visibility": null,
            "width": null
          }
        },
        "000acc67b0f84bd18863a7fe69f18468": {
          "model_module": "@jupyter-widgets/base",
          "model_name": "LayoutModel",
          "model_module_version": "2.0.0",
          "state": {
            "_model_module": "@jupyter-widgets/base",
            "_model_module_version": "2.0.0",
            "_model_name": "LayoutModel",
            "_view_count": null,
            "_view_module": "@jupyter-widgets/base",
            "_view_module_version": "2.0.0",
            "_view_name": "LayoutView",
            "align_content": null,
            "align_items": null,
            "align_self": null,
            "border_bottom": null,
            "border_left": null,
            "border_right": null,
            "border_top": null,
            "bottom": null,
            "display": null,
            "flex": null,
            "flex_flow": null,
            "grid_area": null,
            "grid_auto_columns": null,
            "grid_auto_flow": null,
            "grid_auto_rows": null,
            "grid_column": null,
            "grid_gap": null,
            "grid_row": null,
            "grid_template_areas": null,
            "grid_template_columns": null,
            "grid_template_rows": null,
            "height": null,
            "justify_content": null,
            "justify_items": null,
            "left": null,
            "margin": null,
            "max_height": null,
            "max_width": null,
            "min_height": null,
            "min_width": null,
            "object_fit": null,
            "object_position": null,
            "order": null,
            "overflow": null,
            "padding": null,
            "right": null,
            "top": null,
            "visibility": null,
            "width": null
          }
        },
        "828634eab54446d6b2b58a73ed2bcd52": {
          "model_module": "@jupyter-widgets/controls",
          "model_name": "HTMLStyleModel",
          "model_module_version": "2.0.0",
          "state": {
            "_model_module": "@jupyter-widgets/controls",
            "_model_module_version": "2.0.0",
            "_model_name": "HTMLStyleModel",
            "_view_count": null,
            "_view_module": "@jupyter-widgets/base",
            "_view_module_version": "2.0.0",
            "_view_name": "StyleView",
            "background": null,
            "description_width": "",
            "font_size": null,
            "text_color": null
          }
        },
        "cd349557d2f9458dae7f008238a3057c": {
          "model_module": "@jupyter-widgets/base",
          "model_name": "LayoutModel",
          "model_module_version": "2.0.0",
          "state": {
            "_model_module": "@jupyter-widgets/base",
            "_model_module_version": "2.0.0",
            "_model_name": "LayoutModel",
            "_view_count": null,
            "_view_module": "@jupyter-widgets/base",
            "_view_module_version": "2.0.0",
            "_view_name": "LayoutView",
            "align_content": null,
            "align_items": null,
            "align_self": null,
            "border_bottom": null,
            "border_left": null,
            "border_right": null,
            "border_top": null,
            "bottom": null,
            "display": null,
            "flex": null,
            "flex_flow": null,
            "grid_area": null,
            "grid_auto_columns": null,
            "grid_auto_flow": null,
            "grid_auto_rows": null,
            "grid_column": null,
            "grid_gap": null,
            "grid_row": null,
            "grid_template_areas": null,
            "grid_template_columns": null,
            "grid_template_rows": null,
            "height": null,
            "justify_content": null,
            "justify_items": null,
            "left": null,
            "margin": null,
            "max_height": null,
            "max_width": null,
            "min_height": null,
            "min_width": null,
            "object_fit": null,
            "object_position": null,
            "order": null,
            "overflow": null,
            "padding": null,
            "right": null,
            "top": null,
            "visibility": null,
            "width": null
          }
        },
        "5aa2d033f9854f4baa7b93ab990bd219": {
          "model_module": "@jupyter-widgets/controls",
          "model_name": "ProgressStyleModel",
          "model_module_version": "2.0.0",
          "state": {
            "_model_module": "@jupyter-widgets/controls",
            "_model_module_version": "2.0.0",
            "_model_name": "ProgressStyleModel",
            "_view_count": null,
            "_view_module": "@jupyter-widgets/base",
            "_view_module_version": "2.0.0",
            "_view_name": "StyleView",
            "bar_color": null,
            "description_width": ""
          }
        },
        "64fed1adb49f48f1aed389e5c475d64d": {
          "model_module": "@jupyter-widgets/base",
          "model_name": "LayoutModel",
          "model_module_version": "2.0.0",
          "state": {
            "_model_module": "@jupyter-widgets/base",
            "_model_module_version": "2.0.0",
            "_model_name": "LayoutModel",
            "_view_count": null,
            "_view_module": "@jupyter-widgets/base",
            "_view_module_version": "2.0.0",
            "_view_name": "LayoutView",
            "align_content": null,
            "align_items": null,
            "align_self": null,
            "border_bottom": null,
            "border_left": null,
            "border_right": null,
            "border_top": null,
            "bottom": null,
            "display": null,
            "flex": null,
            "flex_flow": null,
            "grid_area": null,
            "grid_auto_columns": null,
            "grid_auto_flow": null,
            "grid_auto_rows": null,
            "grid_column": null,
            "grid_gap": null,
            "grid_row": null,
            "grid_template_areas": null,
            "grid_template_columns": null,
            "grid_template_rows": null,
            "height": null,
            "justify_content": null,
            "justify_items": null,
            "left": null,
            "margin": null,
            "max_height": null,
            "max_width": null,
            "min_height": null,
            "min_width": null,
            "object_fit": null,
            "object_position": null,
            "order": null,
            "overflow": null,
            "padding": null,
            "right": null,
            "top": null,
            "visibility": null,
            "width": null
          }
        },
        "a8f6e84bda91437685e13a88f3e7f5f5": {
          "model_module": "@jupyter-widgets/controls",
          "model_name": "HTMLStyleModel",
          "model_module_version": "2.0.0",
          "state": {
            "_model_module": "@jupyter-widgets/controls",
            "_model_module_version": "2.0.0",
            "_model_name": "HTMLStyleModel",
            "_view_count": null,
            "_view_module": "@jupyter-widgets/base",
            "_view_module_version": "2.0.0",
            "_view_name": "StyleView",
            "background": null,
            "description_width": "",
            "font_size": null,
            "text_color": null
          }
        }
      }
    }
  },
  "cells": [
    {
      "cell_type": "markdown",
      "source": [
        "# Introduction\n",
        "For the final project of the final course in the machine learning series, I wanted to take the opportunity to assess the impact of the different stages in text classification."
      ],
      "metadata": {
        "id": "-A_oZ2q2mvHd"
      }
    },
    {
      "cell_type": "markdown",
      "source": [
        "##Exploratory Data Analysis (EDA)"
      ],
      "metadata": {
        "id": "VVTCPS6JoQKf"
      }
    },
    {
      "cell_type": "code",
      "source": [
        "import keras\n",
        "from numpy import asarray\n",
        "from numpy import zeros\n",
        "from keras.utils.np_utils import to_categorical\n",
        "from keras.preprocessing.text import Tokenizer\n",
        "from keras.preprocessing.sequence import pad_sequences\n",
        "from sklearn.model_selection import train_test_split\n",
        "from keras.models import Sequential\n",
        "from keras.layers import Dense\n",
        "from keras.layers import Flatten\n",
        "from keras.layers import Embedding\n",
        "import re\n",
        "import csv\n",
        "import pandas\n",
        "import numpy as np\n",
        "import string\n",
        "\n",
        "#from tensorflow.contrib import rnn\n",
        "import tensorflow as tf\n",
        "import matplotlib.pyplot as plt\n",
        "import tensorflow as tf\n",
        "from tensorflow import keras\n",
        "from tensorflow.keras import layers\n",
        "from keras.preprocessing.text import one_hot\n",
        "import nltk\n",
        "try:\n",
        "  import ktrain\n",
        "except:\n",
        "  !pip install ktrain\n",
        "nltk.download('omw-1.4')\n",
        "nltk.download(\"punkt\")\n",
        "nltk.download(\"wordnet\")"
      ],
      "metadata": {
        "id": "1Rd75V4ytVHP",
        "colab": {
          "base_uri": "https://localhost:8080/"
        },
        "outputId": "6f91132b-0a62-4634-fbef-0710d3f4886e"
      },
      "execution_count": null,
      "outputs": [
        {
          "output_type": "stream",
          "name": "stderr",
          "text": [
            "[nltk_data] Downloading package omw-1.4 to /root/nltk_data...\n",
            "[nltk_data]   Package omw-1.4 is already up-to-date!\n",
            "[nltk_data] Downloading package punkt to /root/nltk_data...\n",
            "[nltk_data]   Package punkt is already up-to-date!\n",
            "[nltk_data] Downloading package wordnet to /root/nltk_data...\n",
            "[nltk_data]   Package wordnet is already up-to-date!\n"
          ]
        },
        {
          "output_type": "execute_result",
          "data": {
            "text/plain": [
              "True"
            ]
          },
          "metadata": {},
          "execution_count": 1
        }
      ]
    },
    {
      "cell_type": "code",
      "source": [
        "from tensorflow.keras.datasets import mnist\n",
        "from matplotlib import pyplot as plt\n",
        "from keras.models import load_model\n",
        "from tensorflow.keras.preprocessing.image import ImageDataGenerator\n",
        "import pandas as pd\n",
        "import numpy as np\n",
        "import tensorflow as tf\n",
        "import keras\n",
        "from keras.models import Sequential\n",
        "from keras.layers import Dense, Dropout, Conv1D, MaxPool1D, GlobalMaxPool1D, Embedding, Activation\n",
        "from tensorflow.keras.preprocessing.sequence import pad_sequences\n",
        "nltk.download('stopwords')\n",
        "import ktrain\n",
        "from ktrain import text\n",
        "from ktrain.text import texts_from_df\n",
        "from keras.preprocessing.text import Tokenizer"
      ],
      "metadata": {
        "id": "5nZqpBvSoXhD",
        "colab": {
          "base_uri": "https://localhost:8080/"
        },
        "outputId": "792d92f6-69a1-4f35-b587-38479bdc9f57"
      },
      "execution_count": null,
      "outputs": [
        {
          "output_type": "stream",
          "name": "stderr",
          "text": [
            "[nltk_data] Downloading package stopwords to /root/nltk_data...\n",
            "[nltk_data]   Package stopwords is already up-to-date!\n"
          ]
        }
      ]
    },
    {
      "cell_type": "code",
      "source": [
        "#Load data\n",
        "path = 'drive/MyDrive/'\n",
        "df = pd.read_csv(path + 'train.csv')\n",
        "test_df = pd.read_csv(path + 'test.csv')\n",
        "sol = pd.read_csv(path + 'sample_submission.csv')"
      ],
      "metadata": {
        "id": "Kg4-MM2uoYGd"
      },
      "execution_count": null,
      "outputs": []
    },
    {
      "cell_type": "code",
      "source": [
        "#Examine overall data structure and contents\n",
        "df.info()"
      ],
      "metadata": {
        "colab": {
          "base_uri": "https://localhost:8080/"
        },
        "id": "kZGL3Iw2pTub",
        "outputId": "e829169e-74d6-4987-e94d-b516cd840489"
      },
      "execution_count": null,
      "outputs": [
        {
          "output_type": "stream",
          "name": "stdout",
          "text": [
            "<class 'pandas.core.frame.DataFrame'>\n",
            "RangeIndex: 7613 entries, 0 to 7612\n",
            "Data columns (total 5 columns):\n",
            " #   Column    Non-Null Count  Dtype \n",
            "---  ------    --------------  ----- \n",
            " 0   id        7613 non-null   int64 \n",
            " 1   keyword   7552 non-null   object\n",
            " 2   location  5080 non-null   object\n",
            " 3   text      7613 non-null   object\n",
            " 4   target    7613 non-null   int64 \n",
            "dtypes: int64(2), object(3)\n",
            "memory usage: 297.5+ KB\n"
          ]
        }
      ]
    },
    {
      "cell_type": "code",
      "source": [
        "df.head(10)"
      ],
      "metadata": {
        "colab": {
          "base_uri": "https://localhost:8080/",
          "height": 363
        },
        "id": "rz2lyQ_Xpz6C",
        "outputId": "8c83dc73-f76a-4a10-fb8b-26c63f98a5b9"
      },
      "execution_count": null,
      "outputs": [
        {
          "output_type": "execute_result",
          "data": {
            "text/plain": [
              "   id keyword location                                               text  \\\n",
              "0   1     NaN      NaN  Our Deeds are the Reason of this #earthquake M...   \n",
              "1   4     NaN      NaN             Forest fire near La Ronge Sask. Canada   \n",
              "2   5     NaN      NaN  All residents asked to 'shelter in place' are ...   \n",
              "3   6     NaN      NaN  13,000 people receive #wildfires evacuation or...   \n",
              "4   7     NaN      NaN  Just got sent this photo from Ruby #Alaska as ...   \n",
              "5   8     NaN      NaN  #RockyFire Update => California Hwy. 20 closed...   \n",
              "6  10     NaN      NaN  #flood #disaster Heavy rain causes flash flood...   \n",
              "7  13     NaN      NaN  I'm on top of the hill and I can see a fire in...   \n",
              "8  14     NaN      NaN  There's an emergency evacuation happening now ...   \n",
              "9  15     NaN      NaN  I'm afraid that the tornado is coming to our a...   \n",
              "\n",
              "   target  \n",
              "0       1  \n",
              "1       1  \n",
              "2       1  \n",
              "3       1  \n",
              "4       1  \n",
              "5       1  \n",
              "6       1  \n",
              "7       1  \n",
              "8       1  \n",
              "9       1  "
            ],
            "text/html": [
              "\n",
              "  <div id=\"df-592594fe-2f04-4d55-a3c7-7df218e599c7\">\n",
              "    <div class=\"colab-df-container\">\n",
              "      <div>\n",
              "<style scoped>\n",
              "    .dataframe tbody tr th:only-of-type {\n",
              "        vertical-align: middle;\n",
              "    }\n",
              "\n",
              "    .dataframe tbody tr th {\n",
              "        vertical-align: top;\n",
              "    }\n",
              "\n",
              "    .dataframe thead th {\n",
              "        text-align: right;\n",
              "    }\n",
              "</style>\n",
              "<table border=\"1\" class=\"dataframe\">\n",
              "  <thead>\n",
              "    <tr style=\"text-align: right;\">\n",
              "      <th></th>\n",
              "      <th>id</th>\n",
              "      <th>keyword</th>\n",
              "      <th>location</th>\n",
              "      <th>text</th>\n",
              "      <th>target</th>\n",
              "    </tr>\n",
              "  </thead>\n",
              "  <tbody>\n",
              "    <tr>\n",
              "      <th>0</th>\n",
              "      <td>1</td>\n",
              "      <td>NaN</td>\n",
              "      <td>NaN</td>\n",
              "      <td>Our Deeds are the Reason of this #earthquake M...</td>\n",
              "      <td>1</td>\n",
              "    </tr>\n",
              "    <tr>\n",
              "      <th>1</th>\n",
              "      <td>4</td>\n",
              "      <td>NaN</td>\n",
              "      <td>NaN</td>\n",
              "      <td>Forest fire near La Ronge Sask. Canada</td>\n",
              "      <td>1</td>\n",
              "    </tr>\n",
              "    <tr>\n",
              "      <th>2</th>\n",
              "      <td>5</td>\n",
              "      <td>NaN</td>\n",
              "      <td>NaN</td>\n",
              "      <td>All residents asked to 'shelter in place' are ...</td>\n",
              "      <td>1</td>\n",
              "    </tr>\n",
              "    <tr>\n",
              "      <th>3</th>\n",
              "      <td>6</td>\n",
              "      <td>NaN</td>\n",
              "      <td>NaN</td>\n",
              "      <td>13,000 people receive #wildfires evacuation or...</td>\n",
              "      <td>1</td>\n",
              "    </tr>\n",
              "    <tr>\n",
              "      <th>4</th>\n",
              "      <td>7</td>\n",
              "      <td>NaN</td>\n",
              "      <td>NaN</td>\n",
              "      <td>Just got sent this photo from Ruby #Alaska as ...</td>\n",
              "      <td>1</td>\n",
              "    </tr>\n",
              "    <tr>\n",
              "      <th>5</th>\n",
              "      <td>8</td>\n",
              "      <td>NaN</td>\n",
              "      <td>NaN</td>\n",
              "      <td>#RockyFire Update =&gt; California Hwy. 20 closed...</td>\n",
              "      <td>1</td>\n",
              "    </tr>\n",
              "    <tr>\n",
              "      <th>6</th>\n",
              "      <td>10</td>\n",
              "      <td>NaN</td>\n",
              "      <td>NaN</td>\n",
              "      <td>#flood #disaster Heavy rain causes flash flood...</td>\n",
              "      <td>1</td>\n",
              "    </tr>\n",
              "    <tr>\n",
              "      <th>7</th>\n",
              "      <td>13</td>\n",
              "      <td>NaN</td>\n",
              "      <td>NaN</td>\n",
              "      <td>I'm on top of the hill and I can see a fire in...</td>\n",
              "      <td>1</td>\n",
              "    </tr>\n",
              "    <tr>\n",
              "      <th>8</th>\n",
              "      <td>14</td>\n",
              "      <td>NaN</td>\n",
              "      <td>NaN</td>\n",
              "      <td>There's an emergency evacuation happening now ...</td>\n",
              "      <td>1</td>\n",
              "    </tr>\n",
              "    <tr>\n",
              "      <th>9</th>\n",
              "      <td>15</td>\n",
              "      <td>NaN</td>\n",
              "      <td>NaN</td>\n",
              "      <td>I'm afraid that the tornado is coming to our a...</td>\n",
              "      <td>1</td>\n",
              "    </tr>\n",
              "  </tbody>\n",
              "</table>\n",
              "</div>\n",
              "      <button class=\"colab-df-convert\" onclick=\"convertToInteractive('df-592594fe-2f04-4d55-a3c7-7df218e599c7')\"\n",
              "              title=\"Convert this dataframe to an interactive table.\"\n",
              "              style=\"display:none;\">\n",
              "        \n",
              "  <svg xmlns=\"http://www.w3.org/2000/svg\" height=\"24px\"viewBox=\"0 0 24 24\"\n",
              "       width=\"24px\">\n",
              "    <path d=\"M0 0h24v24H0V0z\" fill=\"none\"/>\n",
              "    <path d=\"M18.56 5.44l.94 2.06.94-2.06 2.06-.94-2.06-.94-.94-2.06-.94 2.06-2.06.94zm-11 1L8.5 8.5l.94-2.06 2.06-.94-2.06-.94L8.5 2.5l-.94 2.06-2.06.94zm10 10l.94 2.06.94-2.06 2.06-.94-2.06-.94-.94-2.06-.94 2.06-2.06.94z\"/><path d=\"M17.41 7.96l-1.37-1.37c-.4-.4-.92-.59-1.43-.59-.52 0-1.04.2-1.43.59L10.3 9.45l-7.72 7.72c-.78.78-.78 2.05 0 2.83L4 21.41c.39.39.9.59 1.41.59.51 0 1.02-.2 1.41-.59l7.78-7.78 2.81-2.81c.8-.78.8-2.07 0-2.86zM5.41 20L4 18.59l7.72-7.72 1.47 1.35L5.41 20z\"/>\n",
              "  </svg>\n",
              "      </button>\n",
              "      \n",
              "  <style>\n",
              "    .colab-df-container {\n",
              "      display:flex;\n",
              "      flex-wrap:wrap;\n",
              "      gap: 12px;\n",
              "    }\n",
              "\n",
              "    .colab-df-convert {\n",
              "      background-color: #E8F0FE;\n",
              "      border: none;\n",
              "      border-radius: 50%;\n",
              "      cursor: pointer;\n",
              "      display: none;\n",
              "      fill: #1967D2;\n",
              "      height: 32px;\n",
              "      padding: 0 0 0 0;\n",
              "      width: 32px;\n",
              "    }\n",
              "\n",
              "    .colab-df-convert:hover {\n",
              "      background-color: #E2EBFA;\n",
              "      box-shadow: 0px 1px 2px rgba(60, 64, 67, 0.3), 0px 1px 3px 1px rgba(60, 64, 67, 0.15);\n",
              "      fill: #174EA6;\n",
              "    }\n",
              "\n",
              "    [theme=dark] .colab-df-convert {\n",
              "      background-color: #3B4455;\n",
              "      fill: #D2E3FC;\n",
              "    }\n",
              "\n",
              "    [theme=dark] .colab-df-convert:hover {\n",
              "      background-color: #434B5C;\n",
              "      box-shadow: 0px 1px 3px 1px rgba(0, 0, 0, 0.15);\n",
              "      filter: drop-shadow(0px 1px 2px rgba(0, 0, 0, 0.3));\n",
              "      fill: #FFFFFF;\n",
              "    }\n",
              "  </style>\n",
              "\n",
              "      <script>\n",
              "        const buttonEl =\n",
              "          document.querySelector('#df-592594fe-2f04-4d55-a3c7-7df218e599c7 button.colab-df-convert');\n",
              "        buttonEl.style.display =\n",
              "          google.colab.kernel.accessAllowed ? 'block' : 'none';\n",
              "\n",
              "        async function convertToInteractive(key) {\n",
              "          const element = document.querySelector('#df-592594fe-2f04-4d55-a3c7-7df218e599c7');\n",
              "          const dataTable =\n",
              "            await google.colab.kernel.invokeFunction('convertToInteractive',\n",
              "                                                     [key], {});\n",
              "          if (!dataTable) return;\n",
              "\n",
              "          const docLinkHtml = 'Like what you see? Visit the ' +\n",
              "            '<a target=\"_blank\" href=https://colab.research.google.com/notebooks/data_table.ipynb>data table notebook</a>'\n",
              "            + ' to learn more about interactive tables.';\n",
              "          element.innerHTML = '';\n",
              "          dataTable['output_type'] = 'display_data';\n",
              "          await google.colab.output.renderOutput(dataTable, element);\n",
              "          const docLink = document.createElement('div');\n",
              "          docLink.innerHTML = docLinkHtml;\n",
              "          element.appendChild(docLink);\n",
              "        }\n",
              "      </script>\n",
              "    </div>\n",
              "  </div>\n",
              "  "
            ]
          },
          "metadata": {},
          "execution_count": 5
        }
      ]
    },
    {
      "cell_type": "code",
      "source": [
        "df.describe()"
      ],
      "metadata": {
        "colab": {
          "base_uri": "https://localhost:8080/",
          "height": 300
        },
        "id": "FzIJ9QA8prPd",
        "outputId": "5c0d989d-dafe-4fa0-9dd8-5e239c52ec21"
      },
      "execution_count": null,
      "outputs": [
        {
          "output_type": "execute_result",
          "data": {
            "text/plain": [
              "                 id      target\n",
              "count   7613.000000  7613.00000\n",
              "mean    5441.934848     0.42966\n",
              "std     3137.116090     0.49506\n",
              "min        1.000000     0.00000\n",
              "25%     2734.000000     0.00000\n",
              "50%     5408.000000     0.00000\n",
              "75%     8146.000000     1.00000\n",
              "max    10873.000000     1.00000"
            ],
            "text/html": [
              "\n",
              "  <div id=\"df-e6a8a876-a9b3-43d7-a444-c5c13d64f171\">\n",
              "    <div class=\"colab-df-container\">\n",
              "      <div>\n",
              "<style scoped>\n",
              "    .dataframe tbody tr th:only-of-type {\n",
              "        vertical-align: middle;\n",
              "    }\n",
              "\n",
              "    .dataframe tbody tr th {\n",
              "        vertical-align: top;\n",
              "    }\n",
              "\n",
              "    .dataframe thead th {\n",
              "        text-align: right;\n",
              "    }\n",
              "</style>\n",
              "<table border=\"1\" class=\"dataframe\">\n",
              "  <thead>\n",
              "    <tr style=\"text-align: right;\">\n",
              "      <th></th>\n",
              "      <th>id</th>\n",
              "      <th>target</th>\n",
              "    </tr>\n",
              "  </thead>\n",
              "  <tbody>\n",
              "    <tr>\n",
              "      <th>count</th>\n",
              "      <td>7613.000000</td>\n",
              "      <td>7613.00000</td>\n",
              "    </tr>\n",
              "    <tr>\n",
              "      <th>mean</th>\n",
              "      <td>5441.934848</td>\n",
              "      <td>0.42966</td>\n",
              "    </tr>\n",
              "    <tr>\n",
              "      <th>std</th>\n",
              "      <td>3137.116090</td>\n",
              "      <td>0.49506</td>\n",
              "    </tr>\n",
              "    <tr>\n",
              "      <th>min</th>\n",
              "      <td>1.000000</td>\n",
              "      <td>0.00000</td>\n",
              "    </tr>\n",
              "    <tr>\n",
              "      <th>25%</th>\n",
              "      <td>2734.000000</td>\n",
              "      <td>0.00000</td>\n",
              "    </tr>\n",
              "    <tr>\n",
              "      <th>50%</th>\n",
              "      <td>5408.000000</td>\n",
              "      <td>0.00000</td>\n",
              "    </tr>\n",
              "    <tr>\n",
              "      <th>75%</th>\n",
              "      <td>8146.000000</td>\n",
              "      <td>1.00000</td>\n",
              "    </tr>\n",
              "    <tr>\n",
              "      <th>max</th>\n",
              "      <td>10873.000000</td>\n",
              "      <td>1.00000</td>\n",
              "    </tr>\n",
              "  </tbody>\n",
              "</table>\n",
              "</div>\n",
              "      <button class=\"colab-df-convert\" onclick=\"convertToInteractive('df-e6a8a876-a9b3-43d7-a444-c5c13d64f171')\"\n",
              "              title=\"Convert this dataframe to an interactive table.\"\n",
              "              style=\"display:none;\">\n",
              "        \n",
              "  <svg xmlns=\"http://www.w3.org/2000/svg\" height=\"24px\"viewBox=\"0 0 24 24\"\n",
              "       width=\"24px\">\n",
              "    <path d=\"M0 0h24v24H0V0z\" fill=\"none\"/>\n",
              "    <path d=\"M18.56 5.44l.94 2.06.94-2.06 2.06-.94-2.06-.94-.94-2.06-.94 2.06-2.06.94zm-11 1L8.5 8.5l.94-2.06 2.06-.94-2.06-.94L8.5 2.5l-.94 2.06-2.06.94zm10 10l.94 2.06.94-2.06 2.06-.94-2.06-.94-.94-2.06-.94 2.06-2.06.94z\"/><path d=\"M17.41 7.96l-1.37-1.37c-.4-.4-.92-.59-1.43-.59-.52 0-1.04.2-1.43.59L10.3 9.45l-7.72 7.72c-.78.78-.78 2.05 0 2.83L4 21.41c.39.39.9.59 1.41.59.51 0 1.02-.2 1.41-.59l7.78-7.78 2.81-2.81c.8-.78.8-2.07 0-2.86zM5.41 20L4 18.59l7.72-7.72 1.47 1.35L5.41 20z\"/>\n",
              "  </svg>\n",
              "      </button>\n",
              "      \n",
              "  <style>\n",
              "    .colab-df-container {\n",
              "      display:flex;\n",
              "      flex-wrap:wrap;\n",
              "      gap: 12px;\n",
              "    }\n",
              "\n",
              "    .colab-df-convert {\n",
              "      background-color: #E8F0FE;\n",
              "      border: none;\n",
              "      border-radius: 50%;\n",
              "      cursor: pointer;\n",
              "      display: none;\n",
              "      fill: #1967D2;\n",
              "      height: 32px;\n",
              "      padding: 0 0 0 0;\n",
              "      width: 32px;\n",
              "    }\n",
              "\n",
              "    .colab-df-convert:hover {\n",
              "      background-color: #E2EBFA;\n",
              "      box-shadow: 0px 1px 2px rgba(60, 64, 67, 0.3), 0px 1px 3px 1px rgba(60, 64, 67, 0.15);\n",
              "      fill: #174EA6;\n",
              "    }\n",
              "\n",
              "    [theme=dark] .colab-df-convert {\n",
              "      background-color: #3B4455;\n",
              "      fill: #D2E3FC;\n",
              "    }\n",
              "\n",
              "    [theme=dark] .colab-df-convert:hover {\n",
              "      background-color: #434B5C;\n",
              "      box-shadow: 0px 1px 3px 1px rgba(0, 0, 0, 0.15);\n",
              "      filter: drop-shadow(0px 1px 2px rgba(0, 0, 0, 0.3));\n",
              "      fill: #FFFFFF;\n",
              "    }\n",
              "  </style>\n",
              "\n",
              "      <script>\n",
              "        const buttonEl =\n",
              "          document.querySelector('#df-e6a8a876-a9b3-43d7-a444-c5c13d64f171 button.colab-df-convert');\n",
              "        buttonEl.style.display =\n",
              "          google.colab.kernel.accessAllowed ? 'block' : 'none';\n",
              "\n",
              "        async function convertToInteractive(key) {\n",
              "          const element = document.querySelector('#df-e6a8a876-a9b3-43d7-a444-c5c13d64f171');\n",
              "          const dataTable =\n",
              "            await google.colab.kernel.invokeFunction('convertToInteractive',\n",
              "                                                     [key], {});\n",
              "          if (!dataTable) return;\n",
              "\n",
              "          const docLinkHtml = 'Like what you see? Visit the ' +\n",
              "            '<a target=\"_blank\" href=https://colab.research.google.com/notebooks/data_table.ipynb>data table notebook</a>'\n",
              "            + ' to learn more about interactive tables.';\n",
              "          element.innerHTML = '';\n",
              "          dataTable['output_type'] = 'display_data';\n",
              "          await google.colab.output.renderOutput(dataTable, element);\n",
              "          const docLink = document.createElement('div');\n",
              "          docLink.innerHTML = docLinkHtml;\n",
              "          element.appendChild(docLink);\n",
              "        }\n",
              "      </script>\n",
              "    </div>\n",
              "  </div>\n",
              "  "
            ]
          },
          "metadata": {},
          "execution_count": 6
        }
      ]
    },
    {
      "cell_type": "code",
      "source": [
        "sol.head(5)"
      ],
      "metadata": {
        "colab": {
          "base_uri": "https://localhost:8080/",
          "height": 206
        },
        "id": "NZT7e2RlqI-f",
        "outputId": "d90c3536-2bbd-4b6c-fefa-ae4b9a78fe42"
      },
      "execution_count": null,
      "outputs": [
        {
          "output_type": "execute_result",
          "data": {
            "text/plain": [
              "   id  target\n",
              "0   0       0\n",
              "1   2       0\n",
              "2   3       0\n",
              "3   9       0\n",
              "4  11       0"
            ],
            "text/html": [
              "\n",
              "  <div id=\"df-f9fb9d32-ba28-46af-a2fe-ca48ad06e4cb\">\n",
              "    <div class=\"colab-df-container\">\n",
              "      <div>\n",
              "<style scoped>\n",
              "    .dataframe tbody tr th:only-of-type {\n",
              "        vertical-align: middle;\n",
              "    }\n",
              "\n",
              "    .dataframe tbody tr th {\n",
              "        vertical-align: top;\n",
              "    }\n",
              "\n",
              "    .dataframe thead th {\n",
              "        text-align: right;\n",
              "    }\n",
              "</style>\n",
              "<table border=\"1\" class=\"dataframe\">\n",
              "  <thead>\n",
              "    <tr style=\"text-align: right;\">\n",
              "      <th></th>\n",
              "      <th>id</th>\n",
              "      <th>target</th>\n",
              "    </tr>\n",
              "  </thead>\n",
              "  <tbody>\n",
              "    <tr>\n",
              "      <th>0</th>\n",
              "      <td>0</td>\n",
              "      <td>0</td>\n",
              "    </tr>\n",
              "    <tr>\n",
              "      <th>1</th>\n",
              "      <td>2</td>\n",
              "      <td>0</td>\n",
              "    </tr>\n",
              "    <tr>\n",
              "      <th>2</th>\n",
              "      <td>3</td>\n",
              "      <td>0</td>\n",
              "    </tr>\n",
              "    <tr>\n",
              "      <th>3</th>\n",
              "      <td>9</td>\n",
              "      <td>0</td>\n",
              "    </tr>\n",
              "    <tr>\n",
              "      <th>4</th>\n",
              "      <td>11</td>\n",
              "      <td>0</td>\n",
              "    </tr>\n",
              "  </tbody>\n",
              "</table>\n",
              "</div>\n",
              "      <button class=\"colab-df-convert\" onclick=\"convertToInteractive('df-f9fb9d32-ba28-46af-a2fe-ca48ad06e4cb')\"\n",
              "              title=\"Convert this dataframe to an interactive table.\"\n",
              "              style=\"display:none;\">\n",
              "        \n",
              "  <svg xmlns=\"http://www.w3.org/2000/svg\" height=\"24px\"viewBox=\"0 0 24 24\"\n",
              "       width=\"24px\">\n",
              "    <path d=\"M0 0h24v24H0V0z\" fill=\"none\"/>\n",
              "    <path d=\"M18.56 5.44l.94 2.06.94-2.06 2.06-.94-2.06-.94-.94-2.06-.94 2.06-2.06.94zm-11 1L8.5 8.5l.94-2.06 2.06-.94-2.06-.94L8.5 2.5l-.94 2.06-2.06.94zm10 10l.94 2.06.94-2.06 2.06-.94-2.06-.94-.94-2.06-.94 2.06-2.06.94z\"/><path d=\"M17.41 7.96l-1.37-1.37c-.4-.4-.92-.59-1.43-.59-.52 0-1.04.2-1.43.59L10.3 9.45l-7.72 7.72c-.78.78-.78 2.05 0 2.83L4 21.41c.39.39.9.59 1.41.59.51 0 1.02-.2 1.41-.59l7.78-7.78 2.81-2.81c.8-.78.8-2.07 0-2.86zM5.41 20L4 18.59l7.72-7.72 1.47 1.35L5.41 20z\"/>\n",
              "  </svg>\n",
              "      </button>\n",
              "      \n",
              "  <style>\n",
              "    .colab-df-container {\n",
              "      display:flex;\n",
              "      flex-wrap:wrap;\n",
              "      gap: 12px;\n",
              "    }\n",
              "\n",
              "    .colab-df-convert {\n",
              "      background-color: #E8F0FE;\n",
              "      border: none;\n",
              "      border-radius: 50%;\n",
              "      cursor: pointer;\n",
              "      display: none;\n",
              "      fill: #1967D2;\n",
              "      height: 32px;\n",
              "      padding: 0 0 0 0;\n",
              "      width: 32px;\n",
              "    }\n",
              "\n",
              "    .colab-df-convert:hover {\n",
              "      background-color: #E2EBFA;\n",
              "      box-shadow: 0px 1px 2px rgba(60, 64, 67, 0.3), 0px 1px 3px 1px rgba(60, 64, 67, 0.15);\n",
              "      fill: #174EA6;\n",
              "    }\n",
              "\n",
              "    [theme=dark] .colab-df-convert {\n",
              "      background-color: #3B4455;\n",
              "      fill: #D2E3FC;\n",
              "    }\n",
              "\n",
              "    [theme=dark] .colab-df-convert:hover {\n",
              "      background-color: #434B5C;\n",
              "      box-shadow: 0px 1px 3px 1px rgba(0, 0, 0, 0.15);\n",
              "      filter: drop-shadow(0px 1px 2px rgba(0, 0, 0, 0.3));\n",
              "      fill: #FFFFFF;\n",
              "    }\n",
              "  </style>\n",
              "\n",
              "      <script>\n",
              "        const buttonEl =\n",
              "          document.querySelector('#df-f9fb9d32-ba28-46af-a2fe-ca48ad06e4cb button.colab-df-convert');\n",
              "        buttonEl.style.display =\n",
              "          google.colab.kernel.accessAllowed ? 'block' : 'none';\n",
              "\n",
              "        async function convertToInteractive(key) {\n",
              "          const element = document.querySelector('#df-f9fb9d32-ba28-46af-a2fe-ca48ad06e4cb');\n",
              "          const dataTable =\n",
              "            await google.colab.kernel.invokeFunction('convertToInteractive',\n",
              "                                                     [key], {});\n",
              "          if (!dataTable) return;\n",
              "\n",
              "          const docLinkHtml = 'Like what you see? Visit the ' +\n",
              "            '<a target=\"_blank\" href=https://colab.research.google.com/notebooks/data_table.ipynb>data table notebook</a>'\n",
              "            + ' to learn more about interactive tables.';\n",
              "          element.innerHTML = '';\n",
              "          dataTable['output_type'] = 'display_data';\n",
              "          await google.colab.output.renderOutput(dataTable, element);\n",
              "          const docLink = document.createElement('div');\n",
              "          docLink.innerHTML = docLinkHtml;\n",
              "          element.appendChild(docLink);\n",
              "        }\n",
              "      </script>\n",
              "    </div>\n",
              "  </div>\n",
              "  "
            ]
          },
          "metadata": {},
          "execution_count": 7
        }
      ]
    },
    {
      "cell_type": "markdown",
      "source": [
        "##Text Preprocessing\n",
        "Implement helper functions to:\n",
        "1. Lemmatize\n",
        "2. Tokenize\n",
        "3. Remove punctuation and stopwords"
      ],
      "metadata": {
        "id": "Xct0R5fBtF53"
      }
    },
    {
      "cell_type": "code",
      "source": [
        "#Define functions for Lemmatize, remove stopwords, punctuation, and tokenize.\n",
        "w_tok = nltk.tokenize.word_tokenize\n",
        "STEM = nltk.PorterStemmer()\n",
        "LEMM = nltk.WordNetLemmatizer()\n",
        "\n",
        "def tokenize(text, lowercase=True):\n",
        "    if lowercase:\n",
        "        text = text.lower()\n",
        "        return w_tok(text)\n",
        "\n",
        "def stem(tokens):\n",
        "    return [STEM.stem(token) for token in tokens]\n",
        "\n",
        "def lemmatize(tokens):\n",
        "    lemm = []\n",
        "    for token in tokens:\n",
        "        if isinstance(token, str):\n",
        "            lemm.append(LEMM.lemmatize(token)) # treats token like a noun\n",
        "        else: # assume a tuple of (word, pos)\n",
        "            lemm.append(LEMM.lemmatize(*token))\n",
        "    return lemm\n",
        "\n",
        "def remove_stopwords(tokens, stopwords = None):\n",
        "    if stopwords is None:\n",
        "        stopwords = nltk.corpus.stopwords.words(\"english\")\n",
        "    return [token for token in tokens if token not in stopwords]\n",
        "\n",
        "def remove_punctuation(tokens):\n",
        "    return [token for token in tokens if token not in string.punctuation]\n",
        "\n",
        "def remove_links(tokens):\n",
        "    return [ t for t in tokens if not t.startswith(\"http://\") and not t.startswith(\"https://\")]"
      ],
      "metadata": {
        "id": "c8viWXkC1RIG"
      },
      "execution_count": null,
      "outputs": []
    },
    {
      "cell_type": "code",
      "source": [
        "text_train = []\n",
        "for i, t in enumerate(df['text']):\n",
        "    text = t\n",
        "    prep_text = tokenize(text)\n",
        "    prep_text = remove_stopwords(prep_text)\n",
        "    prep_text = remove_punctuation(prep_text)\n",
        "    prep_text = lemmatize(prep_text)\n",
        "    text_train.append(' '.join(prep_text))"
      ],
      "metadata": {
        "id": "kUBF5v5p2mz3"
      },
      "execution_count": null,
      "outputs": []
    },
    {
      "cell_type": "code",
      "source": [
        "df['Prep_Text'] = text_train\n",
        "target = ['Non-Disaster', 'Disaster']\n",
        "df['target'].describe()"
      ],
      "metadata": {
        "id": "iImdXPCX3oyB",
        "colab": {
          "base_uri": "https://localhost:8080/"
        },
        "outputId": "6d4e1aa2-ea6a-495a-ac1a-1f07b48c38a5"
      },
      "execution_count": null,
      "outputs": [
        {
          "output_type": "execute_result",
          "data": {
            "text/plain": [
              "count    7613.00000\n",
              "mean        0.42966\n",
              "std         0.49506\n",
              "min         0.00000\n",
              "25%         0.00000\n",
              "50%         0.00000\n",
              "75%         1.00000\n",
              "max         1.00000\n",
              "Name: target, dtype: float64"
            ]
          },
          "metadata": {},
          "execution_count": 10
        }
      ]
    },
    {
      "cell_type": "code",
      "source": [
        "disaster = df[df['target'] == 1]\n",
        "non_disaster = df[df['target'] == 0].sample(n = 3271)"
      ],
      "metadata": {
        "id": "RO9xPlosgpJy"
      },
      "execution_count": null,
      "outputs": []
    },
    {
      "cell_type": "code",
      "source": [
        "total = pd.concat([disaster, non_disaster])"
      ],
      "metadata": {
        "id": "n_gwe3lkhKir"
      },
      "execution_count": null,
      "outputs": []
    },
    {
      "cell_type": "code",
      "source": [
        "print(df.head(5))\n",
        "print(total.describe())"
      ],
      "metadata": {
        "colab": {
          "base_uri": "https://localhost:8080/"
        },
        "id": "85G5wuA8r9n_",
        "outputId": "5dd03b51-8f83-4db4-ac05-279986657b8d"
      },
      "execution_count": null,
      "outputs": [
        {
          "output_type": "stream",
          "name": "stdout",
          "text": [
            "   id keyword location                                               text  \\\n",
            "0   1     NaN      NaN  Our Deeds are the Reason of this #earthquake M...   \n",
            "1   4     NaN      NaN             Forest fire near La Ronge Sask. Canada   \n",
            "2   5     NaN      NaN  All residents asked to 'shelter in place' are ...   \n",
            "3   6     NaN      NaN  13,000 people receive #wildfires evacuation or...   \n",
            "4   7     NaN      NaN  Just got sent this photo from Ruby #Alaska as ...   \n",
            "\n",
            "   target                                          Prep_Text  \n",
            "0       1         deed reason earthquake may allah forgive u  \n",
            "1       1              forest fire near la ronge sask canada  \n",
            "2       1  resident asked 'shelter place notified officer...  \n",
            "3       1  13,000 people receive wildfire evacuation orde...  \n",
            "4       1  got sent photo ruby alaska smoke wildfire pour...  \n",
            "                 id       target\n",
            "count   6542.000000  6542.000000\n",
            "mean    5492.246255     0.500000\n",
            "std     3137.986065     0.500038\n",
            "min        1.000000     0.000000\n",
            "25%     2785.250000     0.000000\n",
            "50%     5496.500000     0.500000\n",
            "75%     8176.750000     1.000000\n",
            "max    10873.000000     1.000000\n"
          ]
        }
      ]
    },
    {
      "cell_type": "code",
      "source": [
        "t = text.Transformer('distilbert-base-uncased', maxlen = 512, class_names = target)"
      ],
      "metadata": {
        "colab": {
          "base_uri": "https://localhost:8080/",
          "height": 17,
          "referenced_widgets": [
            "0fd48b6289614b25a8c3ee79b92fa09b",
            "596503e1ff50437fb4440278ed058694",
            "435466f1e4aa4b98b999b9713af73022",
            "5d964d75764140878f34f54d84056ef7",
            "11cc924d040740f893896ec2abe31d0f",
            "d4e4fe22c8444bf18b0e378e6fa6c185",
            "15355f460fea47c3bcb5c66f24c1d32e",
            "29e99cb6ba664f24a1005c00bd4b920d",
            "afbd0fcb49734cc1a5a16b96c7c57092",
            "cf84180420d846e1a5fc75c57db1b072",
            "8bac43a4c8e94fd3b63532473b40a4d4"
          ]
        },
        "id": "nFa49OfXeWz2",
        "outputId": "7fe68f19-52bb-4085-a748-137adf40171f"
      },
      "execution_count": null,
      "outputs": [
        {
          "output_type": "display_data",
          "data": {
            "text/plain": [
              "Downloading:   0%|          | 0.00/483 [00:00<?, ?B/s]"
            ],
            "application/vnd.jupyter.widget-view+json": {
              "version_major": 2,
              "version_minor": 0,
              "model_id": "0fd48b6289614b25a8c3ee79b92fa09b"
            },
            "application/json": {
              "n": 0,
              "total": 483,
              "elapsed": 0.0843193531036377,
              "ncols": null,
              "nrows": null,
              "prefix": "Downloading",
              "ascii": false,
              "unit": "B",
              "unit_scale": true,
              "rate": null,
              "bar_format": null,
              "postfix": null,
              "unit_divisor": 1024,
              "initial": 0,
              "colour": null
            }
          },
          "metadata": {}
        }
      ]
    },
    {
      "cell_type": "code",
      "source": [
        "train, val, preprocess = texts_from_df(total, 'Prep_Text', label_columns = ['target'], val_df = None, max_features=20000, maxlen=512, val_pct=0.1, ngram_range=1, preprocess_mode='distilbert', verbose=1)"
      ],
      "metadata": {
        "colab": {
          "base_uri": "https://localhost:8080/",
          "height": 505,
          "referenced_widgets": [
            "85ec2303e07847e8be346d6becb1e012",
            "192ebc53a819424391272d9e5c94f39f",
            "4070440c68e74899b5fd4fb0b602b2a4",
            "8a452ea7a0d24c4f9c4647eeb59042d0",
            "71577ef773fe426ca84e8be212a367f0",
            "c7ac0a2401424be39f84dde3a4df24d8",
            "3ba26a6754c64263bd4b6776edc8a150",
            "f7267a6c408c4345b883582468cf07aa",
            "7c01594af50c47bd844418407f54c011",
            "f42db2fdd58f4a3492a7064b917274ad",
            "66b2b11c714c45df87feaf77ce9676fb",
            "a6fa1d899a064ce5b8c6a6d84c09c7ae",
            "7caaa40014f841efa8eab4d0f4baed4d",
            "1c041f7fdc0a44e58ed09e69ce62c763",
            "f616e05510074aea8e4e43d71f99bad4",
            "b794dd5603ce44468098089e40858f10",
            "96af8cf4631b417bb42ce0c041287061",
            "f23879b2fbbb497bb1af042f3af4dc0e",
            "5b4952db78dd4a31a2df1f8bae20de93",
            "6b8dce453f194f3aa45bb21e0e4e86a0",
            "e3fcaebe46a24735bb25a9e4e9e2a753",
            "7157129c07624d84b188a3963243d959",
            "9e2448e2114f4449897438aee864be50",
            "13f5f0bf458a463fbc51295241531d7a",
            "7e32e1e6d3b1447eb02343f82795ffc1",
            "615800fd712740d9a65b3dbcccadda81",
            "ec830d5eb98e41edaf7f828f45447a88",
            "000acc67b0f84bd18863a7fe69f18468",
            "828634eab54446d6b2b58a73ed2bcd52",
            "cd349557d2f9458dae7f008238a3057c",
            "5aa2d033f9854f4baa7b93ab990bd219",
            "64fed1adb49f48f1aed389e5c475d64d",
            "a8f6e84bda91437685e13a88f3e7f5f5"
          ]
        },
        "id": "WzVmktVjfr7x",
        "outputId": "316a8cb0-662b-43ef-c312-d39317abf2e6"
      },
      "execution_count": null,
      "outputs": [
        {
          "output_type": "stream",
          "name": "stdout",
          "text": [
            "['not_target', 'target']\n",
            "      not_target  target\n",
            "2144         0.0     1.0\n",
            "2448         0.0     1.0\n",
            "3584         1.0     0.0\n",
            "7150         0.0     1.0\n",
            "6341         0.0     1.0\n",
            "['not_target', 'target']\n",
            "      not_target  target\n",
            "6249         1.0     0.0\n",
            "1637         0.0     1.0\n",
            "2895         1.0     0.0\n",
            "5978         1.0     0.0\n",
            "5367         1.0     0.0\n",
            "preprocessing train...\n",
            "language: en\n",
            "train sequence lengths:\n",
            "\tmean : 11\n",
            "\t95percentile : 17\n",
            "\t99percentile : 19\n"
          ]
        },
        {
          "output_type": "display_data",
          "data": {
            "text/plain": [
              "Downloading:   0%|          | 0.00/28.0 [00:00<?, ?B/s]"
            ],
            "application/vnd.jupyter.widget-view+json": {
              "version_major": 2,
              "version_minor": 0,
              "model_id": "85ec2303e07847e8be346d6becb1e012"
            },
            "application/json": {
              "n": 0,
              "total": 28,
              "elapsed": 0.018549203872680664,
              "ncols": null,
              "nrows": null,
              "prefix": "Downloading",
              "ascii": false,
              "unit": "B",
              "unit_scale": true,
              "rate": null,
              "bar_format": null,
              "postfix": null,
              "unit_divisor": 1024,
              "initial": 0,
              "colour": null
            }
          },
          "metadata": {}
        },
        {
          "output_type": "display_data",
          "data": {
            "text/plain": [
              "Downloading:   0%|          | 0.00/226k [00:00<?, ?B/s]"
            ],
            "application/vnd.jupyter.widget-view+json": {
              "version_major": 2,
              "version_minor": 0,
              "model_id": "a6fa1d899a064ce5b8c6a6d84c09c7ae"
            },
            "application/json": {
              "n": 0,
              "total": 231508,
              "elapsed": 0.01898980140686035,
              "ncols": null,
              "nrows": null,
              "prefix": "Downloading",
              "ascii": false,
              "unit": "B",
              "unit_scale": true,
              "rate": null,
              "bar_format": null,
              "postfix": null,
              "unit_divisor": 1024,
              "initial": 0,
              "colour": null
            }
          },
          "metadata": {}
        },
        {
          "output_type": "display_data",
          "data": {
            "text/plain": [
              "Downloading:   0%|          | 0.00/455k [00:00<?, ?B/s]"
            ],
            "application/vnd.jupyter.widget-view+json": {
              "version_major": 2,
              "version_minor": 0,
              "model_id": "9e2448e2114f4449897438aee864be50"
            },
            "application/json": {
              "n": 0,
              "total": 466062,
              "elapsed": 0.024437665939331055,
              "ncols": null,
              "nrows": null,
              "prefix": "Downloading",
              "ascii": false,
              "unit": "B",
              "unit_scale": true,
              "rate": null,
              "bar_format": null,
              "postfix": null,
              "unit_divisor": 1024,
              "initial": 0,
              "colour": null
            }
          },
          "metadata": {}
        },
        {
          "output_type": "display_data",
          "data": {
            "text/plain": [
              "<IPython.core.display.HTML object>"
            ],
            "text/html": [
              "\n",
              "<style>\n",
              "    /* Turns off some styling */\n",
              "    progress {\n",
              "        /* gets rid of default border in Firefox and Opera. */\n",
              "        border: none;\n",
              "        /* Needs to be in here for Safari polyfill so background images work as expected. */\n",
              "        background-size: auto;\n",
              "    }\n",
              "    progress:not([value]), progress:not([value])::-webkit-progress-bar {\n",
              "        background: repeating-linear-gradient(45deg, #7e7e7e, #7e7e7e 10px, #5c5c5c 10px, #5c5c5c 20px);\n",
              "    }\n",
              "    .progress-bar-interrupted, .progress-bar-interrupted::-webkit-progress-bar {\n",
              "        background: #F44336;\n",
              "    }\n",
              "</style>\n"
            ]
          },
          "metadata": {}
        },
        {
          "output_type": "display_data",
          "data": {
            "text/plain": [
              "<IPython.core.display.HTML object>"
            ],
            "text/html": [
              ""
            ]
          },
          "metadata": {}
        },
        {
          "output_type": "stream",
          "name": "stdout",
          "text": [
            "Is Multi-Label? False\n",
            "preprocessing test...\n",
            "language: en\n",
            "test sequence lengths:\n",
            "\tmean : 11\n",
            "\t95percentile : 17\n",
            "\t99percentile : 19\n"
          ]
        },
        {
          "output_type": "display_data",
          "data": {
            "text/plain": [
              "<IPython.core.display.HTML object>"
            ],
            "text/html": [
              "\n",
              "<style>\n",
              "    /* Turns off some styling */\n",
              "    progress {\n",
              "        /* gets rid of default border in Firefox and Opera. */\n",
              "        border: none;\n",
              "        /* Needs to be in here for Safari polyfill so background images work as expected. */\n",
              "        background-size: auto;\n",
              "    }\n",
              "    progress:not([value]), progress:not([value])::-webkit-progress-bar {\n",
              "        background: repeating-linear-gradient(45deg, #7e7e7e, #7e7e7e 10px, #5c5c5c 10px, #5c5c5c 20px);\n",
              "    }\n",
              "    .progress-bar-interrupted, .progress-bar-interrupted::-webkit-progress-bar {\n",
              "        background: #F44336;\n",
              "    }\n",
              "</style>\n"
            ]
          },
          "metadata": {}
        },
        {
          "output_type": "display_data",
          "data": {
            "text/plain": [
              "<IPython.core.display.HTML object>"
            ],
            "text/html": [
              ""
            ]
          },
          "metadata": {}
        }
      ]
    },
    {
      "cell_type": "code",
      "source": [
        "model = preprocess.get_classifier()\n",
        "learner = ktrain.get_learner(model, train_data = train, val_data = val, batch_size = 16)"
      ],
      "metadata": {
        "id": "HwQYwJMSiB5L"
      },
      "execution_count": null,
      "outputs": []
    },
    {
      "cell_type": "code",
      "source": [
        "learner.lr_find(max_epochs = 10)"
      ],
      "metadata": {
        "colab": {
          "base_uri": "https://localhost:8080/"
        },
        "id": "LRWe47AaiQah",
        "outputId": "5a2afcdc-e9de-44b0-803f-9007e0dda5e2"
      },
      "execution_count": null,
      "outputs": [
        {
          "output_type": "stream",
          "name": "stdout",
          "text": [
            "simulating training for different learning rates... this may take a few moments...\n",
            "Epoch 1/10\n",
            "367/367 [==============================] - 343s 908ms/step - loss: 0.6885 - accuracy: 0.5363\n",
            "Epoch 2/10\n",
            "367/367 [==============================] - 332s 906ms/step - loss: 0.5697 - accuracy: 0.7384\n",
            "Epoch 3/10\n",
            "367/367 [==============================] - 332s 905ms/step - loss: 0.4211 - accuracy: 0.8152\n",
            "Epoch 4/10\n",
            "367/367 [==============================] - 332s 905ms/step - loss: 0.3977 - accuracy: 0.8285\n",
            "Epoch 5/10\n",
            "367/367 [==============================] - 332s 905ms/step - loss: 0.5519 - accuracy: 0.6941\n",
            "Epoch 6/10\n",
            "367/367 [==============================] - 330s 900ms/step - loss: 0.6944 - accuracy: 0.5014\n",
            "Epoch 7/10\n",
            "367/367 [==============================] - 327s 890ms/step - loss: 0.7050 - accuracy: 0.5001\n",
            "Epoch 8/10\n",
            "367/367 [==============================] - 326s 887ms/step - loss: 0.7022 - accuracy: 0.4923\n",
            "Epoch 9/10\n",
            "367/367 [==============================] - 326s 887ms/step - loss: 0.7249 - accuracy: 0.5032\n",
            "Epoch 10/10\n",
            "367/367 [==============================] - 89s 240ms/step - loss: 74.4396 - accuracy: 0.5003\n",
            "\n",
            "\n",
            "done.\n",
            "Please invoke the Learner.lr_plot() method to visually inspect the loss plot to help identify the maximal learning rate associated with falling loss.\n"
          ]
        }
      ]
    },
    {
      "cell_type": "code",
      "source": [
        "learner.lr_plot()"
      ],
      "metadata": {
        "colab": {
          "base_uri": "https://localhost:8080/",
          "height": 283
        },
        "id": "4FeWLzCyj89j",
        "outputId": "7c710464-5e5b-4a53-d45c-3589f0758b9e"
      },
      "execution_count": null,
      "outputs": [
        {
          "output_type": "display_data",
          "data": {
            "text/plain": [
              "<Figure size 432x288 with 1 Axes>"
            ],
            "image/png": "[encoded data removed]"
          },
          "metadata": {
            "needs_background": "light"
          }
        }
      ]
    },
    {
      "cell_type": "code",
      "source": [
        "history=learner.autofit(1e-4,checkpoint_folder='checkpoint',epochs=12, early_stopping=True)"
      ],
      "metadata": {
        "colab": {
          "base_uri": "https://localhost:8080/"
        },
        "id": "u_kdqQ6gjWCG",
        "outputId": "277b8085-e3e1-45e0-b63d-25cbf161e546"
      },
      "execution_count": null,
      "outputs": [
        {
          "output_type": "stream",
          "name": "stdout",
          "text": [
            "\n",
            "\n",
            "begin training using triangular learning rate policy with max lr of 0.0001...\n",
            "Epoch 1/12\n",
            "368/368 [==============================] - 345s 915ms/step - loss: 0.4910 - accuracy: 0.7744 - val_loss: 0.4058 - val_accuracy: 0.8183\n",
            "Epoch 2/12\n",
            "368/368 [==============================] - ETA: 0s - loss: 0.3446 - accuracy: 0.8563Restoring model weights from the end of the best epoch: 1.\n",
            "368/368 [==============================] - 336s 910ms/step - loss: 0.3446 - accuracy: 0.8563 - val_loss: 0.4443 - val_accuracy: 0.8153\n",
            "Epoch 2: early stopping\n",
            "Weights from best epoch have been loaded into model.\n"
          ]
        }
      ]
    },
    {
      "cell_type": "code",
      "source": [
        "learner.save_model(\"drive/MyDrive/distilbertmodel_learner\")"
      ],
      "metadata": {
        "id": "7N-o9Xh5jYJk"
      },
      "execution_count": null,
      "outputs": []
    },
    {
      "cell_type": "code",
      "source": [
        "predictor = ktrain.get_predictor(learner.model, preproc=preprocess)"
      ],
      "metadata": {
        "id": "E19MAk8Ij_oC"
      },
      "execution_count": null,
      "outputs": []
    },
    {
      "cell_type": "code",
      "source": [
        "validation = learner.validate(val_data = val, print_report = True)"
      ],
      "metadata": {
        "colab": {
          "base_uri": "https://localhost:8080/"
        },
        "id": "O9jdFSpNkEiG",
        "outputId": "80a5f653-e514-41ee-b11a-b1feaaaccde5"
      },
      "execution_count": null,
      "outputs": [
        {
          "output_type": "stream",
          "name": "stdout",
          "text": [
            "              precision    recall  f1-score   support\n",
            "\n",
            "           0       0.77      0.89      0.83       323\n",
            "           1       0.88      0.74      0.81       332\n",
            "\n",
            "    accuracy                           0.82       655\n",
            "   macro avg       0.83      0.82      0.82       655\n",
            "weighted avg       0.83      0.82      0.82       655\n",
            "\n"
          ]
        }
      ]
    },
    {
      "cell_type": "code",
      "source": [
        "test = test_df['text']"
      ],
      "metadata": {
        "id": "hfjZHuaM45wL"
      },
      "execution_count": null,
      "outputs": []
    },
    {
      "cell_type": "code",
      "source": [
        "text_test = []\n",
        "for i, t in enumerate(test):\n",
        "    text = t\n",
        "    prep_text = tokenize(text)\n",
        "    prep_text = remove_stopwords(prep_text)\n",
        "    prep_text = remove_punctuation(prep_text)\n",
        "    prep_text = lemmatize(prep_text)\n",
        "    text_test.append(' '.join(prep_text))"
      ],
      "metadata": {
        "id": "P9-7lfEG5hKM"
      },
      "execution_count": null,
      "outputs": []
    },
    {
      "cell_type": "code",
      "source": [
        "test_df['Prep_Text'] = text_test"
      ],
      "metadata": {
        "id": "15EQttPz6Hf3"
      },
      "execution_count": null,
      "outputs": []
    },
    {
      "cell_type": "code",
      "source": [
        "print(test_df.head(5))"
      ],
      "metadata": {
        "colab": {
          "base_uri": "https://localhost:8080/"
        },
        "id": "ugPmHRRC6T4W",
        "outputId": "abea455b-9478-4196-9a70-7dba3fb33914"
      },
      "execution_count": null,
      "outputs": [
        {
          "output_type": "stream",
          "name": "stdout",
          "text": [
            "   id keyword location                                               text  \\\n",
            "0   0     NaN      NaN                 Just happened a terrible car crash   \n",
            "1   2     NaN      NaN  Heard about #earthquake is different cities, s...   \n",
            "2   3     NaN      NaN  there is a forest fire at spot pond, geese are...   \n",
            "3   9     NaN      NaN           Apocalypse lighting. #Spokane #wildfires   \n",
            "4  11     NaN      NaN      Typhoon Soudelor kills 28 in China and Taiwan   \n",
            "\n",
            "                                           Prep_Text  \n",
            "0                        happened terrible car crash  \n",
            "1  heard earthquake different city stay safe ever...  \n",
            "2  forest fire spot pond goose fleeing across str...  \n",
            "3               apocalypse lighting spokane wildfire  \n",
            "4              typhoon soudelor kill 28 china taiwan  \n"
          ]
        }
      ]
    },
    {
      "cell_type": "code",
      "source": [
        "p_dis = []\n",
        "for i, text in enumerate(test_df['Prep_Text']):\n",
        "    probs = predictor.predict(text, return_proba = True)\n",
        "    p_dis.append(probs[1])"
      ],
      "metadata": {
        "id": "vv_P5hTk5WJF"
      },
      "execution_count": null,
      "outputs": []
    },
    {
      "cell_type": "code",
      "source": [
        "results = pd.DataFrame(columns = ['id', 'target'])\n",
        "results['id'] = test_df['id']\n",
        "print(results.head(5))"
      ],
      "metadata": {
        "colab": {
          "base_uri": "https://localhost:8080/"
        },
        "id": "Uz09bwJR_XLp",
        "outputId": "55c333fe-1079-4e82-8354-73a32e308502"
      },
      "execution_count": null,
      "outputs": [
        {
          "output_type": "stream",
          "name": "stdout",
          "text": [
            "   id target\n",
            "0   0    NaN\n",
            "1   2    NaN\n",
            "2   3    NaN\n",
            "3   9    NaN\n",
            "4  11    NaN\n"
          ]
        }
      ]
    },
    {
      "cell_type": "code",
      "source": [
        "labels = [round(p) for p in p_dis]\n",
        "results['target'] = labels"
      ],
      "metadata": {
        "id": "w3Lqbg-i8t9P"
      },
      "execution_count": null,
      "outputs": []
    },
    {
      "cell_type": "code",
      "source": [
        "print(results.head(5))"
      ],
      "metadata": {
        "colab": {
          "base_uri": "https://localhost:8080/"
        },
        "id": "FgbTFRE2ByWv",
        "outputId": "451f49ee-c612-4576-a7de-d151cd18deb3"
      },
      "execution_count": null,
      "outputs": [
        {
          "output_type": "stream",
          "name": "stdout",
          "text": [
            "   id  target\n",
            "0   0       1\n",
            "1   2       1\n",
            "2   3       1\n",
            "3   9       1\n",
            "4  11       1\n"
          ]
        }
      ]
    },
    {
      "cell_type": "code",
      "source": [
        "results.to_csv('drive/MyDrive/submissions.csv', header = True, index = False)"
      ],
      "metadata": {
        "id": "XfCjQA8mB4uZ"
      },
      "execution_count": null,
      "outputs": []
    },
    {
      "cell_type": "code",
      "source": [
        "vocab_size = 4000\n",
        "sent_length = 200\n",
        "#one_hot = [one_hot(words,vocab_size) for words in X_train]\n",
        "#emb=pad_sequences(one_hot, padding='pre', maxlen=sent_length)\n",
        "for line in df['Prep_Text']:\n",
        "    one_hot = [one_hot(line, vocab_size)]\n",
        "    emb=pad_sequences(one_hot, padding='pre', maxlen=sent_length)"
      ],
      "metadata": {
        "id": "Upf5uMDPYzTK"
      },
      "execution_count": null,
      "outputs": []
    },
    {
      "cell_type": "code",
      "source": [
        "targets = df['target']\n",
        "X_train,X_test,Y_train,Y_test = train_test_split(list(df['Prep_Text']),targets,test_size=0.2,random_state=28)"
      ],
      "metadata": {
        "id": "Plyk8Nr1ryZD"
      },
      "execution_count": null,
      "outputs": []
    },
    {
      "cell_type": "markdown",
      "source": [
        "The preprocessing results show cleaned texts. Once again, we'll take a brief look at the histograms of the words per category."
      ],
      "metadata": {
        "id": "497tUIaPL68B"
      }
    },
    {
      "cell_type": "code",
      "source": [
        "def build_model(bl, max_len=512):\n",
        "    input_word_ids = tf.keras.Input(shape=(max_len,), dtype=tf.int32, name='input_word_ids')\n",
        "    input_mask = tf.keras.Input(shape=(max_len,), dtype=tf.int32, name='input_mask')\n",
        "    segment_ids = tf.keras.Input(shape=(max_len,), dtype=tf.int32, name='segment_ids')\n",
        "    \n",
        "    _, sequence_output = bl([input_word_ids,input_mask,segment_ids])\n",
        "    clf_output = sequence_output[:, 0, :]\n",
        "    clf_output_ = tf.keras.layers.Reshape((32,24))(clf_output)\n",
        "    \n",
        "    hidden = tf.keras.layers.Dense(128,activation='relu')(clf_output)\n",
        "    hidden2 = tf.keras.layers.Dense(64,activation='relu')(hidden)\n",
        "    drop = tf.keras.layers.Dropout(0.1)(hidden2)\n",
        "    \n",
        "    lstm = tf.keras.layers.Bidirectional(tf.keras.layers.LSTM(128,\n",
        "                                kernel_regularizer=tf.keras.regularizers.L2(0.001),\n",
        "                                                             return_sequences=True))(clf_output_)\n",
        "    drop2 = tf.keras.layers.Dropout(0.1)(lstm)\n",
        "    cnn = tf.keras.layers.Conv1D(64,5,\n",
        "                                kernel_regularizer=tf.keras.regularizers.L2(0.001))(drop2)\n",
        "    max_pool = tf.keras.layers.MaxPooling1D(25)(cnn)\n",
        "    flat = tf.keras.layers.Flatten(data_format='channels_last')(max_pool)\n",
        "    \n",
        "    concat = tf.keras.layers.Concatenate()([drop,flat])\n",
        "    output_target = tf.keras.layers.Dense(1,activation='sigmoid')(concat)\n",
        "    \n",
        "    return tf.keras.Model(inputs=[input_word_ids,input_mask,segment_ids],outputs=output_target)"
      ],
      "metadata": {
        "id": "priMEiqlQ2Ao"
      },
      "execution_count": null,
      "outputs": []
    },
    {
      "cell_type": "code",
      "source": [
        "model = build_model(df['Prep_Text'], max_len = 100)\n",
        "model.summary()"
      ],
      "metadata": {
        "id": "GSkJl15Pps33"
      },
      "execution_count": null,
      "outputs": []
    },
    {
      "cell_type": "code",
      "source": [
        "model.compile(optimizer=tf.keras.optimizers.Adam(lr=2e-6),loss='binary_crossentropy',metrics=['accuracy',tf.keras.metrics.AUC()])"
      ],
      "metadata": {
        "id": "ApqiUQHxqt0h"
      },
      "execution_count": null,
      "outputs": []
    },
    {
      "cell_type": "markdown",
      "source": [
        "def cnn_model():\n",
        "    model = Sequential()\n",
        "    model.add(Conv2D(32, (3, 3), activation='relu', kernel_initializer='he_uniform', input_shape=(28, 28, 1)))\n",
        "    model.add(MaxPooling2D((2, 2)))\n",
        "    model.add(Flatten())\n",
        "    model.add(Dense(100, activation='relu', kernel_initializer='he_uniform'))\n",
        "    model.add(Dense(10, activation='softmax'))\n",
        "\n",
        "    op = tf.keras.optimizers.Adam(lr = 0.001, decay = 0.00001)\n",
        "    model.compile(optimizer=op, loss='categorical_crossentropy', metrics = ['accuracy'])\n",
        "    return model\n",
        "\n",
        "# Initiate model and fit\n",
        "model = cnn_model()\n",
        "model.fit(train[:5000], train['target'][:5000], epochs = 15, validation_data = (train[5000:], train['target'][5000:]))\n",
        "model.save('MaModel_CNN.h5')"
      ],
      "metadata": {
        "id": "F30vy8BplmQr"
      }
    },
    {
      "cell_type": "code",
      "source": [
        "train_input = bert_encoding(X_train, tokenizer, max_len=100)\n",
        "test_input = bert_encoding(X_test, tokenizer, max_len=100)\n",
        "train_history = model.fit(train_input,Y_train,epochs=5,batch_size=16,validation_split=0.2)"
      ],
      "metadata": {
        "id": "q0as5daMqxA8"
      },
      "execution_count": null,
      "outputs": []
    },
    {
      "cell_type": "code",
      "source": [
        "  def label_permute_compare(ytdf, yh, n=5):\n",
        "    \"\"\"\n",
        "    ytdf: labels dataframe object\n",
        "    yp: clustering label prediction output\n",
        "    Returns permuted label order and accuracy. \n",
        "    Example output: (3, 4, 1, 2, 0), 0.74 \n",
        "    \"\"\"\n",
        "# your code here\n",
        "    labels = ['business', 'tech', 'politics', 'sport', 'entertainment']\n",
        "    str_perms = list(itertools.permutations(labels, n)) #permutations\n",
        "    str_perms = np.asarray(str_perms) \n",
        "\n",
        "    try_labels = [str_perms[:, x] for x in yh]\n",
        "    try_labels = np.asarray(try_labels)[:, None]\n",
        "    count = [np.count_nonzero((try_labels[:, :, x]) == ytdf) for x in range(len(str_perms))]\n",
        "    acc_idx = count.index(max(count))\n",
        "    acc = max(count) / len(ytdf)\n",
        "    order = tuple([labels.index(x) for x in str_perms[acc_idx]])\n",
        "    \n",
        "    return order, acc"
      ],
      "metadata": {
        "id": "zG4-MIwzYKqj"
      },
      "execution_count": null,
      "outputs": []
    },
    {
      "cell_type": "code",
      "source": [
        "#Initiate Vectorizer\n",
        "tfidf = TfidfVectorizer(min_df = 2, max_df = 0.95, norm = 'l2', stop_words = 'english')\n",
        "tfidf_train = tfidf.fit_transform(train['Prep_Text'])\n",
        "\n",
        "#Generate Model\n",
        "mod = NMF(n_components = len(x), init = 'nndsvda', solver = 'mu', beta_loss = 'kullback-leibler', l1_ratio = 0.5, random_state = 1234)\n",
        "mat = mod.fit_transform(tfidf_train)"
      ],
      "metadata": {
        "id": "xGTLA206T09w"
      },
      "execution_count": null,
      "outputs": []
    },
    {
      "cell_type": "code",
      "source": [
        "#Prediction output\n",
        "yh_train = mat.argmax(axis = 1)"
      ],
      "metadata": {
        "id": "G4JXdkGSUs2z"
      },
      "execution_count": null,
      "outputs": []
    },
    {
      "cell_type": "code",
      "source": [
        "labelorder, acc = label_permute_compare(train, yh_train)"
      ],
      "metadata": {
        "id": "odYr3QBxYZhL"
      },
      "execution_count": null,
      "outputs": []
    },
    {
      "cell_type": "markdown",
      "source": [
        "The classification assigns labels randomly. The code below is to match the correct labels to each cluster, as well as create a confusion matrix for better visualization."
      ],
      "metadata": {
        "id": "JBJnl8a6YweW"
      }
    },
    {
      "cell_type": "code",
      "source": [
        "#Create Confusion Matrix for better visualization\n",
        "cluster_labels = {0: 'tech', 1: 'politics', 2: 'entertainment', 3: 'sport', 4: 'entertainment'}\n",
        "\n",
        "label_num = [labels[i] for i in labelorder]\n",
        "yh = [label_num[i] for i in yh_train]\n",
        "conf_matrix = confusion_matrix(train['Category'], yh)\n",
        "conf_matrix = sns.heatmap(conf_matrix, annot = True, cmap = 'Blues', fmt = 'g', linewidths = 0.1)\n",
        "conf_matrix.set_title('Confusion Matrix\\n\\n');\n",
        "conf_matrix.set_xlabel('\\nPredicted');\n",
        "conf_matrix.set_ylabel('Actual');"
      ],
      "metadata": {
        "id": "4Tc7zqFMauY9"
      },
      "execution_count": null,
      "outputs": []
    },
    {
      "cell_type": "code",
      "source": [
        "#Verify\n",
        "print(label_num)\n",
        "print(yh_train[:10])\n",
        "print(train['Category'][:10])"
      ],
      "metadata": {
        "id": "ClEjLe49ukSQ"
      },
      "execution_count": null,
      "outputs": []
    },
    {
      "cell_type": "markdown",
      "source": [
        "This verifies that we obtained the correct cluster labels. The predicted output integers represent the indices of the cluster labels. We can create a dictionary to better keep track of cluster numbers and the matching category names."
      ],
      "metadata": {
        "id": "22rmMD6EANlx"
      }
    },
    {
      "cell_type": "markdown",
      "source": [
        "Now we will validate using the test data and see how the model performs."
      ],
      "metadata": {
        "id": "i1sJDMqDgj_j"
      }
    },
    {
      "cell_type": "code",
      "source": [
        "text_test = []\n",
        "for i, t in enumerate(test['Text']):\n",
        "    text = t\n",
        "    prep_text = tokenize(text)\n",
        "    prep_text = remove_stopwords(prep_text)\n",
        "    prep_text = remove_punctuation(prep_text)\n",
        "    prep_text = lemmatize(prep_text)\n",
        "    text_test.append(' '.join(prep_text))"
      ],
      "metadata": {
        "id": "mei0-czcu1Od"
      },
      "execution_count": null,
      "outputs": []
    },
    {
      "cell_type": "code",
      "source": [
        "test['Prep_Text'] = text_test"
      ],
      "metadata": {
        "id": "i5LCYe5Lu1Od"
      },
      "execution_count": null,
      "outputs": []
    },
    {
      "cell_type": "code",
      "source": [
        "print(test.head(5))"
      ],
      "metadata": {
        "id": "cl8MjoFawS-C"
      },
      "execution_count": null,
      "outputs": []
    },
    {
      "cell_type": "code",
      "source": [
        "tfidf_test = tfidf.transform(test['Prep_Text'])\n",
        "mat_test = mod.transform(tfidf_test)"
      ],
      "metadata": {
        "id": "V-OM3tfAvI8N"
      },
      "execution_count": null,
      "outputs": []
    },
    {
      "cell_type": "code",
      "source": [
        "yh_test = mat_test.argmax(axis = 1)\n",
        "test['y_hat'] = yh_test\n",
        "test_results = pd.DataFrame(columns = ['ArticleId', 'Category'])\n",
        "test_results['ArticleId'] = test['ArticleId']\n",
        "yh_cat = test['y_hat'].apply(lambda i: cluster_labels[i])\n",
        "test_results['Category'] = yh_cat\n",
        "print(test.tail(10))"
      ],
      "metadata": {
        "id": "Ncll2MKUwGfA"
      },
      "execution_count": null,
      "outputs": []
    },
    {
      "cell_type": "code",
      "source": [
        "valuemf = test_results.Category.isin(train.Category).astype(int)\n",
        "count = 0\n",
        "for i in range(len(test_results)):\n",
        "    if test_results.Category[i] == train.Category[i]:\n",
        "        count += 1\n",
        "\n",
        "print(count/len(test_results))"
      ],
      "metadata": {
        "id": "az0xQyBkG5u8"
      },
      "execution_count": null,
      "outputs": []
    },
    {
      "cell_type": "code",
      "source": [
        "test_results.head()"
      ],
      "metadata": {
        "id": "IjSNB2Z556ke"
      },
      "execution_count": null,
      "outputs": []
    },
    {
      "cell_type": "markdown",
      "source": [
        "We have the test dataset and its articles classified to their predicted categories. "
      ],
      "metadata": {
        "id": "E9uTSuqMyIGd"
      }
    },
    {
      "cell_type": "markdown",
      "source": [
        "#Part 2: Use the Movies data from Week 3\n",
        "Now we will compare performance when Unsupervised ML technique is used on a more appropriate dataset, namely the movies and user ratings datset."
      ],
      "metadata": {
        "id": "yGTNhjkBzeue"
      }
    },
    {
      "cell_type": "code",
      "source": [
        "#Load data\n",
        "train = pd.read_csv(path + 'train.csv')\n",
        "test = pd.read_csv(path + 'test.csv')\n",
        "MV_users = pd.read_csv(path + 'users.csv')\n",
        "MV_movies = pd.read_csv(path + 'movies.csv')"
      ],
      "metadata": {
        "id": "NUkDqFTX2aax"
      },
      "execution_count": null,
      "outputs": []
    },
    {
      "cell_type": "code",
      "source": [
        "from collections import namedtuple\n",
        "Data = namedtuple('Data', ['users','movies','train','test'])\n",
        "data = Data(MV_users, MV_movies, train, test)"
      ],
      "metadata": {
        "id": "gar9WWRNM3Ua"
      },
      "execution_count": null,
      "outputs": []
    },
    {
      "cell_type": "code",
      "source": [
        "data.train.info()"
      ],
      "metadata": {
        "id": "aKDYjEDMLJ9t"
      },
      "execution_count": null,
      "outputs": []
    },
    {
      "cell_type": "code",
      "source": [
        "data.train.head()"
      ],
      "metadata": {
        "id": "wHvQu6_UMbpc"
      },
      "execution_count": null,
      "outputs": []
    },
    {
      "cell_type": "code",
      "source": [
        "data.movies.head()"
      ],
      "metadata": {
        "id": "yrlzTTUmMhkj"
      },
      "execution_count": null,
      "outputs": []
    },
    {
      "cell_type": "code",
      "source": [
        "from scipy.sparse import coo_matrix, csr_matrix"
      ],
      "metadata": {
        "id": "3KxxMWbWQyVd"
      },
      "execution_count": null,
      "outputs": []
    },
    {
      "cell_type": "code",
      "source": [
        "#Calculate Movie-Feature Matrix\n",
        "genres_data = data.movies.drop((['mID', 'year', 'title']), 1, inplace = False)\n",
        "genres_data = np.reshape(genres_data, (3883, 18))\n",
        "\n",
        "#Calculate Rating-Matrix (in case for later use)\n",
        "allusers = list(data.users['uID'])\n",
        "allmovies = list(data.movies['mID'])\n",
        "genres = list(data.movies.columns.drop(['mID', 'title', 'year']))\n",
        "mid2idx = dict(zip(data.movies.mID,list(range(len(data.movies)))))\n",
        "uid2idx = dict(zip(data.users.uID,list(range(len(data.users)))))\n",
        "\n",
        "ind_movie = [mid2idx[x] for x in data.train.mID]\n",
        "ind_user = [uid2idx[x] for x in data.train.uID]\n",
        "rating_train = list(train.rating)\n",
        "rating_matrix = np.array(coo_matrix((rating_train, (ind_user, ind_movie)), shape = (len(allusers), len(allmovies))).toarray())"
      ],
      "metadata": {
        "id": "gHHw9__mNFbu"
      },
      "execution_count": null,
      "outputs": []
    },
    {
      "cell_type": "code",
      "source": [
        "n_users = len(data.train.mID)\n",
        "n_items = len(allmovies)\n",
        "\n",
        "df = pd.DataFrame(rating_matrix, columns = allmovies)"
      ],
      "metadata": {
        "id": "1oKjfxFkPN23"
      },
      "execution_count": null,
      "outputs": []
    },
    {
      "cell_type": "code",
      "source": [
        "#Observe overall distribution of ratings by looking at histogram.\n",
        "train.rating.hist(grid = True)"
      ],
      "metadata": {
        "id": "6b6b6tpVOmGb"
      },
      "execution_count": null,
      "outputs": []
    },
    {
      "cell_type": "code",
      "source": [
        "ratings_df = data.train\n",
        "n_users = len(ratings_df['uID'].unique())\n",
        "n_movies = len(ratings_df['mID'].unique())\n",
        "R_shape = (n_users, n_movies)\n",
        "\n",
        "X = ratings_df[['uID', 'mID']].values\n",
        "y = ratings_df['rating'].values\n",
        "print(X.shape)\n",
        "print((y.shape))"
      ],
      "metadata": {
        "id": "TJ_xoRtaRq5K"
      },
      "execution_count": null,
      "outputs": []
    },
    {
      "cell_type": "code",
      "source": [
        "from scipy import sparse\n",
        "\n",
        "def ToDense(X, y, shape):\n",
        "    row = X[:, 0]\n",
        "    col = X[:, 1]\n",
        "    data = y\n",
        "    matrix_sparse = sparse.csr_matrix((data, (row, col)), shape = (shape[0]+1, shape[0]+1))  # sparse matrix in compressed format (CSR)\n",
        "    R = matrix_sparse.todense()   \n",
        "    R = R[1:,1:]                  \n",
        "    R = np.asarray(R)        \n",
        "    return R\n",
        "\n",
        "R = ToDense(X, y, R_shape)\n",
        "print(R)\n",
        "print(R.shape)"
      ],
      "metadata": {
        "id": "BcVdZ4nSS6ON"
      },
      "execution_count": null,
      "outputs": []
    },
    {
      "cell_type": "code",
      "source": [
        "print(len(R.nonzero()[0]) / float(R.shape[0] * R.shape[1]))"
      ],
      "metadata": {
        "id": "4I-AkQrWVkj0"
      },
      "execution_count": null,
      "outputs": []
    },
    {
      "cell_type": "markdown",
      "source": [
        "Sparsity is about a proportion of 0.0192, or 1.92%."
      ],
      "metadata": {
        "id": "YEoMI4KrTSxz"
      }
    },
    {
      "cell_type": "markdown",
      "source": [
        "Now we'll use NMF from scikit-learn to generate the models."
      ],
      "metadata": {
        "id": "2MOCGwhfWapF"
      }
    },
    {
      "cell_type": "code",
      "source": [
        "mod = NMF(n_components = 18)\n",
        "mod.fit(R)\n",
        "theta = mod.transform(R)\n",
        "latent_f = mod.components_.T"
      ],
      "metadata": {
        "id": "OGMjltxQcdUh"
      },
      "execution_count": null,
      "outputs": []
    },
    {
      "cell_type": "code",
      "source": [
        "Rhat = latent_f.dot(theta.T)\n",
        "Rhat = Rhat.T"
      ],
      "metadata": {
        "id": "s2u1gsrncrVY"
      },
      "execution_count": null,
      "outputs": []
    },
    {
      "cell_type": "code",
      "source": [
        "X_train, X_test, y_train, y_test = train_test_split(X, y, test_size = 0.33)"
      ],
      "metadata": {
        "id": "g8NxGW6wicN_"
      },
      "execution_count": null,
      "outputs": []
    },
    {
      "cell_type": "code",
      "source": [
        "Rtrain = ToDense(X_train, y_train, R_shape)\n",
        "Rtest = ToDense(X_test, y_test, R_shape)"
      ],
      "metadata": {
        "id": "3IjtIF67iutt"
      },
      "execution_count": null,
      "outputs": []
    },
    {
      "cell_type": "code",
      "source": [
        "print(Rtrain, Rtrain.shape)\n",
        "print(Rtest, Rtest.shape)"
      ],
      "metadata": {
        "id": "RBLSuueBjRzF"
      },
      "execution_count": null,
      "outputs": []
    },
    {
      "cell_type": "markdown",
      "source": [
        "Moving on to a familiar process where we define parameters to generate NMF model."
      ],
      "metadata": {
        "id": "OalJi-6gjVf-"
      }
    },
    {
      "cell_type": "code",
      "source": [
        "est = NMF(n_components = 18, init = 'nndsvda', solver = 'mu', beta_loss = 'kullback-leibler', l1_ratio = 0.5, random_state = 1234)"
      ],
      "metadata": {
        "id": "jc-os8jMjhdT"
      },
      "execution_count": null,
      "outputs": []
    },
    {
      "cell_type": "code",
      "source": [
        "from sklearn.metrics import mean_squared_error\n",
        "\n",
        "def RMSE(p, t):\n",
        "   p = p[t.nonzero()].flatten()\n",
        "   t = t[t.nonzero()].flatten()\n",
        "   return np.sqrt(mean_squared_error(p, t))"
      ],
      "metadata": {
        "id": "_b_9OtZvkYvs"
      },
      "execution_count": null,
      "outputs": []
    },
    {
      "cell_type": "markdown",
      "source": [
        "Upon brief overview and observation of the results, the most noticeable point, despite the task being an appropriate supervised machine learning one with predetermined labels, is the fact that there are too many missing entries in the movie ratings. In order to generate predictions for empty ratings, the algorithm must build upon a dense matrix rather than sparse, which I have attempted to do above. However, the number of nonzero datapoints available are too small relative to the hundreds of thousands of entries, causing the model to underfit the data for prediction. A way to improve this is to aggregate both user-user and item-item similarity and somehow incorporate this as factors belonging to the same parameter."
      ],
      "metadata": {
        "id": "z9-m-2_uk5--"
      }
    },
    {
      "cell_type": "code",
      "source": [],
      "metadata": {
        "id": "_eRjqsiimgjL"
      },
      "execution_count": null,
      "outputs": []
    }
  ]
}